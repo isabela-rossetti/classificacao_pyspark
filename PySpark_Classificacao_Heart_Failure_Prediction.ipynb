{
  "nbformat": 4,
  "nbformat_minor": 0,
  "metadata": {
    "colab": {
      "provenance": [],
      "collapsed_sections": [
        "-VYiuYBitT_W",
        "92KU5Fr7vbFR",
        "heLb6F_4v2N6",
        "1yxBIkGbwD6I",
        "r9hq49w6wM0E",
        "4jM6wmzNtTsl",
        "E51hdw9D1QQG",
        "KzXqXtTVGvlR",
        "TscaNHovE9Bh",
        "dHI2galDWRjo",
        "od_iDtyAC23A",
        "ZJHaOYX8DM6w",
        "hvW3UfJazIer",
        "89X50OKYzOeN",
        "a2Sizr0zRHAz",
        "l7h4d1Bm3vGU",
        "B8fymEWzoqXF",
        "eWT6Ybqd6I7y",
        "_zyH-rsYWZs6",
        "_2GX8n8JWgKj",
        "9ZN71CARTL_o"
      ],
      "include_colab_link": true
    },
    "kernelspec": {
      "name": "python3",
      "display_name": "Python 3"
    },
    "language_info": {
      "name": "python"
    }
  },
  "cells": [
    {
      "cell_type": "markdown",
      "metadata": {
        "id": "view-in-github",
        "colab_type": "text"
      },
      "source": [
        "<a href=\"https://colab.research.google.com/github/isabela-rossetti/classificacao_pyspark/blob/main/PySpark_Classificacao_Heart_Failure_Prediction.ipynb\" target=\"_parent\"><img src=\"https://colab.research.google.com/assets/colab-badge.svg\" alt=\"Open In Colab\"/></a>"
      ]
    },
    {
      "cell_type": "markdown",
      "source": [
        "## **Preparando o ambiente para utilizar o PySpark**"
      ],
      "metadata": {
        "id": "-VYiuYBitT_W"
      }
    },
    {
      "cell_type": "markdown",
      "source": [
        "### **Instalando o Java**"
      ],
      "metadata": {
        "id": "92KU5Fr7vbFR"
      }
    },
    {
      "cell_type": "markdown",
      "source": [
        "O Apache Spark depende de outros sistemas, portanto, antes do Spark é preciso instalar as dependências. Primeiro, deve-se instalar o java"
      ],
      "metadata": {
        "id": "IX_whX7tudF1"
      }
    },
    {
      "cell_type": "code",
      "execution_count": null,
      "metadata": {
        "id": "CzlKrPTjtG1x"
      },
      "outputs": [],
      "source": [
        "!apt-get install openjdk-8-jdk-headless -qq > /dev/null"
      ]
    },
    {
      "cell_type": "markdown",
      "source": [
        "### **Instalando o Apache Spark**"
      ],
      "metadata": {
        "id": "heLb6F_4v2N6"
      }
    },
    {
      "cell_type": "markdown",
      "source": [
        "Em seguida, é preciso fazer o download do Spark, e, também, do hadoop, pois o Apache Spark roda sob o HDFS em sua máquina (no caso, na máquina virtual do Google Colab)"
      ],
      "metadata": {
        "id": "vm1tKyRcu4k_"
      }
    },
    {
      "cell_type": "code",
      "source": [
        "# Fazendo download\n",
        "!wget -q https://archive.apache.org/dist/spark/spark-3.1.2/spark-3.1.2-bin-hadoop2.7.tgz\n",
        "\n",
        "# Descompactando os arquivos\n",
        "!tar xf spark-3.1.2-bin-hadoop2.7.tgz"
      ],
      "metadata": {
        "id": "V_vW2VKRvNee"
      },
      "execution_count": null,
      "outputs": []
    },
    {
      "cell_type": "markdown",
      "source": [
        "### **Configurando o ambiente**"
      ],
      "metadata": {
        "id": "1yxBIkGbwD6I"
      }
    },
    {
      "cell_type": "markdown",
      "source": [
        "Agora é necessário dizer para o sistema onde encontrar o Java e o Spark"
      ],
      "metadata": {
        "id": "tlAVX6VZwwTl"
      }
    },
    {
      "cell_type": "code",
      "source": [
        "# Importando a biblioteca os\n",
        "import os\n",
        "\n",
        "# Definindo a variável de ambiente do Java\n",
        "os.environ[\"JAVA_HOME\"] = \"/usr/lib/jvm/java-8-openjdk-amd64\"\n",
        "\n",
        "# Definindo a variável de ambiente do Spark\n",
        "os.environ[\"SPARK_HOME\"] = \"/content/spark-3.1.2-bin-hadoop2.7\""
      ],
      "metadata": {
        "id": "wXbSqJX-xtbc"
      },
      "execution_count": null,
      "outputs": []
    },
    {
      "cell_type": "markdown",
      "source": [
        "A seguir, instalar a biblioteca findspark que vai permitir importar pacotes necessários para o funcionamento do pyspark\n",
        "\n"
      ],
      "metadata": {
        "id": "C5mzwT-kyCS_"
      }
    },
    {
      "cell_type": "code",
      "source": [
        "# instalando a findspark\n",
        "!pip install -q findspark"
      ],
      "metadata": {
        "id": "0GuIDF0kvZ4d"
      },
      "execution_count": null,
      "outputs": []
    },
    {
      "cell_type": "code",
      "source": [
        "#importando a findspark\n",
        "import findspark\n",
        "\n",
        "# iniciando o findspark\n",
        "findspark.init()"
      ],
      "metadata": {
        "id": "t6D_kgUSyBzx"
      },
      "execution_count": null,
      "outputs": []
    },
    {
      "cell_type": "markdown",
      "source": [
        "## **Iniciando o PySpark**"
      ],
      "metadata": {
        "id": "r9hq49w6wM0E"
      }
    },
    {
      "cell_type": "markdown",
      "source": [
        "Agora é preciso abrir ums sessão Spark para poder trabalhar com este FrameWork."
      ],
      "metadata": {
        "id": "_78SZCzX06ZA"
      }
    },
    {
      "cell_type": "code",
      "source": [
        "# importando as bibliotecas necessárias\n",
        "from pyspark import *\n",
        "from pyspark.sql import *\n",
        "from pyspark.sql import SparkSession\n"
      ],
      "metadata": {
        "id": "KMmSadwyXN-H"
      },
      "execution_count": null,
      "outputs": []
    },
    {
      "cell_type": "code",
      "source": [
        "# iniciando o spark context\n",
        "sc = SparkSession.builder.master('local[*]').getOrCreate()\n",
        "\n",
        "# Verificando se a sessão foi criada\n",
        "sc"
      ],
      "metadata": {
        "id": "qEDpAYxS1Lkt",
        "colab": {
          "base_uri": "https://localhost:8080/"
        },
        "outputId": "7cb8c36f-12bd-413c-ddb1-cf74b305927c"
      },
      "execution_count": null,
      "outputs": [
        {
          "output_type": "execute_result",
          "data": {
            "text/plain": [
              "<pyspark.sql.session.SparkSession at 0x7fe01f5c5640>"
            ],
            "text/html": [
              "\n",
              "            <div>\n",
              "                <p><b>SparkSession - in-memory</b></p>\n",
              "                \n",
              "        <div>\n",
              "            <p><b>SparkContext</b></p>\n",
              "\n",
              "            <p><a href=\"http://999d9313e294:4040\">Spark UI</a></p>\n",
              "\n",
              "            <dl>\n",
              "              <dt>Version</dt>\n",
              "                <dd><code>v3.1.2</code></dd>\n",
              "              <dt>Master</dt>\n",
              "                <dd><code>local[*]</code></dd>\n",
              "              <dt>AppName</dt>\n",
              "                <dd><code>pyspark-shell</code></dd>\n",
              "            </dl>\n",
              "        </div>\n",
              "        \n",
              "            </div>\n",
              "        "
            ]
          },
          "metadata": {},
          "execution_count": 7
        }
      ]
    },
    {
      "cell_type": "markdown",
      "source": [
        "## **Ingestão dos dados para o Apache Spark**"
      ],
      "metadata": {
        "id": "4jM6wmzNtTsl"
      }
    },
    {
      "cell_type": "markdown",
      "source": [
        "### **Configurando API Kaggle**"
      ],
      "metadata": {
        "id": "MHArZFYvTuDb"
      }
    },
    {
      "cell_type": "code",
      "source": [
        "!pip install kaggle --upgrade"
      ],
      "metadata": {
        "id": "GoESZIYIETMq",
        "colab": {
          "base_uri": "https://localhost:8080/"
        },
        "outputId": "8cba6e64-446f-4e02-de91-d17c279263e7"
      },
      "execution_count": null,
      "outputs": [
        {
          "output_type": "stream",
          "name": "stdout",
          "text": [
            "Looking in indexes: https://pypi.org/simple, https://us-python.pkg.dev/colab-wheels/public/simple/\n",
            "Requirement already satisfied: kaggle in /usr/local/lib/python3.8/dist-packages (1.5.12)\n",
            "Requirement already satisfied: requests in /usr/local/lib/python3.8/dist-packages (from kaggle) (2.23.0)\n",
            "Requirement already satisfied: certifi in /usr/local/lib/python3.8/dist-packages (from kaggle) (2022.9.24)\n",
            "Requirement already satisfied: python-slugify in /usr/local/lib/python3.8/dist-packages (from kaggle) (7.0.0)\n",
            "Requirement already satisfied: urllib3 in /usr/local/lib/python3.8/dist-packages (from kaggle) (1.24.3)\n",
            "Requirement already satisfied: python-dateutil in /usr/local/lib/python3.8/dist-packages (from kaggle) (2.8.2)\n",
            "Requirement already satisfied: six>=1.10 in /usr/local/lib/python3.8/dist-packages (from kaggle) (1.15.0)\n",
            "Requirement already satisfied: tqdm in /usr/local/lib/python3.8/dist-packages (from kaggle) (4.64.1)\n",
            "Requirement already satisfied: text-unidecode>=1.3 in /usr/local/lib/python3.8/dist-packages (from python-slugify->kaggle) (1.3)\n",
            "Requirement already satisfied: idna<3,>=2.5 in /usr/local/lib/python3.8/dist-packages (from requests->kaggle) (2.10)\n",
            "Requirement already satisfied: chardet<4,>=3.0.2 in /usr/local/lib/python3.8/dist-packages (from requests->kaggle) (3.0.4)\n"
          ]
        }
      ]
    },
    {
      "cell_type": "markdown",
      "source": [
        "Para criar a API Kaggle, acessar a conta pessoal, ir nas configurações, procurar pelo botão \"Create New API Token\". Um arquivo no formato JSON chamado \"kaggle\" será baixado.\n"
      ],
      "metadata": {
        "id": "3myqqQmZU13O"
      }
    },
    {
      "cell_type": "code",
      "source": [
        "# Selecionar o arquivo kaggle.json baixado no passo anterior\n",
        "from google.colab import files\n",
        "files.upload()"
      ],
      "metadata": {
        "id": "SjUbtwx1ELAL"
      },
      "execution_count": null,
      "outputs": []
    },
    {
      "cell_type": "code",
      "source": [
        "!mkdir -p ~/.kaggle\n",
        "!cp kaggle.json ~/.kaggle/\n",
        "!chmod 600 ~/.kaggle/kaggle.json\n",
        "!ls ~/.kaggle"
      ],
      "metadata": {
        "colab": {
          "base_uri": "https://localhost:8080/"
        },
        "id": "VTqIMA0kEe_A",
        "outputId": "891721ce-72f1-4eba-9441-10289241b489"
      },
      "execution_count": null,
      "outputs": [
        {
          "output_type": "stream",
          "name": "stdout",
          "text": [
            "kaggle.json\n"
          ]
        }
      ]
    },
    {
      "cell_type": "code",
      "source": [
        "import kaggle"
      ],
      "metadata": {
        "id": "PNGD64gjF6eU"
      },
      "execution_count": null,
      "outputs": []
    },
    {
      "cell_type": "code",
      "source": [
        "from kaggle.api.kaggle_api_extended import KaggleApi"
      ],
      "metadata": {
        "id": "anf9rEIGSB41"
      },
      "execution_count": null,
      "outputs": []
    },
    {
      "cell_type": "code",
      "source": [
        "api = KaggleApi()\n",
        "api.authenticate()"
      ],
      "metadata": {
        "id": "AYa-onQiSRhz"
      },
      "execution_count": null,
      "outputs": []
    },
    {
      "cell_type": "code",
      "source": [
        "# Para baixar o dataset, copiar a URL da página que contém os dados e manter somente o que vem após o \"datasets/\"\n",
        "# https://www.kaggle.com/datasets/andrewmvd/heart-failure-clinical-data\n",
        "api.dataset_download_file('andrewmvd/heart-failure-clinical-data',\n",
        "                          file_name = 'heart_failure_clinical_records_dataset.csv')"
      ],
      "metadata": {
        "colab": {
          "base_uri": "https://localhost:8080/"
        },
        "id": "eibzf3zZSZ9L",
        "outputId": "37acf921-ca9a-445c-b1a3-c3561094d430"
      },
      "execution_count": null,
      "outputs": [
        {
          "output_type": "execute_result",
          "data": {
            "text/plain": [
              "True"
            ]
          },
          "metadata": {},
          "execution_count": 14
        }
      ]
    },
    {
      "cell_type": "code",
      "source": [
        " # Carregando o conjunto de dados\n",
        "df = (sc.read\n",
        "      .format('csv')\n",
        "      .option('inferSchema',True)\n",
        "      .option('delimiter',',')\n",
        "      .option('header',True)\n",
        "      .option('encoding','UTF-8')\n",
        "      .load('/content/heart_failure_clinical_records_dataset.csv')\n",
        ")\n",
        "\n",
        "# Olhando o dataset\n",
        "df.show()"
      ],
      "metadata": {
        "colab": {
          "base_uri": "https://localhost:8080/"
        },
        "id": "LYcuF0jJTUW0",
        "outputId": "8c99ffb3-8d9a-4674-dace-d8cda8efc811"
      },
      "execution_count": null,
      "outputs": [
        {
          "output_type": "stream",
          "name": "stdout",
          "text": [
            "+----+-------+------------------------+--------+-----------------+-------------------+---------+----------------+------------+---+-------+----+-----------+\n",
            "| age|anaemia|creatinine_phosphokinase|diabetes|ejection_fraction|high_blood_pressure|platelets|serum_creatinine|serum_sodium|sex|smoking|time|DEATH_EVENT|\n",
            "+----+-------+------------------------+--------+-----------------+-------------------+---------+----------------+------------+---+-------+----+-----------+\n",
            "|75.0|      0|                     582|       0|               20|                  1| 265000.0|             1.9|         130|  1|      0|   4|          1|\n",
            "|55.0|      0|                    7861|       0|               38|                  0|263358.03|             1.1|         136|  1|      0|   6|          1|\n",
            "|65.0|      0|                     146|       0|               20|                  0| 162000.0|             1.3|         129|  1|      1|   7|          1|\n",
            "|50.0|      1|                     111|       0|               20|                  0| 210000.0|             1.9|         137|  1|      0|   7|          1|\n",
            "|65.0|      1|                     160|       1|               20|                  0| 327000.0|             2.7|         116|  0|      0|   8|          1|\n",
            "|90.0|      1|                      47|       0|               40|                  1| 204000.0|             2.1|         132|  1|      1|   8|          1|\n",
            "|75.0|      1|                     246|       0|               15|                  0| 127000.0|             1.2|         137|  1|      0|  10|          1|\n",
            "|60.0|      1|                     315|       1|               60|                  0| 454000.0|             1.1|         131|  1|      1|  10|          1|\n",
            "|65.0|      0|                     157|       0|               65|                  0|263358.03|             1.5|         138|  0|      0|  10|          1|\n",
            "|80.0|      1|                     123|       0|               35|                  1| 388000.0|             9.4|         133|  1|      1|  10|          1|\n",
            "|75.0|      1|                      81|       0|               38|                  1| 368000.0|             4.0|         131|  1|      1|  10|          1|\n",
            "|62.0|      0|                     231|       0|               25|                  1| 253000.0|             0.9|         140|  1|      1|  10|          1|\n",
            "|45.0|      1|                     981|       0|               30|                  0| 136000.0|             1.1|         137|  1|      0|  11|          1|\n",
            "|50.0|      1|                     168|       0|               38|                  1| 276000.0|             1.1|         137|  1|      0|  11|          1|\n",
            "|49.0|      1|                      80|       0|               30|                  1| 427000.0|             1.0|         138|  0|      0|  12|          0|\n",
            "|82.0|      1|                     379|       0|               50|                  0|  47000.0|             1.3|         136|  1|      0|  13|          1|\n",
            "|87.0|      1|                     149|       0|               38|                  0| 262000.0|             0.9|         140|  1|      0|  14|          1|\n",
            "|45.0|      0|                     582|       0|               14|                  0| 166000.0|             0.8|         127|  1|      0|  14|          1|\n",
            "|70.0|      1|                     125|       0|               25|                  1| 237000.0|             1.0|         140|  0|      0|  15|          1|\n",
            "|48.0|      1|                     582|       1|               55|                  0|  87000.0|             1.9|         121|  0|      0|  15|          1|\n",
            "+----+-------+------------------------+--------+-----------------+-------------------+---------+----------------+------------+---+-------+----+-----------+\n",
            "only showing top 20 rows\n",
            "\n"
          ]
        }
      ]
    },
    {
      "cell_type": "code",
      "source": [
        "# Verificando o Schema\n",
        "df.printSchema()"
      ],
      "metadata": {
        "colab": {
          "base_uri": "https://localhost:8080/"
        },
        "id": "scLfv8EO1t53",
        "outputId": "ead1bf2a-2dd8-426f-c5fd-d22af72ed53d"
      },
      "execution_count": null,
      "outputs": [
        {
          "output_type": "stream",
          "name": "stdout",
          "text": [
            "root\n",
            " |-- age: double (nullable = true)\n",
            " |-- anaemia: integer (nullable = true)\n",
            " |-- creatinine_phosphokinase: integer (nullable = true)\n",
            " |-- diabetes: integer (nullable = true)\n",
            " |-- ejection_fraction: integer (nullable = true)\n",
            " |-- high_blood_pressure: integer (nullable = true)\n",
            " |-- platelets: double (nullable = true)\n",
            " |-- serum_creatinine: double (nullable = true)\n",
            " |-- serum_sodium: integer (nullable = true)\n",
            " |-- sex: integer (nullable = true)\n",
            " |-- smoking: integer (nullable = true)\n",
            " |-- time: integer (nullable = true)\n",
            " |-- DEATH_EVENT: integer (nullable = true)\n",
            "\n"
          ]
        }
      ]
    },
    {
      "cell_type": "markdown",
      "source": [
        "## **EDA - Análise Exploratória de Dados**\n"
      ],
      "metadata": {
        "id": "F0jBF4ul6fae"
      }
    },
    {
      "cell_type": "code",
      "source": [
        "# Importando os métodos com funções para transformações de variáveis\n",
        "from pyspark.sql.functions import *"
      ],
      "metadata": {
        "id": "SfC_6wFU6faf"
      },
      "execution_count": null,
      "outputs": []
    },
    {
      "cell_type": "code",
      "source": [
        "df.select('age').summary().show()\n",
        "#df.select('anaemia').summary().show()\n",
        "df.select('creatinine_phosphokinase').summary().show()\n",
        "#df.select('diabetes').summary().show()\n",
        "df.select('ejection_fraction').summary().show()\n",
        "#df.select('high_blood_pressure').summary().show()\n",
        "df.select('platelets').summary().show()\n",
        "df.select('serum_creatinine').summary().show()\n",
        "df.select('serum_sodium').summary().show()\n",
        "#df.select('sex').summary().show()\n",
        "#df.select('smoking').summary().show()\n",
        "df.select('time').summary().show()"
      ],
      "metadata": {
        "colab": {
          "base_uri": "https://localhost:8080/"
        },
        "outputId": "1c44d223-093f-4dd2-9467-94e9c8b4f866",
        "id": "rGF2ApYj6faf"
      },
      "execution_count": null,
      "outputs": [
        {
          "output_type": "stream",
          "name": "stdout",
          "text": [
            "+-------+------------------+\n",
            "|summary|               age|\n",
            "+-------+------------------+\n",
            "|  count|               299|\n",
            "|   mean| 60.83389297658862|\n",
            "| stddev|11.894809074044469|\n",
            "|    min|              40.0|\n",
            "|    25%|              51.0|\n",
            "|    50%|              60.0|\n",
            "|    75%|              70.0|\n",
            "|    max|              95.0|\n",
            "+-------+------------------+\n",
            "\n",
            "+-------+------------------------+\n",
            "|summary|creatinine_phosphokinase|\n",
            "+-------+------------------------+\n",
            "|  count|                     299|\n",
            "|   mean|       581.8394648829432|\n",
            "| stddev|       970.2878807124358|\n",
            "|    min|                      23|\n",
            "|    25%|                     115|\n",
            "|    50%|                     250|\n",
            "|    75%|                     582|\n",
            "|    max|                    7861|\n",
            "+-------+------------------------+\n",
            "\n",
            "+-------+------------------+\n",
            "|summary| ejection_fraction|\n",
            "+-------+------------------+\n",
            "|  count|               299|\n",
            "|   mean| 38.08361204013378|\n",
            "| stddev|11.834840741039168|\n",
            "|    min|                14|\n",
            "|    25%|                30|\n",
            "|    50%|                38|\n",
            "|    75%|                45|\n",
            "|    max|                80|\n",
            "+-------+------------------+\n",
            "\n",
            "+-------+------------------+\n",
            "|summary|         platelets|\n",
            "+-------+------------------+\n",
            "|  count|               299|\n",
            "|   mean|263358.02926421416|\n",
            "| stddev|  97804.2368685983|\n",
            "|    min|           25100.0|\n",
            "|    25%|          212000.0|\n",
            "|    50%|          262000.0|\n",
            "|    75%|          304000.0|\n",
            "|    max|          850000.0|\n",
            "+-------+------------------+\n",
            "\n",
            "+-------+------------------+\n",
            "|summary|  serum_creatinine|\n",
            "+-------+------------------+\n",
            "|  count|               299|\n",
            "|   mean| 1.393879598662207|\n",
            "| stddev|1.0345100640898544|\n",
            "|    min|               0.5|\n",
            "|    25%|               0.9|\n",
            "|    50%|               1.1|\n",
            "|    75%|               1.4|\n",
            "|    max|               9.4|\n",
            "+-------+------------------+\n",
            "\n",
            "+-------+------------------+\n",
            "|summary|      serum_sodium|\n",
            "+-------+------------------+\n",
            "|  count|               299|\n",
            "|   mean|136.62541806020067|\n",
            "| stddev| 4.412477283909232|\n",
            "|    min|               113|\n",
            "|    25%|               134|\n",
            "|    50%|               137|\n",
            "|    75%|               140|\n",
            "|    max|               148|\n",
            "+-------+------------------+\n",
            "\n",
            "+-------+-----------------+\n",
            "|summary|             time|\n",
            "+-------+-----------------+\n",
            "|  count|              299|\n",
            "|   mean|130.2608695652174|\n",
            "| stddev|77.61420795029336|\n",
            "|    min|                4|\n",
            "|    25%|               73|\n",
            "|    50%|              115|\n",
            "|    75%|              205|\n",
            "|    max|              285|\n",
            "+-------+-----------------+\n",
            "\n"
          ]
        }
      ]
    },
    {
      "cell_type": "code",
      "source": [
        "df.select('age', 'creatinine_phosphokinase').toPandas().hist();"
      ],
      "metadata": {
        "colab": {
          "base_uri": "https://localhost:8080/",
          "height": 281
        },
        "id": "D0xJ75dDP-X6",
        "outputId": "a5ffe252-a67e-4a63-cb2f-442cd616ddc2"
      },
      "execution_count": null,
      "outputs": [
        {
          "output_type": "display_data",
          "data": {
            "text/plain": [
              "<Figure size 432x288 with 2 Axes>"
            ],
            "image/png": "[encoded data removed]"
          },
          "metadata": {
            "needs_background": "light"
          }
        }
      ]
    },
    {
      "cell_type": "code",
      "source": [
        "df.select('ejection_fraction', 'platelets').toPandas().hist();"
      ],
      "metadata": {
        "colab": {
          "base_uri": "https://localhost:8080/",
          "height": 281
        },
        "id": "6y07EQOSQDuA",
        "outputId": "6b494241-da58-4f11-dffd-6a6d0d22e817"
      },
      "execution_count": null,
      "outputs": [
        {
          "output_type": "display_data",
          "data": {
            "text/plain": [
              "<Figure size 432x288 with 2 Axes>"
            ],
            "image/png": "[encoded data removed]"
          },
          "metadata": {
            "needs_background": "light"
          }
        }
      ]
    },
    {
      "cell_type": "code",
      "source": [
        "df.select('serum_creatinine', 'serum_sodium', 'time').toPandas().hist();"
      ],
      "metadata": {
        "colab": {
          "base_uri": "https://localhost:8080/",
          "height": 281
        },
        "id": "mRk0xgbaRJF5",
        "outputId": "e6d603b8-8bce-4c24-ce42-da9a46dc3b02"
      },
      "execution_count": null,
      "outputs": [
        {
          "output_type": "display_data",
          "data": {
            "text/plain": [
              "<Figure size 432x288 with 4 Axes>"
            ],
            "image/png": "[encoded data removed]"
          },
          "metadata": {
            "needs_background": "light"
          }
        }
      ]
    },
    {
      "cell_type": "code",
      "source": [
        "# Alterando o tipo da variável 'DEATH_EVENT'\n",
        "df2 = df.withColumn(\"DEATH_EVENT\", \n",
        "                 df[\"DEATH_EVENT\"].cast('double'))\n",
        "df2.printSchema()"
      ],
      "metadata": {
        "colab": {
          "base_uri": "https://localhost:8080/"
        },
        "id": "HcGwVuSzSjsZ",
        "outputId": "2bf87883-c5a4-441e-a1a7-443f1abd113d"
      },
      "execution_count": null,
      "outputs": [
        {
          "output_type": "stream",
          "name": "stdout",
          "text": [
            "root\n",
            " |-- age: double (nullable = true)\n",
            " |-- anaemia: integer (nullable = true)\n",
            " |-- creatinine_phosphokinase: integer (nullable = true)\n",
            " |-- diabetes: integer (nullable = true)\n",
            " |-- ejection_fraction: integer (nullable = true)\n",
            " |-- high_blood_pressure: integer (nullable = true)\n",
            " |-- platelets: double (nullable = true)\n",
            " |-- serum_creatinine: double (nullable = true)\n",
            " |-- serum_sodium: integer (nullable = true)\n",
            " |-- sex: integer (nullable = true)\n",
            " |-- smoking: integer (nullable = true)\n",
            " |-- time: integer (nullable = true)\n",
            " |-- DEATH_EVENT: double (nullable = true)\n",
            "\n"
          ]
        }
      ]
    },
    {
      "cell_type": "code",
      "source": [
        "df.crosstab('smoking', 'DEATH_EVENT').show()"
      ],
      "metadata": {
        "colab": {
          "base_uri": "https://localhost:8080/"
        },
        "outputId": "cbd9e859-ce9f-4c53-8f1f-02ec8801f489",
        "id": "Kboeeyam6faf"
      },
      "execution_count": null,
      "outputs": [
        {
          "output_type": "stream",
          "name": "stdout",
          "text": [
            "+-------------------+---+---+\n",
            "|smoking_DEATH_EVENT|  0|  1|\n",
            "+-------------------+---+---+\n",
            "|                  1| 66| 30|\n",
            "|                  0|137| 66|\n",
            "+-------------------+---+---+\n",
            "\n"
          ]
        }
      ]
    },
    {
      "cell_type": "code",
      "source": [
        "df.crosstab('sex', 'DEATH_EVENT').show()"
      ],
      "metadata": {
        "colab": {
          "base_uri": "https://localhost:8080/"
        },
        "outputId": "1d94029c-cc80-461b-aaf4-13a1fab2e52a",
        "id": "yzkoBSrO6fag"
      },
      "execution_count": null,
      "outputs": [
        {
          "output_type": "stream",
          "name": "stdout",
          "text": [
            "+---------------+---+---+\n",
            "|sex_DEATH_EVENT|  0|  1|\n",
            "+---------------+---+---+\n",
            "|              1|132| 62|\n",
            "|              0| 71| 34|\n",
            "+---------------+---+---+\n",
            "\n"
          ]
        }
      ]
    },
    {
      "cell_type": "code",
      "source": [
        "df.crosstab('anaemia', 'DEATH_EVENT').show()"
      ],
      "metadata": {
        "colab": {
          "base_uri": "https://localhost:8080/"
        },
        "id": "WquuuJ8Z64mc",
        "outputId": "331eb2b6-f566-4ff7-9c9d-c22a95ae9831"
      },
      "execution_count": null,
      "outputs": [
        {
          "output_type": "stream",
          "name": "stdout",
          "text": [
            "+-------------------+---+---+\n",
            "|anaemia_DEATH_EVENT|  0|  1|\n",
            "+-------------------+---+---+\n",
            "|                  1| 83| 46|\n",
            "|                  0|120| 50|\n",
            "+-------------------+---+---+\n",
            "\n"
          ]
        }
      ]
    },
    {
      "cell_type": "code",
      "source": [
        "df.crosstab('diabetes', 'DEATH_EVENT').show()"
      ],
      "metadata": {
        "colab": {
          "base_uri": "https://localhost:8080/"
        },
        "id": "rHWf-ODc6-8E",
        "outputId": "6dac7297-fc8e-4d56-901a-b6418c80f4e0"
      },
      "execution_count": null,
      "outputs": [
        {
          "output_type": "stream",
          "name": "stdout",
          "text": [
            "+--------------------+---+---+\n",
            "|diabetes_DEATH_EVENT|  0|  1|\n",
            "+--------------------+---+---+\n",
            "|                   1| 85| 40|\n",
            "|                   0|118| 56|\n",
            "+--------------------+---+---+\n",
            "\n"
          ]
        }
      ]
    },
    {
      "cell_type": "code",
      "source": [
        "#df.crosstab('time', 'DEATH_EVENT').show()\n",
        "df.groupby('DEATH_EVENT').avg().show()"
      ],
      "metadata": {
        "colab": {
          "base_uri": "https://localhost:8080/"
        },
        "id": "q8rJyvo2MEAi",
        "outputId": "cba7ada7-c0a0-444a-983e-85cea72faa28"
      },
      "execution_count": null,
      "outputs": [
        {
          "output_type": "stream",
          "name": "stdout",
          "text": [
            "+-----------+-----------------+------------------+-----------------------------+------------------+----------------------+------------------------+-----------------+---------------------+-----------------+------------------+------------------+-----------------+----------------+\n",
            "|DEATH_EVENT|         avg(age)|      avg(anaemia)|avg(creatinine_phosphokinase)|     avg(diabetes)|avg(ejection_fraction)|avg(high_blood_pressure)|   avg(platelets)|avg(serum_creatinine)|avg(serum_sodium)|          avg(sex)|      avg(smoking)|        avg(time)|avg(DEATH_EVENT)|\n",
            "+-----------+-----------------+------------------+-----------------------------+------------------+----------------------+------------------------+-----------------+---------------------+-----------------+------------------+------------------+-----------------+----------------+\n",
            "|          1|      65.21528125|0.4791666666666667|            670.1979166666666|0.4166666666666667|              33.46875|                 0.40625|256381.0447916667|   1.8358333333333332|          135.375|0.6458333333333334|            0.3125|70.88541666666667|             1.0|\n",
            "|          0|58.76190640394089|0.4088669950738916|            540.0541871921182|0.4187192118226601|     40.26600985221675|      0.3251231527093596|266657.4899014779|    1.184876847290641|137.2167487684729|0.6502463054187192|0.3251231527093596|158.3399014778325|             0.0|\n",
            "+-----------+-----------------+------------------+-----------------------------+------------------+----------------------+------------------------+-----------------+---------------------+-----------------+------------------+------------------+-----------------+----------------+\n",
            "\n"
          ]
        }
      ]
    },
    {
      "cell_type": "code",
      "source": [
        "df.createOrReplaceTempView(\"tabela\")\n",
        "sc.sql(\"SELECT avg(time) as media_tempo_internacao, count(DEATH_EVENT) from tabela\").show()"
      ],
      "metadata": {
        "colab": {
          "base_uri": "https://localhost:8080/"
        },
        "id": "1Q0loqhnNm3o",
        "outputId": "47204d8b-6105-4630-c079-d812630cad27"
      },
      "execution_count": null,
      "outputs": [
        {
          "output_type": "stream",
          "name": "stdout",
          "text": [
            "+----------------------+------------------+\n",
            "|media_tempo_internacao|count(DEATH_EVENT)|\n",
            "+----------------------+------------------+\n",
            "|     130.2608695652174|               299|\n",
            "+----------------------+------------------+\n",
            "\n"
          ]
        }
      ]
    },
    {
      "cell_type": "markdown",
      "source": [
        "## **Categorizando variáveis (não executar)**"
      ],
      "metadata": {
        "id": "Gtmvk9MeCU9Y"
      }
    },
    {
      "cell_type": "code",
      "source": [
        "from pyspark.sql.functions import *"
      ],
      "metadata": {
        "id": "R5Gy5jRIDbrR"
      },
      "execution_count": null,
      "outputs": []
    },
    {
      "cell_type": "code",
      "source": [
        "df.select('platelets').summary().show()"
      ],
      "metadata": {
        "colab": {
          "base_uri": "https://localhost:8080/"
        },
        "id": "-XUEn_emCcIA",
        "outputId": "9ab4c9bf-38b6-4a4d-ae0e-2491bdc5326c"
      },
      "execution_count": null,
      "outputs": [
        {
          "output_type": "stream",
          "name": "stdout",
          "text": [
            "+-------+------------------+\n",
            "|summary|         platelets|\n",
            "+-------+------------------+\n",
            "|  count|               299|\n",
            "|   mean|263358.02926421416|\n",
            "| stddev|  97804.2368685983|\n",
            "|    min|           25100.0|\n",
            "|    25%|          212000.0|\n",
            "|    50%|          262000.0|\n",
            "|    75%|          304000.0|\n",
            "|    max|          850000.0|\n",
            "+-------+------------------+\n",
            "\n"
          ]
        }
      ]
    },
    {
      "cell_type": "code",
      "source": [
        "# Classificando o nível das plaquetas (fonte: https://www.cuf.pt/mais-saude/plaquetas-baixas-o-que-pode-significar#:~:text=As%20plaquetas%20s%C3%A3o%20c%C3%A9lulas%20do,cancro%20e%20algumas%20doen%C3%A7as%20cr%C3%B3nicas.)\n",
        "df2 = df.withColumn(\n",
        "    colName = 'platelets_faixa', \n",
        "    col = (\n",
        "        when(df['platelets']<=150000.0,' baixa').\n",
        "        when(((df['platelets']>150000.0) & \n",
        "            (df['platelets']<=400000.0)),'normal').\n",
        "       otherwise('alta')\n",
        "           ) \n",
        "    ).show"
      ],
      "metadata": {
        "id": "RtZufB5uE66P"
      },
      "execution_count": null,
      "outputs": []
    },
    {
      "cell_type": "code",
      "source": [
        "df.select('creatinine_phosphokinase').summary().show()"
      ],
      "metadata": {
        "colab": {
          "base_uri": "https://localhost:8080/"
        },
        "id": "Km6Li7GRGpnW",
        "outputId": "4203ba23-24ab-4a3b-ebff-b4775dc817d2"
      },
      "execution_count": null,
      "outputs": [
        {
          "output_type": "stream",
          "name": "stdout",
          "text": [
            "+-------+------------------------+\n",
            "|summary|creatinine_phosphokinase|\n",
            "+-------+------------------------+\n",
            "|  count|                     299|\n",
            "|   mean|       581.8394648829432|\n",
            "| stddev|       970.2878807124358|\n",
            "|    min|                      23|\n",
            "|    25%|                     115|\n",
            "|    50%|                     250|\n",
            "|    75%|                     582|\n",
            "|    max|                    7861|\n",
            "+-------+------------------------+\n",
            "\n"
          ]
        }
      ]
    },
    {
      "cell_type": "code",
      "source": [
        "# Classificando o nível das plaquetas (fonte: https://www.cuf.pt/mais-saude/plaquetas-baixas-o-que-pode-significar#:~:text=As%20plaquetas%20s%C3%A3o%20c%C3%A9lulas%20do,cancro%20e%20algumas%20doen%C3%A7as%20cr%C3%B3nicas.)\n",
        "df3 = df.withColumn(\n",
        "    colName = 'creatinine_phosphokinase_faixa', \n",
        "    col = (\n",
        "        when(df['creatinine_phosphokinase']<=29.00),' baixa').\n",
        "        when(((df['creatinine_phosphokinase']>29.00) & \n",
        "            (df['creatinine_phosphokinase']<=200.00)),'normal').\n",
        "       otherwise('alta')\n",
        "    ).show()\n",
        "\n",
        "\n",
        "#Os valores de referência da CPK são entre 30.00 U/L e 200.00 U/L para homens e \n",
        "#                                    entre 29.00 U/L e 168.00 U/L para mulheres. \n",
        "  "
      ],
      "metadata": {
        "id": "GFP6so9eF3aG"
      },
      "execution_count": null,
      "outputs": []
    },
    {
      "cell_type": "markdown",
      "source": [
        "# **Teste 1 - Todas as variáveis, nenhuma transformação**"
      ],
      "metadata": {
        "id": "m0KAQ_kq22Pb"
      }
    },
    {
      "cell_type": "markdown",
      "source": [
        "## **Pré-Processamento para Machine Learning**"
      ],
      "metadata": {
        "id": "hvW3UfJazIer"
      }
    },
    {
      "cell_type": "code",
      "source": [
        "# Importando Bibliotecas e métodos necessários\n",
        "import pandas as pd\n",
        "from pyspark.sql.functions import *\n",
        "from pyspark.ml.feature import OneHotEncoder\n",
        "from pyspark.ml.feature import StringIndexer"
      ],
      "metadata": {
        "id": "ggMfT2ILzMmy"
      },
      "execution_count": null,
      "outputs": []
    },
    {
      "cell_type": "code",
      "source": [
        "COLUMNS = ['age', 'anaemia', 'creatinine_phosphokinase', 'diabetes', 'ejection_fraction','high_blood_pressure','platelets','serum_creatinine','serum_sodium',\n",
        "           'sex','smoking']"
      ],
      "metadata": {
        "id": "jClPJUK_Hg2k"
      },
      "execution_count": null,
      "outputs": []
    },
    {
      "cell_type": "code",
      "source": [
        "# criando uma coluna com todas as preditoras\n",
        "from pyspark.ml.linalg import Vectors\n",
        "from pyspark.ml.feature import VectorAssembler, StandardScaler\n",
        "\n",
        "# Definindo as preditoras\n",
        "def_preditoras = VectorAssembler(inputCols=COLUMNS, outputCol='preditoras')\n",
        "\n",
        "# criando uma coluna com todas as preditoras em novo dataset\n",
        "df_pred = def_preditoras.transform(df)\n",
        "\n",
        "# Pegando somente os atributos que serao utilizados na modelagem\n",
        "df_ml = df_pred.select('DEATH_EVENT', 'preditoras')\n",
        "\n",
        "# Espiando dataset final\n",
        "df_ml.show()"
      ],
      "metadata": {
        "colab": {
          "base_uri": "https://localhost:8080/"
        },
        "id": "1BjS8ds1GVQi",
        "outputId": "1b3ffa08-f3f6-46ce-f7ce-2b4de00a018b"
      },
      "execution_count": null,
      "outputs": [
        {
          "output_type": "stream",
          "name": "stdout",
          "text": [
            "+-----------+--------------------+\n",
            "|DEATH_EVENT|          preditoras|\n",
            "+-----------+--------------------+\n",
            "|          1|[75.0,0.0,582.0,0...|\n",
            "|          1|[55.0,0.0,7861.0,...|\n",
            "|          1|[65.0,0.0,146.0,0...|\n",
            "|          1|[50.0,1.0,111.0,0...|\n",
            "|          1|[65.0,1.0,160.0,1...|\n",
            "|          1|[90.0,1.0,47.0,0....|\n",
            "|          1|[75.0,1.0,246.0,0...|\n",
            "|          1|[60.0,1.0,315.0,1...|\n",
            "|          1|(11,[0,2,4,6,7,8]...|\n",
            "|          1|[80.0,1.0,123.0,0...|\n",
            "|          1|[75.0,1.0,81.0,0....|\n",
            "|          1|[62.0,0.0,231.0,0...|\n",
            "|          1|[45.0,1.0,981.0,0...|\n",
            "|          1|[50.0,1.0,168.0,0...|\n",
            "|          0|[49.0,1.0,80.0,0....|\n",
            "|          1|[82.0,1.0,379.0,0...|\n",
            "|          1|[87.0,1.0,149.0,0...|\n",
            "|          1|[45.0,0.0,582.0,0...|\n",
            "|          1|[70.0,1.0,125.0,0...|\n",
            "|          1|[48.0,1.0,582.0,1...|\n",
            "+-----------+--------------------+\n",
            "only showing top 20 rows\n",
            "\n"
          ]
        }
      ]
    },
    {
      "cell_type": "markdown",
      "source": [
        "## **Dividindo o dataset entre treino e teste**"
      ],
      "metadata": {
        "id": "89X50OKYzOeN"
      }
    },
    {
      "cell_type": "code",
      "source": [
        "# Separando os dados entre treino e teste\n",
        "df_treino, df_teste = df_ml.randomSplit([.75,.25], seed=23112022)"
      ],
      "metadata": {
        "id": "1ORvjVGYzS_d"
      },
      "execution_count": null,
      "outputs": []
    },
    {
      "cell_type": "markdown",
      "source": [
        "## **Regressão Logística**"
      ],
      "metadata": {
        "id": "a2Sizr0zRHAz"
      }
    },
    {
      "cell_type": "code",
      "source": [
        "from pyspark.ml.classification import LogisticRegression"
      ],
      "metadata": {
        "id": "nNGiE6EeRLR9"
      },
      "execution_count": null,
      "outputs": []
    },
    {
      "cell_type": "code",
      "source": [
        "# Definindo\n",
        "rl= LogisticRegression(\n",
        "    featuresCol='preditoras', \n",
        "    labelCol='DEATH_EVENT', \n",
        "    predictionCol='DEATH_EVENT_PRED')"
      ],
      "metadata": {
        "id": "TwinAabkh-b4"
      },
      "execution_count": null,
      "outputs": []
    },
    {
      "cell_type": "code",
      "source": [
        "# Treinando\n",
        "modelo_rl = rl.fit(df_treino)"
      ],
      "metadata": {
        "id": "7biVt8Tnijda"
      },
      "execution_count": null,
      "outputs": []
    },
    {
      "cell_type": "code",
      "source": [
        "# Ajustando aos dados de teste\n",
        "modelo_rl_pred = modelo_rl.transform(df_teste)"
      ],
      "metadata": {
        "id": "sDpZS43viu6M"
      },
      "execution_count": null,
      "outputs": []
    },
    {
      "cell_type": "code",
      "source": [
        "# Selecionando a coluna do valor_total preditas e observadas\n",
        "predita_observada_rl = modelo_rl_pred.select('DEATH_EVENT_PRED','DEATH_EVENT')\n",
        "predita_observada_rl.show()"
      ],
      "metadata": {
        "colab": {
          "base_uri": "https://localhost:8080/"
        },
        "id": "IksUOUPmi-mI",
        "outputId": "3a1869cb-7edc-4a3a-805e-f0d912b055e0"
      },
      "execution_count": null,
      "outputs": [
        {
          "output_type": "stream",
          "name": "stdout",
          "text": [
            "+----------------+-----------+\n",
            "|DEATH_EVENT_PRED|DEATH_EVENT|\n",
            "+----------------+-----------+\n",
            "|             0.0|          0|\n",
            "|             0.0|          0|\n",
            "|             0.0|          0|\n",
            "|             0.0|          0|\n",
            "|             0.0|          0|\n",
            "|             0.0|          0|\n",
            "|             0.0|          0|\n",
            "|             0.0|          0|\n",
            "|             0.0|          0|\n",
            "|             0.0|          0|\n",
            "|             0.0|          0|\n",
            "|             0.0|          0|\n",
            "|             0.0|          0|\n",
            "|             0.0|          0|\n",
            "|             0.0|          0|\n",
            "|             0.0|          0|\n",
            "|             0.0|          0|\n",
            "|             0.0|          0|\n",
            "|             0.0|          0|\n",
            "|             0.0|          0|\n",
            "+----------------+-----------+\n",
            "only showing top 20 rows\n",
            "\n"
          ]
        }
      ]
    },
    {
      "cell_type": "code",
      "source": [
        "# Matriz de confusão\n",
        "predita_observada_rl\\\n",
        "  .crosstab('DEATH_EVENT', 'DEATH_EVENT_PRED')\\\n",
        "  .orderBy('DEATH_EVENT_DEATH_EVENT_PRED')\\\n",
        "  .show()"
      ],
      "metadata": {
        "colab": {
          "base_uri": "https://localhost:8080/"
        },
        "id": "vYa6kwWnmoF_",
        "outputId": "504e741e-3ce4-4691-9411-39be3e5d8c00"
      },
      "execution_count": null,
      "outputs": [
        {
          "output_type": "stream",
          "name": "stdout",
          "text": [
            "+----------------------------+---+---+\n",
            "|DEATH_EVENT_DEATH_EVENT_PRED|0.0|1.0|\n",
            "+----------------------------+---+---+\n",
            "|                           0| 50|  4|\n",
            "|                           1| 19| 11|\n",
            "+----------------------------+---+---+\n",
            "\n"
          ]
        }
      ]
    },
    {
      "cell_type": "code",
      "source": [
        "# Alterando o tipo da variável\n",
        "predita_observada_rl = predita_observada_rl.withColumn(\"DEATH_EVENT\", \n",
        "                 predita_observada_rl[\"DEATH_EVENT\"].cast('double'))\n",
        "predita_observada_rl.printSchema()"
      ],
      "metadata": {
        "colab": {
          "base_uri": "https://localhost:8080/"
        },
        "id": "oj50JJYTPzcl",
        "outputId": "37acf29a-5b46-4d1b-a88f-3a7be432e783"
      },
      "execution_count": null,
      "outputs": [
        {
          "output_type": "stream",
          "name": "stdout",
          "text": [
            "root\n",
            " |-- DEATH_EVENT_PRED: double (nullable = false)\n",
            " |-- DEATH_EVENT: double (nullable = true)\n",
            "\n"
          ]
        }
      ]
    },
    {
      "cell_type": "code",
      "source": [
        "# Verificando as métricas da qualidade do ajuste do modelo\n",
        "\n",
        "from pyspark.mllib.evaluation import BinaryClassificationMetrics\n",
        "from pyspark.mllib.evaluation import MulticlassMetrics\n",
        "\n",
        "# Calculando as métricas\n",
        "metricas_binaria_modelo_rl = BinaryClassificationMetrics(predita_observada_rl.rdd)\n",
        "metricas_modelo_rl = MulticlassMetrics(predita_observada_rl.rdd)\n",
        "\n",
        "# Calculando as métricas\n",
        "print(\"Acurácia: {0:.4f}\".format(metricas_modelo_rl.accuracy))\n",
        "print(\"F1 Score: {0:.4f}\".format(metricas_modelo_rl.weightedFMeasure()))\n",
        "print(\"AUC: {0:.4f} {1}\".format(metricas_binaria_modelo_rl.areaUnderROC,'\\n'))\n",
        "\n",
        "# Matriz de confução\n",
        "print('matriz de confusão')\n",
        "print(metricas_modelo_rl.confusionMatrix())"
      ],
      "metadata": {
        "id": "Ma0B94UXksFZ",
        "colab": {
          "base_uri": "https://localhost:8080/"
        },
        "outputId": "3634da9f-2683-4df0-d642-de7e273fa34d"
      },
      "execution_count": null,
      "outputs": [
        {
          "output_type": "stream",
          "name": "stdout",
          "text": [
            "Acurácia: 0.7262\n",
            "F1 Score: 0.6973\n",
            "AUC: 0.6463 \n",
            "\n",
            "matriz de confusão\n",
            "DenseMatrix([[50.,  4.],\n",
            "             [19., 11.]])\n"
          ]
        }
      ]
    },
    {
      "cell_type": "markdown",
      "source": [
        "## **Árvore de Decisão**"
      ],
      "metadata": {
        "id": "l7h4d1Bm3vGU"
      }
    },
    {
      "cell_type": "code",
      "source": [
        "from pyspark.ml.classification import DecisionTreeClassifier"
      ],
      "metadata": {
        "id": "Ga5PQkv13vGc"
      },
      "execution_count": null,
      "outputs": []
    },
    {
      "cell_type": "code",
      "source": [
        "# definindo a árvore\n",
        "dt= DecisionTreeClassifier(\n",
        "    featuresCol='preditoras', \n",
        "    labelCol='DEATH_EVENT', \n",
        "    predictionCol='DEATH_EVENT_PRED',\n",
        "    maxDepth=5)"
      ],
      "metadata": {
        "id": "AG0gmc9y3vGc"
      },
      "execution_count": null,
      "outputs": []
    },
    {
      "cell_type": "code",
      "source": [
        "# Treinando a árvore\n",
        "modelo_dt = dt.fit(df_treino)"
      ],
      "metadata": {
        "id": "i2RSjXcF3vGc"
      },
      "execution_count": null,
      "outputs": []
    },
    {
      "cell_type": "code",
      "source": [
        "# Ajustando a árvore aos dados de teste\n",
        "modelo_dt_pred = modelo_dt.transform(df_teste)"
      ],
      "metadata": {
        "id": "BjGLSbxi3vGc"
      },
      "execution_count": null,
      "outputs": []
    },
    {
      "cell_type": "code",
      "source": [
        "# Selecionando a coluna valor_total preditas e observadas\n",
        "predita_observada_dt = modelo_dt_pred.select('DEATH_EVENT_PRED','DEATH_EVENT')\n",
        "predita_observada_dt.show()"
      ],
      "metadata": {
        "colab": {
          "base_uri": "https://localhost:8080/"
        },
        "outputId": "52452e27-9b4b-46dc-ba3f-05f5731edf07",
        "id": "MNT1Wyi83vGc"
      },
      "execution_count": null,
      "outputs": [
        {
          "output_type": "stream",
          "name": "stdout",
          "text": [
            "+----------------+-----------+\n",
            "|DEATH_EVENT_PRED|DEATH_EVENT|\n",
            "+----------------+-----------+\n",
            "|             0.0|          0|\n",
            "|             0.0|          0|\n",
            "|             0.0|          0|\n",
            "|             0.0|          0|\n",
            "|             1.0|          0|\n",
            "|             0.0|          0|\n",
            "|             0.0|          0|\n",
            "|             0.0|          0|\n",
            "|             0.0|          0|\n",
            "|             0.0|          0|\n",
            "|             0.0|          0|\n",
            "|             0.0|          0|\n",
            "|             0.0|          0|\n",
            "|             0.0|          0|\n",
            "|             0.0|          0|\n",
            "|             0.0|          0|\n",
            "|             0.0|          0|\n",
            "|             1.0|          0|\n",
            "|             0.0|          0|\n",
            "|             0.0|          0|\n",
            "+----------------+-----------+\n",
            "only showing top 20 rows\n",
            "\n"
          ]
        }
      ]
    },
    {
      "cell_type": "code",
      "source": [
        "# Matriz de confusão\n",
        "predita_observada_dt\\\n",
        "  .crosstab('DEATH_EVENT', 'DEATH_EVENT_PRED')\\\n",
        "  .orderBy('DEATH_EVENT_DEATH_EVENT_PRED')\\\n",
        "  .show()"
      ],
      "metadata": {
        "colab": {
          "base_uri": "https://localhost:8080/"
        },
        "outputId": "86e089dd-9d3f-4555-8b07-af20c8578234",
        "id": "mTTRXXUM3vGd"
      },
      "execution_count": null,
      "outputs": [
        {
          "output_type": "stream",
          "name": "stdout",
          "text": [
            "+----------------------------+---+---+\n",
            "|DEATH_EVENT_DEATH_EVENT_PRED|0.0|1.0|\n",
            "+----------------------------+---+---+\n",
            "|                           0| 46|  8|\n",
            "|                           1| 15| 15|\n",
            "+----------------------------+---+---+\n",
            "\n"
          ]
        }
      ]
    },
    {
      "cell_type": "code",
      "source": [
        "# Alterando o tipo da variável\n",
        "predita_observada_dt = predita_observada_dt.withColumn(\"DEATH_EVENT\", \n",
        "                 predita_observada_dt[\"DEATH_EVENT\"].cast('double'))\n",
        "predita_observada_dt.printSchema()"
      ],
      "metadata": {
        "colab": {
          "base_uri": "https://localhost:8080/"
        },
        "id": "HU1QJhuC9kqf",
        "outputId": "073e7830-e085-4cf6-fbf1-5858bf2506c9"
      },
      "execution_count": null,
      "outputs": [
        {
          "output_type": "stream",
          "name": "stdout",
          "text": [
            "root\n",
            " |-- DEATH_EVENT_PRED: double (nullable = false)\n",
            " |-- DEATH_EVENT: double (nullable = true)\n",
            "\n"
          ]
        }
      ]
    },
    {
      "cell_type": "code",
      "source": [
        "from pyspark.mllib.evaluation import BinaryClassificationMetrics\n",
        "from pyspark.mllib.evaluation import MulticlassMetrics\n",
        "\n",
        "# Calculando as métricas\n",
        "metricas_binaria_modelo_dt = BinaryClassificationMetrics(predita_observada_dt.rdd)\n",
        "metricas_modelo_dt = MulticlassMetrics(predita_observada_dt.rdd)\n",
        "\n",
        "# Calculando as métricas\n",
        "print(\"Acurácia: {0:.4f}\".format(metricas_modelo_dt.accuracy))\n",
        "print(\"F1 Score: {0:.4f}\".format(metricas_modelo_dt.weightedFMeasure()))\n",
        "print(\"AUC: {0:.4f} {1}\".format(metricas_binaria_modelo_dt.areaUnderROC,'\\n'))\n",
        "\n",
        "# Matriz de confução\n",
        "print('matriz de confusão')\n",
        "print(metricas_modelo_dt.confusionMatrix())"
      ],
      "metadata": {
        "id": "Cnda3fi5yOkH",
        "colab": {
          "base_uri": "https://localhost:8080/"
        },
        "outputId": "189240b4-8800-46d0-e3e5-d09fb99d0ecd"
      },
      "execution_count": null,
      "outputs": [
        {
          "output_type": "stream",
          "name": "stdout",
          "text": [
            "Acurácia: 0.7262\n",
            "F1 Score: 0.7164\n",
            "AUC: 0.6759 \n",
            "\n",
            "matriz de confusão\n",
            "DenseMatrix([[46.,  8.],\n",
            "             [15., 15.]])\n"
          ]
        }
      ]
    },
    {
      "cell_type": "markdown",
      "source": [
        "## **Random Forest**"
      ],
      "metadata": {
        "id": "B8fymEWzoqXF"
      }
    },
    {
      "cell_type": "code",
      "source": [
        "from pyspark.ml.classification import RandomForestClassifier"
      ],
      "metadata": {
        "id": "MfF9gtquoqXb"
      },
      "execution_count": null,
      "outputs": []
    },
    {
      "cell_type": "code",
      "source": [
        "# definindo a floresta\n",
        "rf= RandomForestClassifier(\n",
        "    featuresCol='preditoras', \n",
        "    labelCol='DEATH_EVENT', \n",
        "    predictionCol='DEATH_EVENT_PRED',\n",
        "    maxDepth=5, \n",
        "    numTrees=100)"
      ],
      "metadata": {
        "id": "Zoe2WNuloqXc"
      },
      "execution_count": null,
      "outputs": []
    },
    {
      "cell_type": "code",
      "source": [
        "# Treinando a floresta\n",
        "modelo_rf = rf.fit(df_treino)"
      ],
      "metadata": {
        "id": "BcvuWqA2oqXc"
      },
      "execution_count": null,
      "outputs": []
    },
    {
      "cell_type": "code",
      "source": [
        "# Ajustando a floresta aos dados de teste\n",
        "modelo_rf_pred = modelo_rf.transform(df_teste)"
      ],
      "metadata": {
        "id": "dUUdbSmVoqXc"
      },
      "execution_count": null,
      "outputs": []
    },
    {
      "cell_type": "code",
      "source": [
        "# Selecionando as colunas valor_total preditas e observadas\n",
        "predita_observada_rf = modelo_rf_pred.select('DEATH_EVENT_PRED','DEATH_EVENT')\n",
        "predita_observada_rf.show()"
      ],
      "metadata": {
        "colab": {
          "base_uri": "https://localhost:8080/"
        },
        "outputId": "d3e1cb0e-4a7d-43dc-821d-04941678fc20",
        "id": "ay1P4mhDoqXd"
      },
      "execution_count": null,
      "outputs": [
        {
          "output_type": "stream",
          "name": "stdout",
          "text": [
            "+----------------+-----------+\n",
            "|DEATH_EVENT_PRED|DEATH_EVENT|\n",
            "+----------------+-----------+\n",
            "|             0.0|          0|\n",
            "|             0.0|          0|\n",
            "|             0.0|          0|\n",
            "|             0.0|          0|\n",
            "|             1.0|          0|\n",
            "|             0.0|          0|\n",
            "|             0.0|          0|\n",
            "|             0.0|          0|\n",
            "|             0.0|          0|\n",
            "|             0.0|          0|\n",
            "|             0.0|          0|\n",
            "|             0.0|          0|\n",
            "|             0.0|          0|\n",
            "|             0.0|          0|\n",
            "|             0.0|          0|\n",
            "|             0.0|          0|\n",
            "|             0.0|          0|\n",
            "|             0.0|          0|\n",
            "|             0.0|          0|\n",
            "|             0.0|          0|\n",
            "+----------------+-----------+\n",
            "only showing top 20 rows\n",
            "\n"
          ]
        }
      ]
    },
    {
      "cell_type": "code",
      "source": [
        "# Matriz de confusão\n",
        "predita_observada_rf\\\n",
        "  .crosstab('DEATH_EVENT', 'DEATH_EVENT_PRED')\\\n",
        "  .orderBy('DEATH_EVENT_DEATH_EVENT_PRED')\\\n",
        "  .show()"
      ],
      "metadata": {
        "colab": {
          "base_uri": "https://localhost:8080/"
        },
        "id": "ED4MxvHQovm_",
        "outputId": "b9a3cfcf-5072-4459-cdd3-b3ed9a923787"
      },
      "execution_count": null,
      "outputs": [
        {
          "output_type": "stream",
          "name": "stdout",
          "text": [
            "+----------------------------+---+---+\n",
            "|DEATH_EVENT_DEATH_EVENT_PRED|0.0|1.0|\n",
            "+----------------------------+---+---+\n",
            "|                           0| 49|  5|\n",
            "|                           1| 20| 10|\n",
            "+----------------------------+---+---+\n",
            "\n"
          ]
        }
      ]
    },
    {
      "cell_type": "code",
      "source": [
        "# Alterando o tipo da variável\n",
        "predita_observada_rf = predita_observada_rf.withColumn(\"DEATH_EVENT\", \n",
        "                 predita_observada_rf[\"DEATH_EVENT\"].cast('double'))\n",
        "predita_observada_rf.printSchema()"
      ],
      "metadata": {
        "colab": {
          "base_uri": "https://localhost:8080/"
        },
        "id": "3QcRqWky9tOd",
        "outputId": "76e96d35-d2b4-4750-c12e-7d01a538a6a9"
      },
      "execution_count": null,
      "outputs": [
        {
          "output_type": "stream",
          "name": "stdout",
          "text": [
            "root\n",
            " |-- DEATH_EVENT_PRED: double (nullable = false)\n",
            " |-- DEATH_EVENT: double (nullable = true)\n",
            "\n"
          ]
        }
      ]
    },
    {
      "cell_type": "code",
      "source": [
        "# Verificando as métricas da qualidade do ajuste do modelo\n",
        "\n",
        "from pyspark.mllib.evaluation import BinaryClassificationMetrics\n",
        "from pyspark.mllib.evaluation import MulticlassMetrics\n",
        "\n",
        "# Calculando as métricas\n",
        "metricas_binaria_modelo_rf = BinaryClassificationMetrics(predita_observada_rf.rdd)\n",
        "metricas_modelo_rf = MulticlassMetrics(predita_observada_rf.rdd)\n",
        "\n",
        "# Calculando as métricas\n",
        "print(\"Acurácia: {0:.4f}\".format(metricas_modelo_rf.accuracy))\n",
        "print(\"F1 Score: {0:.4f}\".format(metricas_modelo_rf.weightedFMeasure()))\n",
        "print(\"AUC: {0:.4f} {1}\".format(metricas_binaria_modelo_rf.areaUnderROC,'\\n'))\n",
        "\n",
        "# Matriz de confução\n",
        "print('matriz de confusão')\n",
        "print(metricas_modelo_rf.confusionMatrix())"
      ],
      "metadata": {
        "id": "rUBegOvHoqXd",
        "colab": {
          "base_uri": "https://localhost:8080/"
        },
        "outputId": "4b968270-2e70-49fd-c23b-11a743696162"
      },
      "execution_count": null,
      "outputs": [
        {
          "output_type": "stream",
          "name": "stdout",
          "text": [
            "Acurácia: 0.7024\n",
            "F1 Score: 0.6709\n",
            "AUC: 0.6204 \n",
            "\n",
            "matriz de confusão\n",
            "DenseMatrix([[49.,  5.],\n",
            "             [20., 10.]])\n"
          ]
        }
      ]
    },
    {
      "cell_type": "markdown",
      "source": [
        "## **Tunando o melhor modelo**"
      ],
      "metadata": {
        "id": "t570nglRDlNV"
      }
    },
    {
      "cell_type": "code",
      "source": [
        "from pyspark.ml import Pipeline\n",
        "from pyspark.ml.tuning import ParamGridBuilder\n",
        "from pyspark.ml.tuning import TrainValidationSplit\n",
        "from pyspark.ml.tuning import CrossValidator\n",
        "from pyspark.ml.evaluation import MulticlassClassificationEvaluator "
      ],
      "metadata": {
        "id": "KhcZBj5RDocm"
      },
      "execution_count": null,
      "outputs": []
    },
    {
      "cell_type": "markdown",
      "source": [
        "### **Configurações gerais**"
      ],
      "metadata": {
        "id": "eWT6Ybqd6I7y"
      }
    },
    {
      "cell_type": "code",
      "source": [
        "# definindo a árvore\n",
        "arvore = DecisionTreeClassifier(\n",
        "    featuresCol='preditoras', \n",
        "    labelCol='DEATH_EVENT', \n",
        "    predictionCol='DEATH_EVENT_PRED',\n",
        "    maxDepth=5)"
      ],
      "metadata": {
        "id": "AbnjxNEhHKTv"
      },
      "execution_count": null,
      "outputs": []
    },
    {
      "cell_type": "code",
      "source": [
        "pipeline = Pipeline(stages=[arvore])"
      ],
      "metadata": {
        "id": "n9AiJFu1OiNr"
      },
      "execution_count": null,
      "outputs": []
    },
    {
      "cell_type": "code",
      "source": [
        "paramGrid = ParamGridBuilder() \\\n",
        "    .addGrid(arvore.maxDepth, [3, 4, 5, 6, 7,8]) \\\n",
        "    .build()"
      ],
      "metadata": {
        "id": "HLYC1pnLQvlL"
      },
      "execution_count": null,
      "outputs": []
    },
    {
      "cell_type": "code",
      "source": [
        "paramGrid"
      ],
      "metadata": {
        "colab": {
          "base_uri": "https://localhost:8080/"
        },
        "id": "vauf_aBXyaEx",
        "outputId": "9a188871-b6cb-48ae-81fc-6306609b7456"
      },
      "execution_count": null,
      "outputs": [
        {
          "output_type": "execute_result",
          "data": {
            "text/plain": [
              "[{Param(parent='DecisionTreeClassifier_201c05676234', name='maxDepth', doc='Maximum depth of the tree. (>= 0) E.g., depth 0 means 1 leaf node; depth 1 means 1 internal node + 2 leaf nodes.'): 3},\n",
              " {Param(parent='DecisionTreeClassifier_201c05676234', name='maxDepth', doc='Maximum depth of the tree. (>= 0) E.g., depth 0 means 1 leaf node; depth 1 means 1 internal node + 2 leaf nodes.'): 4},\n",
              " {Param(parent='DecisionTreeClassifier_201c05676234', name='maxDepth', doc='Maximum depth of the tree. (>= 0) E.g., depth 0 means 1 leaf node; depth 1 means 1 internal node + 2 leaf nodes.'): 5},\n",
              " {Param(parent='DecisionTreeClassifier_201c05676234', name='maxDepth', doc='Maximum depth of the tree. (>= 0) E.g., depth 0 means 1 leaf node; depth 1 means 1 internal node + 2 leaf nodes.'): 6},\n",
              " {Param(parent='DecisionTreeClassifier_201c05676234', name='maxDepth', doc='Maximum depth of the tree. (>= 0) E.g., depth 0 means 1 leaf node; depth 1 means 1 internal node + 2 leaf nodes.'): 7},\n",
              " {Param(parent='DecisionTreeClassifier_201c05676234', name='maxDepth', doc='Maximum depth of the tree. (>= 0) E.g., depth 0 means 1 leaf node; depth 1 means 1 internal node + 2 leaf nodes.'): 8}]"
            ]
          },
          "metadata": {},
          "execution_count": 144
        }
      ]
    },
    {
      "cell_type": "code",
      "source": [
        "avaliador = MulticlassClassificationEvaluator(\n",
        "    predictionCol=\"DEATH_EVENT_PRED\", \n",
        "    labelCol='DEATH_EVENT', \n",
        "    metricName='f1'\n",
        ")"
      ],
      "metadata": {
        "id": "utLlt5hjUQC9"
      },
      "execution_count": null,
      "outputs": []
    },
    {
      "cell_type": "markdown",
      "source": [
        "### **Utilizando TrainValidationSplit**"
      ],
      "metadata": {
        "id": "_zyH-rsYWZs6"
      }
    },
    {
      "cell_type": "code",
      "source": [
        "# Definindo a tunagem através um hold-out com 1-fold\n",
        "tvs = TrainValidationSplit(estimator=pipeline,\n",
        "                           estimatorParamMaps=paramGrid,\n",
        "                           evaluator=avaliador,\n",
        "                           trainRatio=0.8)"
      ],
      "metadata": {
        "id": "o6_hWSAFJbt9"
      },
      "execution_count": null,
      "outputs": []
    },
    {
      "cell_type": "code",
      "source": [
        "# Rodando hold-out e escolhendo o melhor conjunto de parâmetros\n",
        "modelo_dt_tvs = tvs.fit(df_treino)"
      ],
      "metadata": {
        "id": "xYWuN73lMFuU"
      },
      "execution_count": null,
      "outputs": []
    },
    {
      "cell_type": "code",
      "source": [
        "# Criando um dataframe com os modelos e o valor de f1 de cada modelo\n",
        "modelos = pd.DataFrame(data=modelo_dt_tvs.getEstimatorParamMaps())\n",
        "metricas = pd.DataFrame(data=modelo_dt_tvs.validationMetrics, columns=['f1'])\n",
        "df_f1 = pd.merge(left = modelos,right = metricas, left_index=True, right_index=True)\n",
        "df_f1.sort_values(by=['f1'], inplace=True, ascending=False)\n",
        "df_f1.head(24)"
      ],
      "metadata": {
        "colab": {
          "base_uri": "https://localhost:8080/",
          "height": 238
        },
        "id": "r-t9pbuj4v56",
        "outputId": "364a4e3c-82ba-4b12-ab5e-1f97698eae59"
      },
      "execution_count": null,
      "outputs": [
        {
          "output_type": "execute_result",
          "data": {
            "text/plain": [
              "   DecisionTreeClassifier_201c05676234__maxDepth        f1\n",
              "0                                              3  0.714762\n",
              "2                                              5  0.681463\n",
              "1                                              4  0.670879\n",
              "4                                              7  0.633366\n",
              "5                                              8  0.633366\n",
              "3                                              6  0.626996"
            ],
            "text/html": [
              "\n",
              "  <div id=\"df-5fa7f956-d17a-4cde-a4f3-d779b03b1063\">\n",
              "    <div class=\"colab-df-container\">\n",
              "      <div>\n",
              "<style scoped>\n",
              "    .dataframe tbody tr th:only-of-type {\n",
              "        vertical-align: middle;\n",
              "    }\n",
              "\n",
              "    .dataframe tbody tr th {\n",
              "        vertical-align: top;\n",
              "    }\n",
              "\n",
              "    .dataframe thead th {\n",
              "        text-align: right;\n",
              "    }\n",
              "</style>\n",
              "<table border=\"1\" class=\"dataframe\">\n",
              "  <thead>\n",
              "    <tr style=\"text-align: right;\">\n",
              "      <th></th>\n",
              "      <th>DecisionTreeClassifier_201c05676234__maxDepth</th>\n",
              "      <th>f1</th>\n",
              "    </tr>\n",
              "  </thead>\n",
              "  <tbody>\n",
              "    <tr>\n",
              "      <th>0</th>\n",
              "      <td>3</td>\n",
              "      <td>0.714762</td>\n",
              "    </tr>\n",
              "    <tr>\n",
              "      <th>2</th>\n",
              "      <td>5</td>\n",
              "      <td>0.681463</td>\n",
              "    </tr>\n",
              "    <tr>\n",
              "      <th>1</th>\n",
              "      <td>4</td>\n",
              "      <td>0.670879</td>\n",
              "    </tr>\n",
              "    <tr>\n",
              "      <th>4</th>\n",
              "      <td>7</td>\n",
              "      <td>0.633366</td>\n",
              "    </tr>\n",
              "    <tr>\n",
              "      <th>5</th>\n",
              "      <td>8</td>\n",
              "      <td>0.633366</td>\n",
              "    </tr>\n",
              "    <tr>\n",
              "      <th>3</th>\n",
              "      <td>6</td>\n",
              "      <td>0.626996</td>\n",
              "    </tr>\n",
              "  </tbody>\n",
              "</table>\n",
              "</div>\n",
              "      <button class=\"colab-df-convert\" onclick=\"convertToInteractive('df-5fa7f956-d17a-4cde-a4f3-d779b03b1063')\"\n",
              "              title=\"Convert this dataframe to an interactive table.\"\n",
              "              style=\"display:none;\">\n",
              "        \n",
              "  <svg xmlns=\"http://www.w3.org/2000/svg\" height=\"24px\"viewBox=\"0 0 24 24\"\n",
              "       width=\"24px\">\n",
              "    <path d=\"M0 0h24v24H0V0z\" fill=\"none\"/>\n",
              "    <path d=\"M18.56 5.44l.94 2.06.94-2.06 2.06-.94-2.06-.94-.94-2.06-.94 2.06-2.06.94zm-11 1L8.5 8.5l.94-2.06 2.06-.94-2.06-.94L8.5 2.5l-.94 2.06-2.06.94zm10 10l.94 2.06.94-2.06 2.06-.94-2.06-.94-.94-2.06-.94 2.06-2.06.94z\"/><path d=\"M17.41 7.96l-1.37-1.37c-.4-.4-.92-.59-1.43-.59-.52 0-1.04.2-1.43.59L10.3 9.45l-7.72 7.72c-.78.78-.78 2.05 0 2.83L4 21.41c.39.39.9.59 1.41.59.51 0 1.02-.2 1.41-.59l7.78-7.78 2.81-2.81c.8-.78.8-2.07 0-2.86zM5.41 20L4 18.59l7.72-7.72 1.47 1.35L5.41 20z\"/>\n",
              "  </svg>\n",
              "      </button>\n",
              "      \n",
              "  <style>\n",
              "    .colab-df-container {\n",
              "      display:flex;\n",
              "      flex-wrap:wrap;\n",
              "      gap: 12px;\n",
              "    }\n",
              "\n",
              "    .colab-df-convert {\n",
              "      background-color: #E8F0FE;\n",
              "      border: none;\n",
              "      border-radius: 50%;\n",
              "      cursor: pointer;\n",
              "      display: none;\n",
              "      fill: #1967D2;\n",
              "      height: 32px;\n",
              "      padding: 0 0 0 0;\n",
              "      width: 32px;\n",
              "    }\n",
              "\n",
              "    .colab-df-convert:hover {\n",
              "      background-color: #E2EBFA;\n",
              "      box-shadow: 0px 1px 2px rgba(60, 64, 67, 0.3), 0px 1px 3px 1px rgba(60, 64, 67, 0.15);\n",
              "      fill: #174EA6;\n",
              "    }\n",
              "\n",
              "    [theme=dark] .colab-df-convert {\n",
              "      background-color: #3B4455;\n",
              "      fill: #D2E3FC;\n",
              "    }\n",
              "\n",
              "    [theme=dark] .colab-df-convert:hover {\n",
              "      background-color: #434B5C;\n",
              "      box-shadow: 0px 1px 3px 1px rgba(0, 0, 0, 0.15);\n",
              "      filter: drop-shadow(0px 1px 2px rgba(0, 0, 0, 0.3));\n",
              "      fill: #FFFFFF;\n",
              "    }\n",
              "  </style>\n",
              "\n",
              "      <script>\n",
              "        const buttonEl =\n",
              "          document.querySelector('#df-5fa7f956-d17a-4cde-a4f3-d779b03b1063 button.colab-df-convert');\n",
              "        buttonEl.style.display =\n",
              "          google.colab.kernel.accessAllowed ? 'block' : 'none';\n",
              "\n",
              "        async function convertToInteractive(key) {\n",
              "          const element = document.querySelector('#df-5fa7f956-d17a-4cde-a4f3-d779b03b1063');\n",
              "          const dataTable =\n",
              "            await google.colab.kernel.invokeFunction('convertToInteractive',\n",
              "                                                     [key], {});\n",
              "          if (!dataTable) return;\n",
              "\n",
              "          const docLinkHtml = 'Like what you see? Visit the ' +\n",
              "            '<a target=\"_blank\" href=https://colab.research.google.com/notebooks/data_table.ipynb>data table notebook</a>'\n",
              "            + ' to learn more about interactive tables.';\n",
              "          element.innerHTML = '';\n",
              "          dataTable['output_type'] = 'display_data';\n",
              "          await google.colab.output.renderOutput(dataTable, element);\n",
              "          const docLink = document.createElement('div');\n",
              "          docLink.innerHTML = docLinkHtml;\n",
              "          element.appendChild(docLink);\n",
              "        }\n",
              "      </script>\n",
              "    </div>\n",
              "  </div>\n",
              "  "
            ]
          },
          "metadata": {},
          "execution_count": 148
        }
      ]
    },
    {
      "cell_type": "code",
      "source": [
        "# Aplicando o melhor modelo ao conjunto de teste\n",
        "# Pegando os valores observados e preditos da variável target\n",
        "predita_observada_tvs = modelo_dt_tvs.\\\n",
        "                        transform(df_teste).\\\n",
        "                        select('DEATH_EVENT_PRED','DEATH_EVENT')"
      ],
      "metadata": {
        "id": "F5qDf1N609Yr"
      },
      "execution_count": null,
      "outputs": []
    },
    {
      "cell_type": "code",
      "source": [
        "# Matriz de confusão\n",
        "predita_observada_tvs\\\n",
        "  .crosstab('DEATH_EVENT', 'DEATH_EVENT_PRED')\\\n",
        "  .orderBy('DEATH_EVENT_DEATH_EVENT_PRED')\\\n",
        "  .show()"
      ],
      "metadata": {
        "colab": {
          "base_uri": "https://localhost:8080/"
        },
        "id": "l5imRqhSDRj6",
        "outputId": "4e77641c-a7e5-48e7-91bd-19425fd6a0c1"
      },
      "execution_count": null,
      "outputs": [
        {
          "output_type": "stream",
          "name": "stdout",
          "text": [
            "+----------------------------+---+---+\n",
            "|DEATH_EVENT_DEATH_EVENT_PRED|0.0|1.0|\n",
            "+----------------------------+---+---+\n",
            "|                           0| 46|  8|\n",
            "|                           1| 14| 16|\n",
            "+----------------------------+---+---+\n",
            "\n"
          ]
        }
      ]
    },
    {
      "cell_type": "code",
      "source": [
        "# Alterando o tipo da variável\n",
        "predita_observada_tvs = predita_observada_tvs.withColumn(\"DEATH_EVENT\", \n",
        "                 predita_observada_tvs[\"DEATH_EVENT\"].cast('double'))\n",
        "predita_observada_tvs.printSchema()"
      ],
      "metadata": {
        "colab": {
          "base_uri": "https://localhost:8080/"
        },
        "id": "prBnFwzJK9Od",
        "outputId": "12cf1d20-9e51-4b2c-8cd2-3324e8bd8b4c"
      },
      "execution_count": null,
      "outputs": [
        {
          "output_type": "stream",
          "name": "stdout",
          "text": [
            "root\n",
            " |-- DEATH_EVENT_PRED: double (nullable = false)\n",
            " |-- DEATH_EVENT: double (nullable = true)\n",
            "\n"
          ]
        }
      ]
    },
    {
      "cell_type": "code",
      "source": [
        "# Verificando as métricas da qualidade do ajuste do modelo\n",
        "\n",
        "from pyspark.mllib.evaluation import BinaryClassificationMetrics\n",
        "from pyspark.mllib.evaluation import MulticlassMetrics\n",
        "\n",
        "# Calculando as métricas\n",
        "metricas_binaria_modelo_dt_tvs = BinaryClassificationMetrics(predita_observada_tvs.rdd)\n",
        "metricas_modelo_dt_tvs = MulticlassMetrics(predita_observada_tvs.rdd)\n",
        "\n",
        "# Calculando as métricas\n",
        "print(\"Acurácia: {0:.4f}\".format(metricas_modelo_dt_tvs.accuracy))\n",
        "print(\"F1 Score: {0:.4f}\".format(metricas_modelo_dt_tvs.weightedFMeasure()))\n",
        "print(\"AUC: {0:.4f} {1}\".format(metricas_binaria_modelo_dt_tvs.areaUnderROC,'\\n'))\n",
        "\n",
        "# Matriz de confução\n",
        "print('matriz de confusão')\n",
        "print(metricas_modelo_dt_tvs.confusionMatrix())"
      ],
      "metadata": {
        "id": "x11L75eyzAF9",
        "colab": {
          "base_uri": "https://localhost:8080/"
        },
        "outputId": "445d1499-2bcb-4697-8cbf-bf5fd31c8b15"
      },
      "execution_count": null,
      "outputs": [
        {
          "output_type": "stream",
          "name": "stdout",
          "text": [
            "Acurácia: 0.7381\n",
            "F1 Score: 0.7304\n",
            "AUC: 0.6926 \n",
            "\n",
            "matriz de confusão\n",
            "DenseMatrix([[46.,  8.],\n",
            "             [14., 16.]])\n"
          ]
        }
      ]
    },
    {
      "cell_type": "markdown",
      "source": [
        "### **Utilizando o CrossValidator**"
      ],
      "metadata": {
        "id": "_2GX8n8JWgKj"
      }
    },
    {
      "cell_type": "code",
      "source": [
        "# Definindo a validação cruzada com 3-fold\n",
        "crossval = CrossValidator(estimator=pipeline,\n",
        "                          estimatorParamMaps=paramGrid,\n",
        "                          evaluator=avaliador,\n",
        "                          numFolds=3)"
      ],
      "metadata": {
        "id": "OH-Oqhg0KXoM"
      },
      "execution_count": null,
      "outputs": []
    },
    {
      "cell_type": "code",
      "source": [
        "# Rodando a validação cruzada e escolhendo o melhor conjunto de parâmetros\n",
        "modelo_dt_cv = crossval.fit(df_treino)"
      ],
      "metadata": {
        "id": "CBcfqjYHKeqM"
      },
      "execution_count": null,
      "outputs": []
    },
    {
      "cell_type": "code",
      "source": [
        "# Criando um dataframe com os modelos e o valor de f1 de cada modelo\n",
        "modelos = pd.DataFrame(data=modelo_dt_cv.getEstimatorParamMaps())\n",
        "metricas = pd.DataFrame(data=modelo_dt_cv.avgMetrics, columns=['f1'])\n",
        "df_f1 = pd.merge(left = modelos,right = metricas, left_index=True, right_index=True)\n",
        "df_f1.sort_values(by=['f1'], inplace=True, ascending=False)\n",
        "df_f1.head(24)"
      ],
      "metadata": {
        "colab": {
          "base_uri": "https://localhost:8080/",
          "height": 238
        },
        "id": "pVvlSZnRzjIc",
        "outputId": "25328c7d-5135-4726-c334-383ad6b93678"
      },
      "execution_count": null,
      "outputs": [
        {
          "output_type": "execute_result",
          "data": {
            "text/plain": [
              "   DecisionTreeClassifier_201c05676234__maxDepth        f1\n",
              "1                                              4  0.741267\n",
              "3                                              6  0.733130\n",
              "2                                              5  0.728859\n",
              "0                                              3  0.725332\n",
              "5                                              8  0.720449\n",
              "4                                              7  0.706398"
            ],
            "text/html": [
              "\n",
              "  <div id=\"df-4948c01c-36cb-443a-9b9c-4ecd6914e2fb\">\n",
              "    <div class=\"colab-df-container\">\n",
              "      <div>\n",
              "<style scoped>\n",
              "    .dataframe tbody tr th:only-of-type {\n",
              "        vertical-align: middle;\n",
              "    }\n",
              "\n",
              "    .dataframe tbody tr th {\n",
              "        vertical-align: top;\n",
              "    }\n",
              "\n",
              "    .dataframe thead th {\n",
              "        text-align: right;\n",
              "    }\n",
              "</style>\n",
              "<table border=\"1\" class=\"dataframe\">\n",
              "  <thead>\n",
              "    <tr style=\"text-align: right;\">\n",
              "      <th></th>\n",
              "      <th>DecisionTreeClassifier_201c05676234__maxDepth</th>\n",
              "      <th>f1</th>\n",
              "    </tr>\n",
              "  </thead>\n",
              "  <tbody>\n",
              "    <tr>\n",
              "      <th>1</th>\n",
              "      <td>4</td>\n",
              "      <td>0.741267</td>\n",
              "    </tr>\n",
              "    <tr>\n",
              "      <th>3</th>\n",
              "      <td>6</td>\n",
              "      <td>0.733130</td>\n",
              "    </tr>\n",
              "    <tr>\n",
              "      <th>2</th>\n",
              "      <td>5</td>\n",
              "      <td>0.728859</td>\n",
              "    </tr>\n",
              "    <tr>\n",
              "      <th>0</th>\n",
              "      <td>3</td>\n",
              "      <td>0.725332</td>\n",
              "    </tr>\n",
              "    <tr>\n",
              "      <th>5</th>\n",
              "      <td>8</td>\n",
              "      <td>0.720449</td>\n",
              "    </tr>\n",
              "    <tr>\n",
              "      <th>4</th>\n",
              "      <td>7</td>\n",
              "      <td>0.706398</td>\n",
              "    </tr>\n",
              "  </tbody>\n",
              "</table>\n",
              "</div>\n",
              "      <button class=\"colab-df-convert\" onclick=\"convertToInteractive('df-4948c01c-36cb-443a-9b9c-4ecd6914e2fb')\"\n",
              "              title=\"Convert this dataframe to an interactive table.\"\n",
              "              style=\"display:none;\">\n",
              "        \n",
              "  <svg xmlns=\"http://www.w3.org/2000/svg\" height=\"24px\"viewBox=\"0 0 24 24\"\n",
              "       width=\"24px\">\n",
              "    <path d=\"M0 0h24v24H0V0z\" fill=\"none\"/>\n",
              "    <path d=\"M18.56 5.44l.94 2.06.94-2.06 2.06-.94-2.06-.94-.94-2.06-.94 2.06-2.06.94zm-11 1L8.5 8.5l.94-2.06 2.06-.94-2.06-.94L8.5 2.5l-.94 2.06-2.06.94zm10 10l.94 2.06.94-2.06 2.06-.94-2.06-.94-.94-2.06-.94 2.06-2.06.94z\"/><path d=\"M17.41 7.96l-1.37-1.37c-.4-.4-.92-.59-1.43-.59-.52 0-1.04.2-1.43.59L10.3 9.45l-7.72 7.72c-.78.78-.78 2.05 0 2.83L4 21.41c.39.39.9.59 1.41.59.51 0 1.02-.2 1.41-.59l7.78-7.78 2.81-2.81c.8-.78.8-2.07 0-2.86zM5.41 20L4 18.59l7.72-7.72 1.47 1.35L5.41 20z\"/>\n",
              "  </svg>\n",
              "      </button>\n",
              "      \n",
              "  <style>\n",
              "    .colab-df-container {\n",
              "      display:flex;\n",
              "      flex-wrap:wrap;\n",
              "      gap: 12px;\n",
              "    }\n",
              "\n",
              "    .colab-df-convert {\n",
              "      background-color: #E8F0FE;\n",
              "      border: none;\n",
              "      border-radius: 50%;\n",
              "      cursor: pointer;\n",
              "      display: none;\n",
              "      fill: #1967D2;\n",
              "      height: 32px;\n",
              "      padding: 0 0 0 0;\n",
              "      width: 32px;\n",
              "    }\n",
              "\n",
              "    .colab-df-convert:hover {\n",
              "      background-color: #E2EBFA;\n",
              "      box-shadow: 0px 1px 2px rgba(60, 64, 67, 0.3), 0px 1px 3px 1px rgba(60, 64, 67, 0.15);\n",
              "      fill: #174EA6;\n",
              "    }\n",
              "\n",
              "    [theme=dark] .colab-df-convert {\n",
              "      background-color: #3B4455;\n",
              "      fill: #D2E3FC;\n",
              "    }\n",
              "\n",
              "    [theme=dark] .colab-df-convert:hover {\n",
              "      background-color: #434B5C;\n",
              "      box-shadow: 0px 1px 3px 1px rgba(0, 0, 0, 0.15);\n",
              "      filter: drop-shadow(0px 1px 2px rgba(0, 0, 0, 0.3));\n",
              "      fill: #FFFFFF;\n",
              "    }\n",
              "  </style>\n",
              "\n",
              "      <script>\n",
              "        const buttonEl =\n",
              "          document.querySelector('#df-4948c01c-36cb-443a-9b9c-4ecd6914e2fb button.colab-df-convert');\n",
              "        buttonEl.style.display =\n",
              "          google.colab.kernel.accessAllowed ? 'block' : 'none';\n",
              "\n",
              "        async function convertToInteractive(key) {\n",
              "          const element = document.querySelector('#df-4948c01c-36cb-443a-9b9c-4ecd6914e2fb');\n",
              "          const dataTable =\n",
              "            await google.colab.kernel.invokeFunction('convertToInteractive',\n",
              "                                                     [key], {});\n",
              "          if (!dataTable) return;\n",
              "\n",
              "          const docLinkHtml = 'Like what you see? Visit the ' +\n",
              "            '<a target=\"_blank\" href=https://colab.research.google.com/notebooks/data_table.ipynb>data table notebook</a>'\n",
              "            + ' to learn more about interactive tables.';\n",
              "          element.innerHTML = '';\n",
              "          dataTable['output_type'] = 'display_data';\n",
              "          await google.colab.output.renderOutput(dataTable, element);\n",
              "          const docLink = document.createElement('div');\n",
              "          docLink.innerHTML = docLinkHtml;\n",
              "          element.appendChild(docLink);\n",
              "        }\n",
              "      </script>\n",
              "    </div>\n",
              "  </div>\n",
              "  "
            ]
          },
          "metadata": {},
          "execution_count": 155
        }
      ]
    },
    {
      "cell_type": "code",
      "source": [
        "# Aplicando o melhor modelo ao conjunto de teste\n",
        "# Pegando os valores observados e preditos da variável target\n",
        "predita_observada_cv = modelo_dt_cv\\\n",
        "                        .transform(df_teste)\\\n",
        "                        .select('DEATH_EVENT_PRED','DEATH_EVENT')"
      ],
      "metadata": {
        "id": "whC8RCM0-qH-"
      },
      "execution_count": null,
      "outputs": []
    },
    {
      "cell_type": "code",
      "source": [
        "# Alterando o tipo da variável\n",
        "predita_observada_cv = predita_observada_cv.withColumn(\"DEATH_EVENT\", \n",
        "                                  predita_observada_cv[\"DEATH_EVENT\"]\n",
        "                                  .cast('double'))\n",
        "predita_observada_cv.printSchema()"
      ],
      "metadata": {
        "colab": {
          "base_uri": "https://localhost:8080/"
        },
        "id": "SFGrMjWvK-4O",
        "outputId": "f74998fe-ec4b-41da-e6c5-3873ece45663"
      },
      "execution_count": null,
      "outputs": [
        {
          "output_type": "stream",
          "name": "stdout",
          "text": [
            "root\n",
            " |-- DEATH_EVENT_PRED: double (nullable = false)\n",
            " |-- DEATH_EVENT: double (nullable = true)\n",
            "\n"
          ]
        }
      ]
    },
    {
      "cell_type": "code",
      "source": [
        "# Verificando as métricas da qualidade do ajuste do modelo\n",
        "\n",
        "from pyspark.mllib.evaluation import BinaryClassificationMetrics\n",
        "from pyspark.mllib.evaluation import MulticlassMetrics\n",
        "\n",
        "# Calculando as métricas\n",
        "metricas_binaria_modelo_dt_cv = BinaryClassificationMetrics(predita_observada_cv.rdd)\n",
        "metricas_modelo_dt_cv = MulticlassMetrics(predita_observada_cv.rdd)\n",
        "\n",
        "# Calculando as métricas\n",
        "print(\"Acurácia: {0:.4f}\".format(metricas_modelo_dt_cv.accuracy))\n",
        "print(\"F1 Score: {0:.4f}\".format(metricas_modelo_dt_cv.weightedFMeasure()))\n",
        "print(\"AUC: {0:.4f} {1}\".format(metricas_binaria_modelo_dt_cv.areaUnderROC,'\\n'))\n",
        "\n",
        "# Matriz de confução\n",
        "print('matriz de confusão')\n",
        "print(metricas_modelo_dt_cv.confusionMatrix())"
      ],
      "metadata": {
        "colab": {
          "base_uri": "https://localhost:8080/"
        },
        "id": "cBIlI625oY_R",
        "outputId": "eeecef45-fda6-4bc5-ed1c-cdf0d53c7147"
      },
      "execution_count": null,
      "outputs": [
        {
          "output_type": "stream",
          "name": "stdout",
          "text": [
            "Acurácia: 0.7381\n",
            "F1 Score: 0.7230\n",
            "AUC: 0.6778 \n",
            "\n",
            "matriz de confusão\n",
            "DenseMatrix([[48.,  6.],\n",
            "             [16., 14.]])\n"
          ]
        }
      ]
    },
    {
      "cell_type": "markdown",
      "source": [
        "# **Teste 2 - Variáveis selecionadas. Nenhuma transformação**"
      ],
      "metadata": {
        "id": "zwTrSr8gP6Mf"
      }
    },
    {
      "cell_type": "markdown",
      "source": [
        "## **Pré-Processamento para Machine Learning**"
      ],
      "metadata": {
        "id": "RAxDSFcsP6Mg"
      }
    },
    {
      "cell_type": "code",
      "source": [
        "from pyspark.ml.stat import Correlation"
      ],
      "metadata": {
        "id": "FqGHTOKKSKuZ"
      },
      "execution_count": null,
      "outputs": []
    },
    {
      "cell_type": "code",
      "source": [
        "for i in df.columns:\n",
        "    if not(isinstance(df.select(i).take(1)[0][0], str)):\n",
        "\n",
        "        print(\"Correlação de DEATH_EVENT com\", i,\n",
        "               df.stat.corr('DEATH_EVENT',i))"
      ],
      "metadata": {
        "colab": {
          "base_uri": "https://localhost:8080/"
        },
        "id": "keI1CpVFT1Qy",
        "outputId": "6ccd89f4-12d9-47bf-d521-270a2ddb6af1"
      },
      "execution_count": null,
      "outputs": [
        {
          "output_type": "stream",
          "name": "stdout",
          "text": [
            "Correlação de DEATH_EVENT com age 0.25372854308800347\n",
            "Correlação de DEATH_EVENT com anaemia 0.06627009846028793\n",
            "Correlação de DEATH_EVENT com creatinine_phosphokinase 0.06272816025237478\n",
            "Correlação de DEATH_EVENT com diabetes -0.0019428833442033963\n",
            "Correlação de DEATH_EVENT com ejection_fraction -0.2686033123940612\n",
            "Correlação de DEATH_EVENT com high_blood_pressure 0.07935105769128528\n",
            "Correlação de DEATH_EVENT com platelets -0.04913886798037408\n",
            "Correlação de DEATH_EVENT com serum_creatinine 0.29427756098414926\n",
            "Correlação de DEATH_EVENT com serum_sodium -0.1952035964164019\n",
            "Correlação de DEATH_EVENT com sex -0.00431637631970314\n",
            "Correlação de DEATH_EVENT com smoking -0.012623152709359337\n",
            "Correlação de DEATH_EVENT com time -0.5269637792775774\n",
            "Correlação de DEATH_EVENT com DEATH_EVENT 1.0\n"
          ]
        }
      ]
    },
    {
      "cell_type": "code",
      "source": [
        "#selecionando variáveis com correlação -0.1 < death_event > 0,1 \n",
        "COLUMNS = ['age','ejection_fraction','serum_creatinine','serum_sodium','time']"
      ],
      "metadata": {
        "id": "RKGPjOyWP6Mg"
      },
      "execution_count": null,
      "outputs": []
    },
    {
      "cell_type": "code",
      "source": [
        "# criando uma coluna com todas as preditoras\n",
        "from pyspark.ml.linalg import Vectors\n",
        "from pyspark.ml.feature import VectorAssembler, StandardScaler\n",
        "\n",
        "# Definindo as preditoras\n",
        "def_preditoras = VectorAssembler(inputCols=COLUMNS, outputCol='preditoras')\n",
        "\n",
        "# Criando uma coluna com todas as preditoras em novo dataset\n",
        "df_pred = def_preditoras.transform(df)\n",
        "\n",
        "# Transformando os dados\n",
        "#standardScaler = StandardScaler(inputCol='preditoras', outputCol='preditoras_scaled')\n",
        "#scaled_df = standardScaler.fit(df_pred).transform(df_pred)\n",
        "#scaled_df.select('preditoras', 'preditoras_scaled').show(10, truncate=False)"
      ],
      "metadata": {
        "id": "ORCunxEnP6Mg"
      },
      "execution_count": null,
      "outputs": []
    },
    {
      "cell_type": "code",
      "source": [
        "# Pegando somente os atributos que serao utilizados na modelagem\n",
        "df_ml = df_pred.select('DEATH_EVENT', 'preditoras')\n",
        "\n",
        "# Espiando dataset final\n",
        "df_ml.show()"
      ],
      "metadata": {
        "colab": {
          "base_uri": "https://localhost:8080/"
        },
        "id": "gwle7F_RQw0s",
        "outputId": "2cd6d400-6df2-47f9-fc02-d2be9a97286c"
      },
      "execution_count": null,
      "outputs": [
        {
          "output_type": "stream",
          "name": "stdout",
          "text": [
            "+-----------+--------------------+\n",
            "|DEATH_EVENT|          preditoras|\n",
            "+-----------+--------------------+\n",
            "|          1|[75.0,20.0,1.9,13...|\n",
            "|          1|[55.0,38.0,1.1,13...|\n",
            "|          1|[65.0,20.0,1.3,12...|\n",
            "|          1|[50.0,20.0,1.9,13...|\n",
            "|          1|[65.0,20.0,2.7,11...|\n",
            "|          1|[90.0,40.0,2.1,13...|\n",
            "|          1|[75.0,15.0,1.2,13...|\n",
            "|          1|[60.0,60.0,1.1,13...|\n",
            "|          1|[65.0,65.0,1.5,13...|\n",
            "|          1|[80.0,35.0,9.4,13...|\n",
            "|          1|[75.0,38.0,4.0,13...|\n",
            "|          1|[62.0,25.0,0.9,14...|\n",
            "|          1|[45.0,30.0,1.1,13...|\n",
            "|          1|[50.0,38.0,1.1,13...|\n",
            "|          0|[49.0,30.0,1.0,13...|\n",
            "|          1|[82.0,50.0,1.3,13...|\n",
            "|          1|[87.0,38.0,0.9,14...|\n",
            "|          1|[45.0,14.0,0.8,12...|\n",
            "|          1|[70.0,25.0,1.0,14...|\n",
            "|          1|[48.0,55.0,1.9,12...|\n",
            "+-----------+--------------------+\n",
            "only showing top 20 rows\n",
            "\n"
          ]
        }
      ]
    },
    {
      "cell_type": "markdown",
      "source": [
        "## **Dividindo o dataset entre treino e teste**"
      ],
      "metadata": {
        "id": "vz2ewyHMP6Mg"
      }
    },
    {
      "cell_type": "code",
      "source": [
        "# Separando os dados entre treino e teste\n",
        "df_treino, df_teste = df_ml.randomSplit([.75,.25], seed=23112022)"
      ],
      "metadata": {
        "id": "QqawmfQgP6Mh"
      },
      "execution_count": null,
      "outputs": []
    },
    {
      "cell_type": "markdown",
      "source": [
        "## **Regressão Logística**"
      ],
      "metadata": {
        "id": "UISy-Ii2P6Mh"
      }
    },
    {
      "cell_type": "code",
      "source": [
        "from pyspark.ml.classification import LogisticRegression"
      ],
      "metadata": {
        "id": "KpJd7lrNP6Mh"
      },
      "execution_count": null,
      "outputs": []
    },
    {
      "cell_type": "code",
      "source": [
        "# Definindo\n",
        "rl= LogisticRegression(\n",
        "    featuresCol='preditoras', \n",
        "    labelCol='DEATH_EVENT', \n",
        "    predictionCol='DEATH_EVENT_PRED')"
      ],
      "metadata": {
        "id": "RYOYGh3MP6Mh"
      },
      "execution_count": null,
      "outputs": []
    },
    {
      "cell_type": "code",
      "source": [
        "# Treinando\n",
        "modelo_rl = rl.fit(df_treino)"
      ],
      "metadata": {
        "id": "UGoIT83iP6Mh"
      },
      "execution_count": null,
      "outputs": []
    },
    {
      "cell_type": "code",
      "source": [
        "# Ajustando aos dados de teste\n",
        "modelo_rl_pred = modelo_rl.transform(df_teste)"
      ],
      "metadata": {
        "id": "5QDK3KsXP6Mh"
      },
      "execution_count": null,
      "outputs": []
    },
    {
      "cell_type": "code",
      "source": [
        "# Selecionando a coluna do valor_total preditas e observadas\n",
        "predita_observada_rl = modelo_rl_pred.select('DEATH_EVENT_PRED','DEATH_EVENT')\n",
        "predita_observada_rl.show()"
      ],
      "metadata": {
        "colab": {
          "base_uri": "https://localhost:8080/"
        },
        "outputId": "b1946648-eb8b-441d-82dd-2e4fab447a1d",
        "id": "LagXyM9aP6Mh"
      },
      "execution_count": null,
      "outputs": [
        {
          "output_type": "stream",
          "name": "stdout",
          "text": [
            "+----------------+-----------+\n",
            "|DEATH_EVENT_PRED|DEATH_EVENT|\n",
            "+----------------+-----------+\n",
            "|             0.0|          0|\n",
            "|             0.0|          0|\n",
            "|             0.0|          0|\n",
            "|             0.0|          0|\n",
            "|             0.0|          0|\n",
            "|             0.0|          0|\n",
            "|             0.0|          0|\n",
            "|             0.0|          0|\n",
            "|             0.0|          0|\n",
            "|             1.0|          0|\n",
            "|             0.0|          0|\n",
            "|             0.0|          0|\n",
            "|             0.0|          0|\n",
            "|             0.0|          0|\n",
            "|             0.0|          0|\n",
            "|             0.0|          0|\n",
            "|             0.0|          0|\n",
            "|             0.0|          0|\n",
            "|             0.0|          0|\n",
            "|             0.0|          0|\n",
            "+----------------+-----------+\n",
            "only showing top 20 rows\n",
            "\n"
          ]
        }
      ]
    },
    {
      "cell_type": "code",
      "source": [
        "# Matriz de confusão\n",
        "predita_observada_rl\\\n",
        "  .crosstab('DEATH_EVENT', 'DEATH_EVENT_PRED')\\\n",
        "  .orderBy('DEATH_EVENT_DEATH_EVENT_PRED')\\\n",
        "  .show()"
      ],
      "metadata": {
        "colab": {
          "base_uri": "https://localhost:8080/"
        },
        "outputId": "f2fa7167-1183-4512-e17a-ec2317d4c19e",
        "id": "i-RC2AgUP6Mh"
      },
      "execution_count": null,
      "outputs": [
        {
          "output_type": "stream",
          "name": "stdout",
          "text": [
            "+----------------------------+---+---+\n",
            "|DEATH_EVENT_DEATH_EVENT_PRED|0.0|1.0|\n",
            "+----------------------------+---+---+\n",
            "|                           0| 51|  3|\n",
            "|                           1| 16| 14|\n",
            "+----------------------------+---+---+\n",
            "\n"
          ]
        }
      ]
    },
    {
      "cell_type": "code",
      "source": [
        "# Alterando o tipo da variável\n",
        "predita_observada_rl = predita_observada_rl.withColumn(\"DEATH_EVENT\", \n",
        "                 predita_observada_rl[\"DEATH_EVENT\"].cast('double'))\n",
        "predita_observada_rl.printSchema()"
      ],
      "metadata": {
        "colab": {
          "base_uri": "https://localhost:8080/"
        },
        "outputId": "af901628-dca5-4b57-cca0-8bdd6b789c35",
        "id": "8N1_WRbkP6Mh"
      },
      "execution_count": null,
      "outputs": [
        {
          "output_type": "stream",
          "name": "stdout",
          "text": [
            "root\n",
            " |-- DEATH_EVENT_PRED: double (nullable = false)\n",
            " |-- DEATH_EVENT: double (nullable = true)\n",
            "\n"
          ]
        }
      ]
    },
    {
      "cell_type": "code",
      "source": [
        "# Verificando as métricas da qualidade do ajuste do modelo\n",
        "\n",
        "from pyspark.mllib.evaluation import BinaryClassificationMetrics\n",
        "from pyspark.mllib.evaluation import MulticlassMetrics\n",
        "\n",
        "# Calculando as métricas\n",
        "metricas_binaria_modelo_rl = BinaryClassificationMetrics(predita_observada_rl.rdd)\n",
        "metricas_modelo_rl = MulticlassMetrics(predita_observada_rl.rdd)\n",
        "\n",
        "# Calculando as métricas\n",
        "print(\"Acurácia: {0:.4f}\".format(metricas_modelo_rl.accuracy))\n",
        "print(\"F1 Score: {0:.4f}\".format(metricas_modelo_rl.weightedFMeasure()))\n",
        "print(\"AUC: {0:.4f} {1}\".format(metricas_binaria_modelo_rl.areaUnderROC,'\\n'))\n",
        "\n",
        "# Matriz de confução\n",
        "print('matriz de confusão')\n",
        "print(metricas_modelo_rl.confusionMatrix())"
      ],
      "metadata": {
        "colab": {
          "base_uri": "https://localhost:8080/"
        },
        "outputId": "f2d43ecb-880d-4727-8205-317c88684e2d",
        "id": "j1IoB74LP6Mi"
      },
      "execution_count": null,
      "outputs": [
        {
          "output_type": "stream",
          "name": "stdout",
          "text": [
            "Acurácia: 0.7738\n",
            "F1 Score: 0.7547\n",
            "AUC: 0.7056 \n",
            "\n",
            "matriz de confusão\n",
            "DenseMatrix([[51.,  3.],\n",
            "             [16., 14.]])\n"
          ]
        }
      ]
    },
    {
      "cell_type": "markdown",
      "source": [
        "## **Árvore de Decisão**"
      ],
      "metadata": {
        "id": "avJ-yRnBP6Mi"
      }
    },
    {
      "cell_type": "code",
      "source": [
        "# definindo a árvore\n",
        "dt= DecisionTreeClassifier(\n",
        "    featuresCol='preditoras', \n",
        "    labelCol='DEATH_EVENT', \n",
        "    predictionCol='DEATH_EVENT_PRED',\n",
        "    maxDepth=5)"
      ],
      "metadata": {
        "id": "67_bqWQjP6Mi"
      },
      "execution_count": null,
      "outputs": []
    },
    {
      "cell_type": "code",
      "source": [
        "# Treinando a árvore\n",
        "modelo_dt = dt.fit(df_treino)"
      ],
      "metadata": {
        "id": "aLkgQNcwP6Mi"
      },
      "execution_count": null,
      "outputs": []
    },
    {
      "cell_type": "code",
      "source": [
        "# Ajustando a árvore aos dados de teste\n",
        "modelo_dt_pred = modelo_dt.transform(df_teste)"
      ],
      "metadata": {
        "id": "RtW9355tP6Mi"
      },
      "execution_count": null,
      "outputs": []
    },
    {
      "cell_type": "code",
      "source": [
        "# Selecionando a coluna valor_total preditas e observadas\n",
        "predita_observada_dt = modelo_dt_pred.select('DEATH_EVENT_PRED','DEATH_EVENT')\n",
        "predita_observada_dt.show()"
      ],
      "metadata": {
        "colab": {
          "base_uri": "https://localhost:8080/"
        },
        "outputId": "873508cc-ccee-4cc7-f246-af73419dce92",
        "id": "E9GEywL-P6Mi"
      },
      "execution_count": null,
      "outputs": [
        {
          "output_type": "stream",
          "name": "stdout",
          "text": [
            "+----------------+-----------+\n",
            "|DEATH_EVENT_PRED|DEATH_EVENT|\n",
            "+----------------+-----------+\n",
            "|             0.0|          0|\n",
            "|             0.0|          0|\n",
            "|             0.0|          0|\n",
            "|             0.0|          0|\n",
            "|             0.0|          0|\n",
            "|             0.0|          0|\n",
            "|             0.0|          0|\n",
            "|             0.0|          0|\n",
            "|             1.0|          0|\n",
            "|             1.0|          0|\n",
            "|             0.0|          0|\n",
            "|             0.0|          0|\n",
            "|             0.0|          0|\n",
            "|             0.0|          0|\n",
            "|             0.0|          0|\n",
            "|             0.0|          0|\n",
            "|             0.0|          0|\n",
            "|             0.0|          0|\n",
            "|             0.0|          0|\n",
            "|             0.0|          0|\n",
            "+----------------+-----------+\n",
            "only showing top 20 rows\n",
            "\n"
          ]
        }
      ]
    },
    {
      "cell_type": "code",
      "source": [
        "# Matriz de confusão\n",
        "predita_observada_dt\\\n",
        "  .crosstab('DEATH_EVENT', 'DEATH_EVENT_PRED')\\\n",
        "  .orderBy('DEATH_EVENT_DEATH_EVENT_PRED')\\\n",
        "  .show()"
      ],
      "metadata": {
        "colab": {
          "base_uri": "https://localhost:8080/"
        },
        "outputId": "45767360-b449-4505-d6be-9e028981605d",
        "id": "Qy9Dt2AjP6Mi"
      },
      "execution_count": null,
      "outputs": [
        {
          "output_type": "stream",
          "name": "stdout",
          "text": [
            "+----------------------------+---+---+\n",
            "|DEATH_EVENT_DEATH_EVENT_PRED|0.0|1.0|\n",
            "+----------------------------+---+---+\n",
            "|                           0| 50|  4|\n",
            "|                           1| 16| 14|\n",
            "+----------------------------+---+---+\n",
            "\n"
          ]
        }
      ]
    },
    {
      "cell_type": "code",
      "source": [
        "# Alterando o tipo da variável\n",
        "predita_observada_dt = predita_observada_dt.withColumn(\"DEATH_EVENT\", \n",
        "                 predita_observada_dt[\"DEATH_EVENT\"].cast('double'))\n",
        "predita_observada_dt.printSchema()"
      ],
      "metadata": {
        "colab": {
          "base_uri": "https://localhost:8080/"
        },
        "outputId": "fbc79534-fd02-413d-ac99-288a54e30ef2",
        "id": "cHen81dEP6Mj"
      },
      "execution_count": null,
      "outputs": [
        {
          "output_type": "stream",
          "name": "stdout",
          "text": [
            "root\n",
            " |-- DEATH_EVENT_PRED: double (nullable = false)\n",
            " |-- DEATH_EVENT: double (nullable = true)\n",
            "\n"
          ]
        }
      ]
    },
    {
      "cell_type": "code",
      "source": [
        "from pyspark.mllib.evaluation import BinaryClassificationMetrics\n",
        "from pyspark.mllib.evaluation import MulticlassMetrics\n",
        "\n",
        "# Calculando as métricas\n",
        "metricas_binaria_modelo_dt = BinaryClassificationMetrics(predita_observada_dt.rdd)\n",
        "metricas_modelo_dt = MulticlassMetrics(predita_observada_dt.rdd)\n",
        "\n",
        "# Calculando as métricas\n",
        "print(\"Acurácia: {0:.4f}\".format(metricas_modelo_dt.accuracy))\n",
        "print(\"F1 Score: {0:.4f}\".format(metricas_modelo_dt.weightedFMeasure()))\n",
        "print(\"AUC: {0:.4f} {1}\".format(metricas_binaria_modelo_dt.areaUnderROC,'\\n'))\n",
        "\n",
        "# Matriz de confução\n",
        "print('matriz de confusão')\n",
        "print(metricas_modelo_dt.confusionMatrix())"
      ],
      "metadata": {
        "colab": {
          "base_uri": "https://localhost:8080/"
        },
        "outputId": "846d6037-791f-453c-b09b-c652495f30fa",
        "id": "QU01BLgvP6Mj"
      },
      "execution_count": null,
      "outputs": [
        {
          "output_type": "stream",
          "name": "stdout",
          "text": [
            "Acurácia: 0.7619\n",
            "F1 Score: 0.7440\n",
            "AUC: 0.6963 \n",
            "\n",
            "matriz de confusão\n",
            "DenseMatrix([[50.,  4.],\n",
            "             [16., 14.]])\n"
          ]
        }
      ]
    },
    {
      "cell_type": "markdown",
      "source": [
        "## **Random Forest**"
      ],
      "metadata": {
        "id": "IjXbmUDQP6Mj"
      }
    },
    {
      "cell_type": "code",
      "source": [
        "from pyspark.ml.classification import RandomForestClassifier"
      ],
      "metadata": {
        "id": "SZZP5nAMP6Mj"
      },
      "execution_count": null,
      "outputs": []
    },
    {
      "cell_type": "code",
      "source": [
        "# definindo a floresta\n",
        "rf= RandomForestClassifier(\n",
        "    featuresCol='preditoras', \n",
        "    labelCol='DEATH_EVENT', \n",
        "    predictionCol='DEATH_EVENT_PRED',\n",
        "    maxDepth=5, \n",
        "    numTrees=100)"
      ],
      "metadata": {
        "id": "7o16cca_P6Mj"
      },
      "execution_count": null,
      "outputs": []
    },
    {
      "cell_type": "code",
      "source": [
        "# Treinando a floresta\n",
        "modelo_rf = rf.fit(df_treino)"
      ],
      "metadata": {
        "id": "hfsnNf-WP6Mk"
      },
      "execution_count": null,
      "outputs": []
    },
    {
      "cell_type": "code",
      "source": [
        "# Ajustando a floresta aos dados de teste\n",
        "modelo_rf_pred = modelo_rf.transform(df_teste)"
      ],
      "metadata": {
        "id": "cZZ298ztP6Mk"
      },
      "execution_count": null,
      "outputs": []
    },
    {
      "cell_type": "code",
      "source": [
        "# Selecionando as colunas valor_total preditas e observadas\n",
        "predita_observada_rf = modelo_rf_pred.select('DEATH_EVENT_PRED','DEATH_EVENT')\n",
        "predita_observada_rf.show()"
      ],
      "metadata": {
        "colab": {
          "base_uri": "https://localhost:8080/"
        },
        "outputId": "e71c26c6-f957-4834-e8ec-f80bacc7434d",
        "id": "tpNc5zRTP6Mk"
      },
      "execution_count": null,
      "outputs": [
        {
          "output_type": "stream",
          "name": "stdout",
          "text": [
            "+----------------+-----------+\n",
            "|DEATH_EVENT_PRED|DEATH_EVENT|\n",
            "+----------------+-----------+\n",
            "|             0.0|          0|\n",
            "|             0.0|          0|\n",
            "|             0.0|          0|\n",
            "|             0.0|          0|\n",
            "|             0.0|          0|\n",
            "|             0.0|          0|\n",
            "|             0.0|          0|\n",
            "|             0.0|          0|\n",
            "|             1.0|          0|\n",
            "|             1.0|          0|\n",
            "|             0.0|          0|\n",
            "|             0.0|          0|\n",
            "|             0.0|          0|\n",
            "|             0.0|          0|\n",
            "|             0.0|          0|\n",
            "|             0.0|          0|\n",
            "|             0.0|          0|\n",
            "|             0.0|          0|\n",
            "|             0.0|          0|\n",
            "|             0.0|          0|\n",
            "+----------------+-----------+\n",
            "only showing top 20 rows\n",
            "\n"
          ]
        }
      ]
    },
    {
      "cell_type": "code",
      "source": [
        "# Matriz de confusão\n",
        "predita_observada_rf\\\n",
        "  .crosstab('DEATH_EVENT', 'DEATH_EVENT_PRED')\\\n",
        "  .orderBy('DEATH_EVENT_DEATH_EVENT_PRED')\\\n",
        "  .show()"
      ],
      "metadata": {
        "colab": {
          "base_uri": "https://localhost:8080/"
        },
        "outputId": "d4f01cf5-b656-4614-cc0d-2b06817a172f",
        "id": "wfb9d-ysP6Ml"
      },
      "execution_count": null,
      "outputs": [
        {
          "output_type": "stream",
          "name": "stdout",
          "text": [
            "+----------------------------+---+---+\n",
            "|DEATH_EVENT_DEATH_EVENT_PRED|0.0|1.0|\n",
            "+----------------------------+---+---+\n",
            "|                           0| 50|  4|\n",
            "|                           1| 15| 15|\n",
            "+----------------------------+---+---+\n",
            "\n"
          ]
        }
      ]
    },
    {
      "cell_type": "code",
      "source": [
        "# Alterando o tipo da variável\n",
        "predita_observada_rf = predita_observada_rf.withColumn(\"DEATH_EVENT\", \n",
        "                 predita_observada_rf[\"DEATH_EVENT\"].cast('double'))\n",
        "predita_observada_rf.printSchema()"
      ],
      "metadata": {
        "colab": {
          "base_uri": "https://localhost:8080/"
        },
        "outputId": "6438dae0-bdf8-4042-d3f1-7866b9164282",
        "id": "UWQNKXRpP6Ml"
      },
      "execution_count": null,
      "outputs": [
        {
          "output_type": "stream",
          "name": "stdout",
          "text": [
            "root\n",
            " |-- DEATH_EVENT_PRED: double (nullable = false)\n",
            " |-- DEATH_EVENT: double (nullable = true)\n",
            "\n"
          ]
        }
      ]
    },
    {
      "cell_type": "code",
      "source": [
        "# Verificando as métricas da qualidade do ajuste do modelo\n",
        "\n",
        "from pyspark.mllib.evaluation import BinaryClassificationMetrics\n",
        "from pyspark.mllib.evaluation import MulticlassMetrics\n",
        "\n",
        "# Calculando as métricas\n",
        "metricas_binaria_modelo_rf = BinaryClassificationMetrics(predita_observada_rf.rdd)\n",
        "metricas_modelo_rf = MulticlassMetrics(predita_observada_rf.rdd)\n",
        "\n",
        "# Calculando as métricas\n",
        "print(\"Acurácia: {0:.4f}\".format(metricas_modelo_rf.accuracy))\n",
        "print(\"F1 Score: {0:.4f}\".format(metricas_modelo_rf.weightedFMeasure()))\n",
        "print(\"AUC: {0:.4f} {1}\".format(metricas_binaria_modelo_rf.areaUnderROC,'\\n'))\n",
        "\n",
        "# Matriz de confução\n",
        "print('matriz de confusão')\n",
        "print(metricas_modelo_rf.confusionMatrix())"
      ],
      "metadata": {
        "colab": {
          "base_uri": "https://localhost:8080/"
        },
        "outputId": "9667a23e-fa4a-4629-9c65-879032646f07",
        "id": "oJIMc8lcP6Ml"
      },
      "execution_count": null,
      "outputs": [
        {
          "output_type": "stream",
          "name": "stdout",
          "text": [
            "Acurácia: 0.7738\n",
            "F1 Score: 0.7589\n",
            "AUC: 0.7130 \n",
            "\n",
            "matriz de confusão\n",
            "DenseMatrix([[50.,  4.],\n",
            "             [15., 15.]])\n"
          ]
        }
      ]
    },
    {
      "cell_type": "markdown",
      "source": [
        "## **Tunando o melhor modelo**"
      ],
      "metadata": {
        "id": "VZN7QYQHP6Ml"
      }
    },
    {
      "cell_type": "code",
      "source": [
        "from pyspark.ml import Pipeline\n",
        "from pyspark.ml.tuning import ParamGridBuilder\n",
        "from pyspark.ml.tuning import TrainValidationSplit\n",
        "from pyspark.ml.tuning import CrossValidator\n",
        "from pyspark.ml.evaluation import MulticlassClassificationEvaluator "
      ],
      "metadata": {
        "id": "WSdqJheIP6Ml"
      },
      "execution_count": null,
      "outputs": []
    },
    {
      "cell_type": "markdown",
      "source": [
        "### **Configurações gerais**"
      ],
      "metadata": {
        "id": "FZvaR0ZoP6Ml"
      }
    },
    {
      "cell_type": "code",
      "source": [
        "# definindo a floresta\n",
        "floresta = RandomForestClassifier(\n",
        "    featuresCol='preditoras', \n",
        "    labelCol='DEATH_EVENT', \n",
        "    predictionCol='DEATH_EVENT_PRED'\n",
        "    )"
      ],
      "metadata": {
        "id": "-zSeeGq8P6Ml"
      },
      "execution_count": null,
      "outputs": []
    },
    {
      "cell_type": "code",
      "source": [
        "pipeline = Pipeline(stages=[floresta])"
      ],
      "metadata": {
        "id": "rRfgPC_nP6Mm"
      },
      "execution_count": null,
      "outputs": []
    },
    {
      "cell_type": "code",
      "source": [
        "paramGrid = ParamGridBuilder() \\\n",
        "    .addGrid(floresta.maxDepth, [3, 4, 5, 6, 7,8]) \\\n",
        "    .addGrid(floresta.numTrees, [10, 50, 100, 1000]) \\\n",
        "    .build()"
      ],
      "metadata": {
        "id": "vezy-t0pP6Mm"
      },
      "execution_count": null,
      "outputs": []
    },
    {
      "cell_type": "code",
      "source": [
        "paramGrid"
      ],
      "metadata": {
        "id": "gQ1ekKp7P6Mm"
      },
      "execution_count": null,
      "outputs": []
    },
    {
      "cell_type": "code",
      "source": [
        "avaliador = MulticlassClassificationEvaluator(\n",
        "    predictionCol=\"DEATH_EVENT_PRED\", \n",
        "    labelCol='DEATH_EVENT', \n",
        "    metricName='f1'\n",
        ")"
      ],
      "metadata": {
        "id": "lejI-5CKP6Mm"
      },
      "execution_count": null,
      "outputs": []
    },
    {
      "cell_type": "markdown",
      "source": [
        "### **Utilizando TrainValidationSplit**"
      ],
      "metadata": {
        "id": "czaSKmFgP6Mm"
      }
    },
    {
      "cell_type": "code",
      "source": [
        "# Definindo a tunagem através um hold-out com 1-fold\n",
        "tvs = TrainValidationSplit(estimator=pipeline,\n",
        "                           estimatorParamMaps=paramGrid,\n",
        "                           evaluator=avaliador,\n",
        "                           trainRatio=0.8)"
      ],
      "metadata": {
        "id": "kWbozV18P6Mn"
      },
      "execution_count": null,
      "outputs": []
    },
    {
      "cell_type": "code",
      "source": [
        "# Rodando hold-out e escolhendo o melhor conjunto de parâmetros\n",
        "modelo_rf_tvs = tvs.fit(df_treino)"
      ],
      "metadata": {
        "id": "e5kCVXwzP6Mn"
      },
      "execution_count": null,
      "outputs": []
    },
    {
      "cell_type": "code",
      "source": [
        "# Criando um dataframe com os modelos e o valor de f1 de cada modelo\n",
        "modelos = pd.DataFrame(data=modelo_rf_tvs.getEstimatorParamMaps())\n",
        "metricas = pd.DataFrame(data=modelo_rf_tvs.validationMetrics, columns=['f1'])\n",
        "df_f1 = pd.merge(left = modelos,right = metricas, left_index=True, right_index=True)\n",
        "df_f1.sort_values(by=['f1'], inplace=True, ascending=False)\n",
        "df_f1.head(24)"
      ],
      "metadata": {
        "colab": {
          "base_uri": "https://localhost:8080/",
          "height": 802
        },
        "outputId": "f66ce3c7-5585-4756-8fa0-348d6919b101",
        "id": "iJTOL1MpP6Mn"
      },
      "execution_count": null,
      "outputs": [
        {
          "output_type": "execute_result",
          "data": {
            "text/plain": [
              "    RandomForestClassifier_551876c96534__maxDepth  \\\n",
              "18                                              7   \n",
              "22                                              8   \n",
              "14                                              6   \n",
              "1                                               3   \n",
              "3                                               3   \n",
              "6                                               4   \n",
              "23                                              8   \n",
              "15                                              6   \n",
              "10                                              5   \n",
              "19                                              7   \n",
              "7                                               4   \n",
              "5                                               4   \n",
              "2                                               3   \n",
              "9                                               5   \n",
              "11                                              5   \n",
              "21                                              8   \n",
              "13                                              6   \n",
              "17                                              7   \n",
              "16                                              7   \n",
              "20                                              8   \n",
              "0                                               3   \n",
              "8                                               5   \n",
              "4                                               4   \n",
              "12                                              6   \n",
              "\n",
              "    RandomForestClassifier_551876c96534__numTrees        f1  \n",
              "18                                            100  0.913043  \n",
              "22                                            100  0.913043  \n",
              "14                                            100  0.913043  \n",
              "1                                              50  0.911297  \n",
              "3                                            1000  0.911297  \n",
              "6                                             100  0.911297  \n",
              "23                                           1000  0.890293  \n",
              "15                                           1000  0.890293  \n",
              "10                                            100  0.890293  \n",
              "19                                           1000  0.890293  \n",
              "7                                            1000  0.887774  \n",
              "5                                              50  0.887774  \n",
              "2                                             100  0.887774  \n",
              "9                                              50  0.866945  \n",
              "11                                           1000  0.866945  \n",
              "21                                             50  0.866945  \n",
              "13                                             50  0.866945  \n",
              "17                                             50  0.866945  \n",
              "16                                             10  0.842884  \n",
              "20                                             10  0.822593  \n",
              "0                                              10  0.817979  \n",
              "8                                              10  0.817979  \n",
              "4                                              10  0.817979  \n",
              "12                                             10  0.817979  "
            ],
            "text/html": [
              "\n",
              "  <div id=\"df-f55baf5c-ea3c-43c6-b5ea-7ec2620c1766\">\n",
              "    <div class=\"colab-df-container\">\n",
              "      <div>\n",
              "<style scoped>\n",
              "    .dataframe tbody tr th:only-of-type {\n",
              "        vertical-align: middle;\n",
              "    }\n",
              "\n",
              "    .dataframe tbody tr th {\n",
              "        vertical-align: top;\n",
              "    }\n",
              "\n",
              "    .dataframe thead th {\n",
              "        text-align: right;\n",
              "    }\n",
              "</style>\n",
              "<table border=\"1\" class=\"dataframe\">\n",
              "  <thead>\n",
              "    <tr style=\"text-align: right;\">\n",
              "      <th></th>\n",
              "      <th>RandomForestClassifier_551876c96534__maxDepth</th>\n",
              "      <th>RandomForestClassifier_551876c96534__numTrees</th>\n",
              "      <th>f1</th>\n",
              "    </tr>\n",
              "  </thead>\n",
              "  <tbody>\n",
              "    <tr>\n",
              "      <th>18</th>\n",
              "      <td>7</td>\n",
              "      <td>100</td>\n",
              "      <td>0.913043</td>\n",
              "    </tr>\n",
              "    <tr>\n",
              "      <th>22</th>\n",
              "      <td>8</td>\n",
              "      <td>100</td>\n",
              "      <td>0.913043</td>\n",
              "    </tr>\n",
              "    <tr>\n",
              "      <th>14</th>\n",
              "      <td>6</td>\n",
              "      <td>100</td>\n",
              "      <td>0.913043</td>\n",
              "    </tr>\n",
              "    <tr>\n",
              "      <th>1</th>\n",
              "      <td>3</td>\n",
              "      <td>50</td>\n",
              "      <td>0.911297</td>\n",
              "    </tr>\n",
              "    <tr>\n",
              "      <th>3</th>\n",
              "      <td>3</td>\n",
              "      <td>1000</td>\n",
              "      <td>0.911297</td>\n",
              "    </tr>\n",
              "    <tr>\n",
              "      <th>6</th>\n",
              "      <td>4</td>\n",
              "      <td>100</td>\n",
              "      <td>0.911297</td>\n",
              "    </tr>\n",
              "    <tr>\n",
              "      <th>23</th>\n",
              "      <td>8</td>\n",
              "      <td>1000</td>\n",
              "      <td>0.890293</td>\n",
              "    </tr>\n",
              "    <tr>\n",
              "      <th>15</th>\n",
              "      <td>6</td>\n",
              "      <td>1000</td>\n",
              "      <td>0.890293</td>\n",
              "    </tr>\n",
              "    <tr>\n",
              "      <th>10</th>\n",
              "      <td>5</td>\n",
              "      <td>100</td>\n",
              "      <td>0.890293</td>\n",
              "    </tr>\n",
              "    <tr>\n",
              "      <th>19</th>\n",
              "      <td>7</td>\n",
              "      <td>1000</td>\n",
              "      <td>0.890293</td>\n",
              "    </tr>\n",
              "    <tr>\n",
              "      <th>7</th>\n",
              "      <td>4</td>\n",
              "      <td>1000</td>\n",
              "      <td>0.887774</td>\n",
              "    </tr>\n",
              "    <tr>\n",
              "      <th>5</th>\n",
              "      <td>4</td>\n",
              "      <td>50</td>\n",
              "      <td>0.887774</td>\n",
              "    </tr>\n",
              "    <tr>\n",
              "      <th>2</th>\n",
              "      <td>3</td>\n",
              "      <td>100</td>\n",
              "      <td>0.887774</td>\n",
              "    </tr>\n",
              "    <tr>\n",
              "      <th>9</th>\n",
              "      <td>5</td>\n",
              "      <td>50</td>\n",
              "      <td>0.866945</td>\n",
              "    </tr>\n",
              "    <tr>\n",
              "      <th>11</th>\n",
              "      <td>5</td>\n",
              "      <td>1000</td>\n",
              "      <td>0.866945</td>\n",
              "    </tr>\n",
              "    <tr>\n",
              "      <th>21</th>\n",
              "      <td>8</td>\n",
              "      <td>50</td>\n",
              "      <td>0.866945</td>\n",
              "    </tr>\n",
              "    <tr>\n",
              "      <th>13</th>\n",
              "      <td>6</td>\n",
              "      <td>50</td>\n",
              "      <td>0.866945</td>\n",
              "    </tr>\n",
              "    <tr>\n",
              "      <th>17</th>\n",
              "      <td>7</td>\n",
              "      <td>50</td>\n",
              "      <td>0.866945</td>\n",
              "    </tr>\n",
              "    <tr>\n",
              "      <th>16</th>\n",
              "      <td>7</td>\n",
              "      <td>10</td>\n",
              "      <td>0.842884</td>\n",
              "    </tr>\n",
              "    <tr>\n",
              "      <th>20</th>\n",
              "      <td>8</td>\n",
              "      <td>10</td>\n",
              "      <td>0.822593</td>\n",
              "    </tr>\n",
              "    <tr>\n",
              "      <th>0</th>\n",
              "      <td>3</td>\n",
              "      <td>10</td>\n",
              "      <td>0.817979</td>\n",
              "    </tr>\n",
              "    <tr>\n",
              "      <th>8</th>\n",
              "      <td>5</td>\n",
              "      <td>10</td>\n",
              "      <td>0.817979</td>\n",
              "    </tr>\n",
              "    <tr>\n",
              "      <th>4</th>\n",
              "      <td>4</td>\n",
              "      <td>10</td>\n",
              "      <td>0.817979</td>\n",
              "    </tr>\n",
              "    <tr>\n",
              "      <th>12</th>\n",
              "      <td>6</td>\n",
              "      <td>10</td>\n",
              "      <td>0.817979</td>\n",
              "    </tr>\n",
              "  </tbody>\n",
              "</table>\n",
              "</div>\n",
              "      <button class=\"colab-df-convert\" onclick=\"convertToInteractive('df-f55baf5c-ea3c-43c6-b5ea-7ec2620c1766')\"\n",
              "              title=\"Convert this dataframe to an interactive table.\"\n",
              "              style=\"display:none;\">\n",
              "        \n",
              "  <svg xmlns=\"http://www.w3.org/2000/svg\" height=\"24px\"viewBox=\"0 0 24 24\"\n",
              "       width=\"24px\">\n",
              "    <path d=\"M0 0h24v24H0V0z\" fill=\"none\"/>\n",
              "    <path d=\"M18.56 5.44l.94 2.06.94-2.06 2.06-.94-2.06-.94-.94-2.06-.94 2.06-2.06.94zm-11 1L8.5 8.5l.94-2.06 2.06-.94-2.06-.94L8.5 2.5l-.94 2.06-2.06.94zm10 10l.94 2.06.94-2.06 2.06-.94-2.06-.94-.94-2.06-.94 2.06-2.06.94z\"/><path d=\"M17.41 7.96l-1.37-1.37c-.4-.4-.92-.59-1.43-.59-.52 0-1.04.2-1.43.59L10.3 9.45l-7.72 7.72c-.78.78-.78 2.05 0 2.83L4 21.41c.39.39.9.59 1.41.59.51 0 1.02-.2 1.41-.59l7.78-7.78 2.81-2.81c.8-.78.8-2.07 0-2.86zM5.41 20L4 18.59l7.72-7.72 1.47 1.35L5.41 20z\"/>\n",
              "  </svg>\n",
              "      </button>\n",
              "      \n",
              "  <style>\n",
              "    .colab-df-container {\n",
              "      display:flex;\n",
              "      flex-wrap:wrap;\n",
              "      gap: 12px;\n",
              "    }\n",
              "\n",
              "    .colab-df-convert {\n",
              "      background-color: #E8F0FE;\n",
              "      border: none;\n",
              "      border-radius: 50%;\n",
              "      cursor: pointer;\n",
              "      display: none;\n",
              "      fill: #1967D2;\n",
              "      height: 32px;\n",
              "      padding: 0 0 0 0;\n",
              "      width: 32px;\n",
              "    }\n",
              "\n",
              "    .colab-df-convert:hover {\n",
              "      background-color: #E2EBFA;\n",
              "      box-shadow: 0px 1px 2px rgba(60, 64, 67, 0.3), 0px 1px 3px 1px rgba(60, 64, 67, 0.15);\n",
              "      fill: #174EA6;\n",
              "    }\n",
              "\n",
              "    [theme=dark] .colab-df-convert {\n",
              "      background-color: #3B4455;\n",
              "      fill: #D2E3FC;\n",
              "    }\n",
              "\n",
              "    [theme=dark] .colab-df-convert:hover {\n",
              "      background-color: #434B5C;\n",
              "      box-shadow: 0px 1px 3px 1px rgba(0, 0, 0, 0.15);\n",
              "      filter: drop-shadow(0px 1px 2px rgba(0, 0, 0, 0.3));\n",
              "      fill: #FFFFFF;\n",
              "    }\n",
              "  </style>\n",
              "\n",
              "      <script>\n",
              "        const buttonEl =\n",
              "          document.querySelector('#df-f55baf5c-ea3c-43c6-b5ea-7ec2620c1766 button.colab-df-convert');\n",
              "        buttonEl.style.display =\n",
              "          google.colab.kernel.accessAllowed ? 'block' : 'none';\n",
              "\n",
              "        async function convertToInteractive(key) {\n",
              "          const element = document.querySelector('#df-f55baf5c-ea3c-43c6-b5ea-7ec2620c1766');\n",
              "          const dataTable =\n",
              "            await google.colab.kernel.invokeFunction('convertToInteractive',\n",
              "                                                     [key], {});\n",
              "          if (!dataTable) return;\n",
              "\n",
              "          const docLinkHtml = 'Like what you see? Visit the ' +\n",
              "            '<a target=\"_blank\" href=https://colab.research.google.com/notebooks/data_table.ipynb>data table notebook</a>'\n",
              "            + ' to learn more about interactive tables.';\n",
              "          element.innerHTML = '';\n",
              "          dataTable['output_type'] = 'display_data';\n",
              "          await google.colab.output.renderOutput(dataTable, element);\n",
              "          const docLink = document.createElement('div');\n",
              "          docLink.innerHTML = docLinkHtml;\n",
              "          element.appendChild(docLink);\n",
              "        }\n",
              "      </script>\n",
              "    </div>\n",
              "  </div>\n",
              "  "
            ]
          },
          "metadata": {},
          "execution_count": 262
        }
      ]
    },
    {
      "cell_type": "code",
      "source": [
        "# Aplicando o melhor modelo ao conjunto de teste\n",
        "# Pegando os valores observados e preditos da variável target\n",
        "predita_observada_tvs = modelo_rf_tvs.\\\n",
        "                        transform(df_teste).\\\n",
        "                        select('DEATH_EVENT_PRED','DEATH_EVENT')"
      ],
      "metadata": {
        "id": "MIVwQBVgP6Mo"
      },
      "execution_count": null,
      "outputs": []
    },
    {
      "cell_type": "code",
      "source": [
        "# Matriz de confusão\n",
        "predita_observada_tvs\\\n",
        "  .crosstab('DEATH_EVENT', 'DEATH_EVENT_PRED')\\\n",
        "  .orderBy('DEATH_EVENT_DEATH_EVENT_PRED')\\\n",
        "  .show()"
      ],
      "metadata": {
        "colab": {
          "base_uri": "https://localhost:8080/"
        },
        "outputId": "d605f445-9f06-4fb4-d5f0-482ff9915f2d",
        "id": "hN1QsxEDP6Mo"
      },
      "execution_count": null,
      "outputs": [
        {
          "output_type": "stream",
          "name": "stdout",
          "text": [
            "+----------------------------+---+---+\n",
            "|DEATH_EVENT_DEATH_EVENT_PRED|0.0|1.0|\n",
            "+----------------------------+---+---+\n",
            "|                           0| 50|  4|\n",
            "|                           1| 15| 15|\n",
            "+----------------------------+---+---+\n",
            "\n"
          ]
        }
      ]
    },
    {
      "cell_type": "code",
      "source": [
        "# Alterando o tipo da variável\n",
        "predita_observada_tvs = predita_observada_tvs.withColumn(\"DEATH_EVENT\", \n",
        "                 predita_observada_tvs[\"DEATH_EVENT\"].cast('double'))\n",
        "predita_observada_tvs.printSchema()"
      ],
      "metadata": {
        "colab": {
          "base_uri": "https://localhost:8080/"
        },
        "outputId": "79598a25-3366-4940-d826-1a5e5d5eec86",
        "id": "Fd3gRYwaP6Mo"
      },
      "execution_count": null,
      "outputs": [
        {
          "output_type": "stream",
          "name": "stdout",
          "text": [
            "root\n",
            " |-- DEATH_EVENT_PRED: double (nullable = false)\n",
            " |-- DEATH_EVENT: double (nullable = true)\n",
            "\n"
          ]
        }
      ]
    },
    {
      "cell_type": "code",
      "source": [
        "# Verificando as métricas da qualidade do ajuste do modelo\n",
        "\n",
        "from pyspark.mllib.evaluation import BinaryClassificationMetrics\n",
        "from pyspark.mllib.evaluation import MulticlassMetrics\n",
        "\n",
        "# Calculando as métricas\n",
        "metricas_binaria_modelo_rf_tvs = BinaryClassificationMetrics(predita_observada_tvs.rdd)\n",
        "metricas_modelo_rf_tvs = MulticlassMetrics(predita_observada_tvs.rdd)\n",
        "\n",
        "# Calculando as métricas\n",
        "print(\"Acurácia: {0:.4f}\".format(metricas_modelo_rf_tvs.accuracy))\n",
        "print(\"F1 Score: {0:.4f}\".format(metricas_modelo_rf_tvs.weightedFMeasure()))\n",
        "print(\"AUC: {0:.4f} {1}\".format(metricas_binaria_modelo_rf_tvs.areaUnderROC,'\\n'))\n",
        "\n",
        "# Matriz de confução\n",
        "print('matriz de confusão')\n",
        "print(metricas_modelo_rf_tvs.confusionMatrix())"
      ],
      "metadata": {
        "colab": {
          "base_uri": "https://localhost:8080/"
        },
        "outputId": "bc33e58b-3ef2-4d59-da9a-ba09d711b32c",
        "id": "8V7FkottP6Mo"
      },
      "execution_count": null,
      "outputs": [
        {
          "output_type": "stream",
          "name": "stdout",
          "text": [
            "Acurácia: 0.7738\n",
            "F1 Score: 0.7589\n",
            "AUC: 0.7130 \n",
            "\n",
            "matriz de confusão\n",
            "DenseMatrix([[50.,  4.],\n",
            "             [15., 15.]])\n"
          ]
        }
      ]
    },
    {
      "cell_type": "markdown",
      "source": [
        "### **Utilizando o CrossValidator**"
      ],
      "metadata": {
        "id": "N1hJlVxEP6Mo"
      }
    },
    {
      "cell_type": "code",
      "source": [
        "# Definindo a validação cruzada com 3-fold\n",
        "crossval = CrossValidator(estimator=pipeline,\n",
        "                          estimatorParamMaps=paramGrid,\n",
        "                          evaluator=avaliador,\n",
        "                          numFolds=3)"
      ],
      "metadata": {
        "id": "ulLe6yrFP6Mp"
      },
      "execution_count": null,
      "outputs": []
    },
    {
      "cell_type": "code",
      "source": [
        "# Rodando a validação cruzada e escolhendo o melhor conjunto de parâmetros\n",
        "modelo_rf_cv = crossval.fit(df_treino)"
      ],
      "metadata": {
        "id": "Q_KagflfP6Mp"
      },
      "execution_count": null,
      "outputs": []
    },
    {
      "cell_type": "code",
      "source": [
        "# Criando um dataframe com os modelos e o valor de f1 de cada modelo\n",
        "modelos = pd.DataFrame(data=modelo_rf_cv.getEstimatorParamMaps())\n",
        "metricas = pd.DataFrame(data=modelo_rf_cv.avgMetrics, columns=['f1'])\n",
        "df_f1 = pd.merge(left = modelos,right = metricas, left_index=True, right_index=True)\n",
        "df_f1.sort_values(by=['f1'], inplace=True, ascending=False)\n",
        "df_f1.head(24)"
      ],
      "metadata": {
        "colab": {
          "base_uri": "https://localhost:8080/",
          "height": 802
        },
        "outputId": "5308194f-f87a-49dc-cb0f-27da08d7ed52",
        "id": "im2xwNUtP6Mp"
      },
      "execution_count": null,
      "outputs": [
        {
          "output_type": "execute_result",
          "data": {
            "text/plain": [
              "    RandomForestClassifier_551876c96534__maxDepth  \\\n",
              "9                                               5   \n",
              "17                                              7   \n",
              "13                                              6   \n",
              "5                                               4   \n",
              "1                                               3   \n",
              "21                                              8   \n",
              "6                                               4   \n",
              "22                                              8   \n",
              "11                                              5   \n",
              "7                                               4   \n",
              "3                                               3   \n",
              "23                                              8   \n",
              "15                                              6   \n",
              "18                                              7   \n",
              "10                                              5   \n",
              "14                                              6   \n",
              "19                                              7   \n",
              "2                                               3   \n",
              "4                                               4   \n",
              "8                                               5   \n",
              "0                                               3   \n",
              "12                                              6   \n",
              "16                                              7   \n",
              "20                                              8   \n",
              "\n",
              "    RandomForestClassifier_551876c96534__numTrees        f1  \n",
              "9                                              50  0.890976  \n",
              "17                                             50  0.886415  \n",
              "13                                             50  0.886415  \n",
              "5                                              50  0.886400  \n",
              "1                                              50  0.885905  \n",
              "21                                             50  0.882245  \n",
              "6                                             100  0.877176  \n",
              "22                                            100  0.877176  \n",
              "11                                           1000  0.877176  \n",
              "7                                            1000  0.876555  \n",
              "3                                            1000  0.874997  \n",
              "23                                           1000  0.872672  \n",
              "15                                           1000  0.872672  \n",
              "18                                            100  0.872672  \n",
              "10                                            100  0.872672  \n",
              "14                                            100  0.872672  \n",
              "19                                           1000  0.872672  \n",
              "2                                             100  0.870493  \n",
              "4                                              10  0.854376  \n",
              "8                                              10  0.843524  \n",
              "0                                              10  0.837837  \n",
              "12                                             10  0.834266  \n",
              "16                                             10  0.819508  \n",
              "20                                             10  0.814476  "
            ],
            "text/html": [
              "\n",
              "  <div id=\"df-613ae947-a0c9-46b2-99de-d7fe8112b7d6\">\n",
              "    <div class=\"colab-df-container\">\n",
              "      <div>\n",
              "<style scoped>\n",
              "    .dataframe tbody tr th:only-of-type {\n",
              "        vertical-align: middle;\n",
              "    }\n",
              "\n",
              "    .dataframe tbody tr th {\n",
              "        vertical-align: top;\n",
              "    }\n",
              "\n",
              "    .dataframe thead th {\n",
              "        text-align: right;\n",
              "    }\n",
              "</style>\n",
              "<table border=\"1\" class=\"dataframe\">\n",
              "  <thead>\n",
              "    <tr style=\"text-align: right;\">\n",
              "      <th></th>\n",
              "      <th>RandomForestClassifier_551876c96534__maxDepth</th>\n",
              "      <th>RandomForestClassifier_551876c96534__numTrees</th>\n",
              "      <th>f1</th>\n",
              "    </tr>\n",
              "  </thead>\n",
              "  <tbody>\n",
              "    <tr>\n",
              "      <th>9</th>\n",
              "      <td>5</td>\n",
              "      <td>50</td>\n",
              "      <td>0.890976</td>\n",
              "    </tr>\n",
              "    <tr>\n",
              "      <th>17</th>\n",
              "      <td>7</td>\n",
              "      <td>50</td>\n",
              "      <td>0.886415</td>\n",
              "    </tr>\n",
              "    <tr>\n",
              "      <th>13</th>\n",
              "      <td>6</td>\n",
              "      <td>50</td>\n",
              "      <td>0.886415</td>\n",
              "    </tr>\n",
              "    <tr>\n",
              "      <th>5</th>\n",
              "      <td>4</td>\n",
              "      <td>50</td>\n",
              "      <td>0.886400</td>\n",
              "    </tr>\n",
              "    <tr>\n",
              "      <th>1</th>\n",
              "      <td>3</td>\n",
              "      <td>50</td>\n",
              "      <td>0.885905</td>\n",
              "    </tr>\n",
              "    <tr>\n",
              "      <th>21</th>\n",
              "      <td>8</td>\n",
              "      <td>50</td>\n",
              "      <td>0.882245</td>\n",
              "    </tr>\n",
              "    <tr>\n",
              "      <th>6</th>\n",
              "      <td>4</td>\n",
              "      <td>100</td>\n",
              "      <td>0.877176</td>\n",
              "    </tr>\n",
              "    <tr>\n",
              "      <th>22</th>\n",
              "      <td>8</td>\n",
              "      <td>100</td>\n",
              "      <td>0.877176</td>\n",
              "    </tr>\n",
              "    <tr>\n",
              "      <th>11</th>\n",
              "      <td>5</td>\n",
              "      <td>1000</td>\n",
              "      <td>0.877176</td>\n",
              "    </tr>\n",
              "    <tr>\n",
              "      <th>7</th>\n",
              "      <td>4</td>\n",
              "      <td>1000</td>\n",
              "      <td>0.876555</td>\n",
              "    </tr>\n",
              "    <tr>\n",
              "      <th>3</th>\n",
              "      <td>3</td>\n",
              "      <td>1000</td>\n",
              "      <td>0.874997</td>\n",
              "    </tr>\n",
              "    <tr>\n",
              "      <th>23</th>\n",
              "      <td>8</td>\n",
              "      <td>1000</td>\n",
              "      <td>0.872672</td>\n",
              "    </tr>\n",
              "    <tr>\n",
              "      <th>15</th>\n",
              "      <td>6</td>\n",
              "      <td>1000</td>\n",
              "      <td>0.872672</td>\n",
              "    </tr>\n",
              "    <tr>\n",
              "      <th>18</th>\n",
              "      <td>7</td>\n",
              "      <td>100</td>\n",
              "      <td>0.872672</td>\n",
              "    </tr>\n",
              "    <tr>\n",
              "      <th>10</th>\n",
              "      <td>5</td>\n",
              "      <td>100</td>\n",
              "      <td>0.872672</td>\n",
              "    </tr>\n",
              "    <tr>\n",
              "      <th>14</th>\n",
              "      <td>6</td>\n",
              "      <td>100</td>\n",
              "      <td>0.872672</td>\n",
              "    </tr>\n",
              "    <tr>\n",
              "      <th>19</th>\n",
              "      <td>7</td>\n",
              "      <td>1000</td>\n",
              "      <td>0.872672</td>\n",
              "    </tr>\n",
              "    <tr>\n",
              "      <th>2</th>\n",
              "      <td>3</td>\n",
              "      <td>100</td>\n",
              "      <td>0.870493</td>\n",
              "    </tr>\n",
              "    <tr>\n",
              "      <th>4</th>\n",
              "      <td>4</td>\n",
              "      <td>10</td>\n",
              "      <td>0.854376</td>\n",
              "    </tr>\n",
              "    <tr>\n",
              "      <th>8</th>\n",
              "      <td>5</td>\n",
              "      <td>10</td>\n",
              "      <td>0.843524</td>\n",
              "    </tr>\n",
              "    <tr>\n",
              "      <th>0</th>\n",
              "      <td>3</td>\n",
              "      <td>10</td>\n",
              "      <td>0.837837</td>\n",
              "    </tr>\n",
              "    <tr>\n",
              "      <th>12</th>\n",
              "      <td>6</td>\n",
              "      <td>10</td>\n",
              "      <td>0.834266</td>\n",
              "    </tr>\n",
              "    <tr>\n",
              "      <th>16</th>\n",
              "      <td>7</td>\n",
              "      <td>10</td>\n",
              "      <td>0.819508</td>\n",
              "    </tr>\n",
              "    <tr>\n",
              "      <th>20</th>\n",
              "      <td>8</td>\n",
              "      <td>10</td>\n",
              "      <td>0.814476</td>\n",
              "    </tr>\n",
              "  </tbody>\n",
              "</table>\n",
              "</div>\n",
              "      <button class=\"colab-df-convert\" onclick=\"convertToInteractive('df-613ae947-a0c9-46b2-99de-d7fe8112b7d6')\"\n",
              "              title=\"Convert this dataframe to an interactive table.\"\n",
              "              style=\"display:none;\">\n",
              "        \n",
              "  <svg xmlns=\"http://www.w3.org/2000/svg\" height=\"24px\"viewBox=\"0 0 24 24\"\n",
              "       width=\"24px\">\n",
              "    <path d=\"M0 0h24v24H0V0z\" fill=\"none\"/>\n",
              "    <path d=\"M18.56 5.44l.94 2.06.94-2.06 2.06-.94-2.06-.94-.94-2.06-.94 2.06-2.06.94zm-11 1L8.5 8.5l.94-2.06 2.06-.94-2.06-.94L8.5 2.5l-.94 2.06-2.06.94zm10 10l.94 2.06.94-2.06 2.06-.94-2.06-.94-.94-2.06-.94 2.06-2.06.94z\"/><path d=\"M17.41 7.96l-1.37-1.37c-.4-.4-.92-.59-1.43-.59-.52 0-1.04.2-1.43.59L10.3 9.45l-7.72 7.72c-.78.78-.78 2.05 0 2.83L4 21.41c.39.39.9.59 1.41.59.51 0 1.02-.2 1.41-.59l7.78-7.78 2.81-2.81c.8-.78.8-2.07 0-2.86zM5.41 20L4 18.59l7.72-7.72 1.47 1.35L5.41 20z\"/>\n",
              "  </svg>\n",
              "      </button>\n",
              "      \n",
              "  <style>\n",
              "    .colab-df-container {\n",
              "      display:flex;\n",
              "      flex-wrap:wrap;\n",
              "      gap: 12px;\n",
              "    }\n",
              "\n",
              "    .colab-df-convert {\n",
              "      background-color: #E8F0FE;\n",
              "      border: none;\n",
              "      border-radius: 50%;\n",
              "      cursor: pointer;\n",
              "      display: none;\n",
              "      fill: #1967D2;\n",
              "      height: 32px;\n",
              "      padding: 0 0 0 0;\n",
              "      width: 32px;\n",
              "    }\n",
              "\n",
              "    .colab-df-convert:hover {\n",
              "      background-color: #E2EBFA;\n",
              "      box-shadow: 0px 1px 2px rgba(60, 64, 67, 0.3), 0px 1px 3px 1px rgba(60, 64, 67, 0.15);\n",
              "      fill: #174EA6;\n",
              "    }\n",
              "\n",
              "    [theme=dark] .colab-df-convert {\n",
              "      background-color: #3B4455;\n",
              "      fill: #D2E3FC;\n",
              "    }\n",
              "\n",
              "    [theme=dark] .colab-df-convert:hover {\n",
              "      background-color: #434B5C;\n",
              "      box-shadow: 0px 1px 3px 1px rgba(0, 0, 0, 0.15);\n",
              "      filter: drop-shadow(0px 1px 2px rgba(0, 0, 0, 0.3));\n",
              "      fill: #FFFFFF;\n",
              "    }\n",
              "  </style>\n",
              "\n",
              "      <script>\n",
              "        const buttonEl =\n",
              "          document.querySelector('#df-613ae947-a0c9-46b2-99de-d7fe8112b7d6 button.colab-df-convert');\n",
              "        buttonEl.style.display =\n",
              "          google.colab.kernel.accessAllowed ? 'block' : 'none';\n",
              "\n",
              "        async function convertToInteractive(key) {\n",
              "          const element = document.querySelector('#df-613ae947-a0c9-46b2-99de-d7fe8112b7d6');\n",
              "          const dataTable =\n",
              "            await google.colab.kernel.invokeFunction('convertToInteractive',\n",
              "                                                     [key], {});\n",
              "          if (!dataTable) return;\n",
              "\n",
              "          const docLinkHtml = 'Like what you see? Visit the ' +\n",
              "            '<a target=\"_blank\" href=https://colab.research.google.com/notebooks/data_table.ipynb>data table notebook</a>'\n",
              "            + ' to learn more about interactive tables.';\n",
              "          element.innerHTML = '';\n",
              "          dataTable['output_type'] = 'display_data';\n",
              "          await google.colab.output.renderOutput(dataTable, element);\n",
              "          const docLink = document.createElement('div');\n",
              "          docLink.innerHTML = docLinkHtml;\n",
              "          element.appendChild(docLink);\n",
              "        }\n",
              "      </script>\n",
              "    </div>\n",
              "  </div>\n",
              "  "
            ]
          },
          "metadata": {},
          "execution_count": 269
        }
      ]
    },
    {
      "cell_type": "code",
      "source": [
        "# Aplicando o melhor modelo ao conjunto de teste\n",
        "# Pegando os valores observados e preditos da variável target\n",
        "predita_observada_cv = modelo_rf_cv\\\n",
        "                        .transform(df_teste)\\\n",
        "                        .select('DEATH_EVENT_PRED','DEATH_EVENT')"
      ],
      "metadata": {
        "id": "1gqatNqsP6Mr"
      },
      "execution_count": null,
      "outputs": []
    },
    {
      "cell_type": "code",
      "source": [
        "# Alterando o tipo da variável\n",
        "predita_observada_cv = predita_observada_cv.withColumn(\"DEATH_EVENT\", \n",
        "                                  predita_observada_cv[\"DEATH_EVENT\"]\n",
        "                                  .cast('double'))\n",
        "predita_observada_cv.printSchema()"
      ],
      "metadata": {
        "colab": {
          "base_uri": "https://localhost:8080/"
        },
        "outputId": "2c1968c6-544c-4a7d-acab-609817caec7b",
        "id": "FTf7sC1WP6Mr"
      },
      "execution_count": null,
      "outputs": [
        {
          "output_type": "stream",
          "name": "stdout",
          "text": [
            "root\n",
            " |-- DEATH_EVENT_PRED: double (nullable = false)\n",
            " |-- DEATH_EVENT: double (nullable = true)\n",
            "\n"
          ]
        }
      ]
    },
    {
      "cell_type": "code",
      "source": [
        "# Verificando as métricas da qualidade do ajuste do modelo\n",
        "\n",
        "from pyspark.mllib.evaluation import BinaryClassificationMetrics\n",
        "from pyspark.mllib.evaluation import MulticlassMetrics\n",
        "\n",
        "# Calculando as métricas\n",
        "metricas_binaria_modelo_rf_cv = BinaryClassificationMetrics(predita_observada_cv.rdd)\n",
        "metricas_modelo_rf_cv = MulticlassMetrics(predita_observada_cv.rdd)\n",
        "\n",
        "# Calculando as métricas\n",
        "print(\"Acurácia: {0:.4f}\".format(metricas_modelo_rf_cv.accuracy))\n",
        "print(\"F1 Score: {0:.4f}\".format(metricas_modelo_rf_cv.weightedFMeasure()))\n",
        "print(\"AUC: {0:.4f} {1}\".format(metricas_binaria_modelo_rf_cv.areaUnderROC,'\\n'))\n",
        "\n",
        "# Matriz de confução\n",
        "print('matriz de confusão')\n",
        "print(metricas_modelo_rf_cv.confusionMatrix())"
      ],
      "metadata": {
        "colab": {
          "base_uri": "https://localhost:8080/"
        },
        "outputId": "e89ba30c-0d23-4f44-a6e4-5202892bfb52",
        "id": "uYw_jTG-P6Mr"
      },
      "execution_count": null,
      "outputs": [
        {
          "output_type": "stream",
          "name": "stdout",
          "text": [
            "Acurácia: 0.7738\n",
            "F1 Score: 0.7589\n",
            "AUC: 0.7130 \n",
            "\n",
            "matriz de confusão\n",
            "DenseMatrix([[50.,  4.],\n",
            "             [15., 15.]])\n"
          ]
        }
      ]
    },
    {
      "cell_type": "markdown",
      "source": [
        "# **Teste 3 - Variáveis: serum creatinine e ejection fraction . Nenhuma transformação**\n",
        "\n",
        "Citation\n",
        "Davide Chicco, Giuseppe Jurman: Machine learning can predict survival of patients with heart failure from serum creatinine and ejection fraction alone. BMC Medical Informatics and Decision Making 20, 16 (2020).\n",
        "https://bmcmedinformdecismak.biomedcentral.com/articles/10.1186/s12911-020-1023-5"
      ],
      "metadata": {
        "id": "-2BHkE82NcTS"
      }
    },
    {
      "cell_type": "markdown",
      "source": [
        "## **Pré-Processamento para Machine Learning**"
      ],
      "metadata": {
        "id": "_gx2MYkQNcTT"
      }
    },
    {
      "cell_type": "code",
      "source": [
        "COLUMNS = ['serum_creatinine', 'ejection_fraction']"
      ],
      "metadata": {
        "id": "XqMnZivbNcTT"
      },
      "execution_count": null,
      "outputs": []
    },
    {
      "cell_type": "code",
      "source": [
        "# criando uma coluna com todas as preditoras\n",
        "from pyspark.ml.linalg import Vectors\n",
        "from pyspark.ml.feature import VectorAssembler, StandardScaler\n",
        "\n",
        "# Definindo as preditoras\n",
        "def_preditoras = VectorAssembler(inputCols=COLUMNS, outputCol='preditoras')\n",
        "\n",
        "# Criando uma coluna com todas as preditoras em novo dataset\n",
        "df_pred = def_preditoras.transform(df)\n",
        "\n",
        "# Transformando os dados\n",
        "#standardScaler = StandardScaler(inputCol='preditoras', outputCol='preditoras_scaled')\n",
        "#scaled_df = standardScaler.fit(df_pred).transform(df_pred)\n",
        "#scaled_df.select('preditoras', 'preditoras_scaled').show(10, truncate=False)"
      ],
      "metadata": {
        "id": "cOQiy7PYNcTT"
      },
      "execution_count": null,
      "outputs": []
    },
    {
      "cell_type": "code",
      "source": [
        "# Pegando somente os atributos que serao utilizados na modelagem\n",
        "df_ml = df_pred.select('DEATH_EVENT', 'preditoras')\n",
        "\n",
        "# Espiando dataset final\n",
        "df_ml.show()"
      ],
      "metadata": {
        "colab": {
          "base_uri": "https://localhost:8080/"
        },
        "outputId": "46129bf6-2361-4557-95d2-fef67c5fc4a2",
        "id": "VQ0PuNS_NcTU"
      },
      "execution_count": null,
      "outputs": [
        {
          "output_type": "stream",
          "name": "stdout",
          "text": [
            "+-----------+----------+\n",
            "|DEATH_EVENT|preditoras|\n",
            "+-----------+----------+\n",
            "|          1|[1.9,20.0]|\n",
            "|          1|[1.1,38.0]|\n",
            "|          1|[1.3,20.0]|\n",
            "|          1|[1.9,20.0]|\n",
            "|          1|[2.7,20.0]|\n",
            "|          1|[2.1,40.0]|\n",
            "|          1|[1.2,15.0]|\n",
            "|          1|[1.1,60.0]|\n",
            "|          1|[1.5,65.0]|\n",
            "|          1|[9.4,35.0]|\n",
            "|          1|[4.0,38.0]|\n",
            "|          1|[0.9,25.0]|\n",
            "|          1|[1.1,30.0]|\n",
            "|          1|[1.1,38.0]|\n",
            "|          0|[1.0,30.0]|\n",
            "|          1|[1.3,50.0]|\n",
            "|          1|[0.9,38.0]|\n",
            "|          1|[0.8,14.0]|\n",
            "|          1|[1.0,25.0]|\n",
            "|          1|[1.9,55.0]|\n",
            "+-----------+----------+\n",
            "only showing top 20 rows\n",
            "\n"
          ]
        }
      ]
    },
    {
      "cell_type": "markdown",
      "source": [
        "## **Dividindo o dataset entre treino e teste**"
      ],
      "metadata": {
        "id": "JRJgqxXENcTU"
      }
    },
    {
      "cell_type": "code",
      "source": [
        "# Separando os dados entre treino e teste\n",
        "df_treino, df_teste = df_ml.randomSplit([.75,.25], seed=23112022)"
      ],
      "metadata": {
        "id": "Hw_AjD8iNcTU"
      },
      "execution_count": null,
      "outputs": []
    },
    {
      "cell_type": "markdown",
      "source": [
        "## **Regressão Logística**"
      ],
      "metadata": {
        "id": "sgPeE9yXNcTU"
      }
    },
    {
      "cell_type": "code",
      "source": [
        "from pyspark.ml.classification import LogisticRegression"
      ],
      "metadata": {
        "id": "8Z_9qe7-NcTU"
      },
      "execution_count": null,
      "outputs": []
    },
    {
      "cell_type": "code",
      "source": [
        "# Definindo\n",
        "rl= LogisticRegression(\n",
        "    featuresCol='preditoras', \n",
        "    labelCol='DEATH_EVENT', \n",
        "    predictionCol='DEATH_EVENT_PRED')"
      ],
      "metadata": {
        "id": "m4iWudU5NcTV"
      },
      "execution_count": null,
      "outputs": []
    },
    {
      "cell_type": "code",
      "source": [
        "# Treinando\n",
        "modelo_rl = rl.fit(df_treino)"
      ],
      "metadata": {
        "id": "R3jDwonENcTV"
      },
      "execution_count": null,
      "outputs": []
    },
    {
      "cell_type": "code",
      "source": [
        "# Ajustando aos dados de teste\n",
        "modelo_rl_pred = modelo_rl.transform(df_teste)"
      ],
      "metadata": {
        "id": "oGqhE5UnNcTV"
      },
      "execution_count": null,
      "outputs": []
    },
    {
      "cell_type": "code",
      "source": [
        "# Selecionando a coluna do valor_total preditas e observadas\n",
        "predita_observada_rl = modelo_rl_pred.select('DEATH_EVENT_PRED','DEATH_EVENT')\n",
        "predita_observada_rl.show()"
      ],
      "metadata": {
        "colab": {
          "base_uri": "https://localhost:8080/"
        },
        "outputId": "c01534ff-7c72-4ff1-e457-470a45930e45",
        "id": "qA020N9kNcTV"
      },
      "execution_count": null,
      "outputs": [
        {
          "output_type": "stream",
          "name": "stdout",
          "text": [
            "+----------------+-----------+\n",
            "|DEATH_EVENT_PRED|DEATH_EVENT|\n",
            "+----------------+-----------+\n",
            "|             0.0|          0|\n",
            "|             0.0|          0|\n",
            "|             0.0|          0|\n",
            "|             0.0|          0|\n",
            "|             0.0|          0|\n",
            "|             0.0|          0|\n",
            "|             0.0|          0|\n",
            "|             0.0|          0|\n",
            "|             0.0|          0|\n",
            "|             0.0|          0|\n",
            "|             0.0|          0|\n",
            "|             0.0|          0|\n",
            "|             0.0|          0|\n",
            "|             0.0|          0|\n",
            "|             0.0|          0|\n",
            "|             0.0|          0|\n",
            "|             0.0|          0|\n",
            "|             0.0|          0|\n",
            "|             0.0|          0|\n",
            "|             0.0|          0|\n",
            "+----------------+-----------+\n",
            "only showing top 20 rows\n",
            "\n"
          ]
        }
      ]
    },
    {
      "cell_type": "code",
      "source": [
        "# Matriz de confusão\n",
        "predita_observada_rl\\\n",
        "  .crosstab('DEATH_EVENT', 'DEATH_EVENT_PRED')\\\n",
        "  .orderBy('DEATH_EVENT_DEATH_EVENT_PRED')\\\n",
        "  .show()"
      ],
      "metadata": {
        "colab": {
          "base_uri": "https://localhost:8080/"
        },
        "outputId": "9b015a1c-cbe9-45d6-aaf8-8f4150cf6855",
        "id": "gtyJMc4WNcTW"
      },
      "execution_count": null,
      "outputs": [
        {
          "output_type": "stream",
          "name": "stdout",
          "text": [
            "+----------------------------+---+---+\n",
            "|DEATH_EVENT_DEATH_EVENT_PRED|0.0|1.0|\n",
            "+----------------------------+---+---+\n",
            "|                           0| 52|  2|\n",
            "|                           1| 20| 10|\n",
            "+----------------------------+---+---+\n",
            "\n"
          ]
        }
      ]
    },
    {
      "cell_type": "code",
      "source": [
        "# Alterando o tipo da variável\n",
        "predita_observada_rl = predita_observada_rl.withColumn(\"DEATH_EVENT\", \n",
        "                 predita_observada_rl[\"DEATH_EVENT\"].cast('double'))\n",
        "predita_observada_rl.printSchema()"
      ],
      "metadata": {
        "colab": {
          "base_uri": "https://localhost:8080/"
        },
        "outputId": "e0dd3b57-dc0f-4772-9767-797f7e34b59c",
        "id": "0ngRU-NtNcTW"
      },
      "execution_count": null,
      "outputs": [
        {
          "output_type": "stream",
          "name": "stdout",
          "text": [
            "root\n",
            " |-- DEATH_EVENT_PRED: double (nullable = false)\n",
            " |-- DEATH_EVENT: double (nullable = true)\n",
            "\n"
          ]
        }
      ]
    },
    {
      "cell_type": "code",
      "source": [
        "# Verificando as métricas da qualidade do ajuste do modelo\n",
        "\n",
        "from pyspark.mllib.evaluation import BinaryClassificationMetrics\n",
        "from pyspark.mllib.evaluation import MulticlassMetrics\n",
        "\n",
        "# Calculando as métricas\n",
        "metricas_binaria_modelo_rl = BinaryClassificationMetrics(predita_observada_rl.rdd)\n",
        "metricas_modelo_rl = MulticlassMetrics(predita_observada_rl.rdd)\n",
        "\n",
        "# Calculando as métricas\n",
        "print(\"Acurácia: {0:.4f}\".format(metricas_modelo_rl.accuracy))\n",
        "print(\"F1 Score: {0:.4f}\".format(metricas_modelo_rl.weightedFMeasure()))\n",
        "print(\"AUC: {0:.4f} {1}\".format(metricas_binaria_modelo_rl.areaUnderROC,'\\n'))\n",
        "\n",
        "# Matriz de confução\n",
        "print('matriz de confusão')\n",
        "print(metricas_modelo_rl.confusionMatrix())"
      ],
      "metadata": {
        "colab": {
          "base_uri": "https://localhost:8080/"
        },
        "outputId": "76400a67-3ae6-4e17-91c6-d5f6a1233f42",
        "id": "6PtCnBURNcTW"
      },
      "execution_count": null,
      "outputs": [
        {
          "output_type": "stream",
          "name": "stdout",
          "text": [
            "Acurácia: 0.7381\n",
            "F1 Score: 0.7007\n",
            "AUC: 0.6481 \n",
            "\n",
            "matriz de confusão\n",
            "DenseMatrix([[52.,  2.],\n",
            "             [20., 10.]])\n"
          ]
        }
      ]
    },
    {
      "cell_type": "markdown",
      "source": [
        "## **Árvore de Decisão**"
      ],
      "metadata": {
        "id": "EZvt7Bw4NcTX"
      }
    },
    {
      "cell_type": "code",
      "source": [
        "from pyspark.ml.classification import DecisionTreeClassifier"
      ],
      "metadata": {
        "id": "BP6Xzi7WOfwd"
      },
      "execution_count": null,
      "outputs": []
    },
    {
      "cell_type": "code",
      "source": [
        "# definindo a árvore\n",
        "dt= DecisionTreeClassifier(\n",
        "    featuresCol='preditoras', \n",
        "    labelCol='DEATH_EVENT', \n",
        "    predictionCol='DEATH_EVENT_PRED',\n",
        "    maxDepth=5)"
      ],
      "metadata": {
        "id": "d-FhmJ6ONcTX"
      },
      "execution_count": null,
      "outputs": []
    },
    {
      "cell_type": "code",
      "source": [
        "# Treinando a árvore\n",
        "modelo_dt = dt.fit(df_treino)"
      ],
      "metadata": {
        "id": "VyjN-AO2NcTX"
      },
      "execution_count": null,
      "outputs": []
    },
    {
      "cell_type": "code",
      "source": [
        "# Ajustando a árvore aos dados de teste\n",
        "modelo_dt_pred = modelo_dt.transform(df_teste)"
      ],
      "metadata": {
        "id": "2p8ldKsONcTY"
      },
      "execution_count": null,
      "outputs": []
    },
    {
      "cell_type": "code",
      "source": [
        "# Selecionando a coluna valor_total preditas e observadas\n",
        "predita_observada_dt = modelo_dt_pred.select('DEATH_EVENT_PRED','DEATH_EVENT')\n",
        "predita_observada_dt.show()"
      ],
      "metadata": {
        "colab": {
          "base_uri": "https://localhost:8080/"
        },
        "outputId": "b1e30ae2-0dd9-41c5-fdb0-286f82d00d73",
        "id": "PYylvR9ONcTY"
      },
      "execution_count": null,
      "outputs": [
        {
          "output_type": "stream",
          "name": "stdout",
          "text": [
            "+----------------+-----------+\n",
            "|DEATH_EVENT_PRED|DEATH_EVENT|\n",
            "+----------------+-----------+\n",
            "|             0.0|          0|\n",
            "|             0.0|          0|\n",
            "|             0.0|          0|\n",
            "|             0.0|          0|\n",
            "|             0.0|          0|\n",
            "|             0.0|          0|\n",
            "|             1.0|          0|\n",
            "|             0.0|          0|\n",
            "|             0.0|          0|\n",
            "|             0.0|          0|\n",
            "|             0.0|          0|\n",
            "|             0.0|          0|\n",
            "|             0.0|          0|\n",
            "|             0.0|          0|\n",
            "|             0.0|          0|\n",
            "|             0.0|          0|\n",
            "|             0.0|          0|\n",
            "|             0.0|          0|\n",
            "|             0.0|          0|\n",
            "|             0.0|          0|\n",
            "+----------------+-----------+\n",
            "only showing top 20 rows\n",
            "\n"
          ]
        }
      ]
    },
    {
      "cell_type": "code",
      "source": [
        "# Matriz de confusão\n",
        "predita_observada_dt\\\n",
        "  .crosstab('DEATH_EVENT', 'DEATH_EVENT_PRED')\\\n",
        "  .orderBy('DEATH_EVENT_DEATH_EVENT_PRED')\\\n",
        "  .show()"
      ],
      "metadata": {
        "colab": {
          "base_uri": "https://localhost:8080/"
        },
        "outputId": "0a15bd7b-5fce-4fb0-a493-0582b9d338f5",
        "id": "C3M-iM9lNcTY"
      },
      "execution_count": null,
      "outputs": [
        {
          "output_type": "stream",
          "name": "stdout",
          "text": [
            "+----------------------------+---+---+\n",
            "|DEATH_EVENT_DEATH_EVENT_PRED|0.0|1.0|\n",
            "+----------------------------+---+---+\n",
            "|                           0| 51|  3|\n",
            "|                           1| 19| 11|\n",
            "+----------------------------+---+---+\n",
            "\n"
          ]
        }
      ]
    },
    {
      "cell_type": "code",
      "source": [
        "# Alterando o tipo da variável\n",
        "predita_observada_dt = predita_observada_dt.withColumn(\"DEATH_EVENT\", \n",
        "                 predita_observada_dt[\"DEATH_EVENT\"].cast('double'))\n",
        "predita_observada_dt.printSchema()"
      ],
      "metadata": {
        "colab": {
          "base_uri": "https://localhost:8080/"
        },
        "outputId": "8d81d042-4c9c-49d8-ceb5-3a6e7ee8fa6f",
        "id": "lZEmdpqiNcTZ"
      },
      "execution_count": null,
      "outputs": [
        {
          "output_type": "stream",
          "name": "stdout",
          "text": [
            "root\n",
            " |-- DEATH_EVENT_PRED: double (nullable = false)\n",
            " |-- DEATH_EVENT: double (nullable = true)\n",
            "\n"
          ]
        }
      ]
    },
    {
      "cell_type": "code",
      "source": [
        "from pyspark.mllib.evaluation import BinaryClassificationMetrics\n",
        "from pyspark.mllib.evaluation import MulticlassMetrics\n",
        "\n",
        "# Calculando as métricas\n",
        "metricas_binaria_modelo_dt = BinaryClassificationMetrics(predita_observada_dt.rdd)\n",
        "metricas_modelo_dt = MulticlassMetrics(predita_observada_dt.rdd)\n",
        "\n",
        "# Calculando as métricas\n",
        "print(\"Acurácia: {0:.4f}\".format(metricas_modelo_dt.accuracy))\n",
        "print(\"F1 Score: {0:.4f}\".format(metricas_modelo_dt.weightedFMeasure()))\n",
        "print(\"AUC: {0:.4f} {1}\".format(metricas_binaria_modelo_dt.areaUnderROC,'\\n'))\n",
        "\n",
        "# Matriz de confução\n",
        "print('matriz de confusão')\n",
        "print(metricas_modelo_dt.confusionMatrix())"
      ],
      "metadata": {
        "colab": {
          "base_uri": "https://localhost:8080/"
        },
        "outputId": "dd452120-058d-40a9-ec1c-cd84362cc2c0",
        "id": "1rOiKXp7NcTZ"
      },
      "execution_count": null,
      "outputs": [
        {
          "output_type": "stream",
          "name": "stdout",
          "text": [
            "Acurácia: 0.7381\n",
            "F1 Score: 0.7074\n",
            "AUC: 0.6556 \n",
            "\n",
            "matriz de confusão\n",
            "DenseMatrix([[51.,  3.],\n",
            "             [19., 11.]])\n"
          ]
        }
      ]
    },
    {
      "cell_type": "markdown",
      "source": [
        "## **Random Forest**"
      ],
      "metadata": {
        "id": "BDZN5tWcNcTZ"
      }
    },
    {
      "cell_type": "code",
      "source": [
        "from pyspark.ml.classification import RandomForestClassifier"
      ],
      "metadata": {
        "id": "wvu8BC2tNcTZ"
      },
      "execution_count": null,
      "outputs": []
    },
    {
      "cell_type": "code",
      "source": [
        "# definindo a floresta\n",
        "rf= RandomForestClassifier(\n",
        "    featuresCol='preditoras', \n",
        "    labelCol='DEATH_EVENT', \n",
        "    predictionCol='DEATH_EVENT_PRED',\n",
        "    maxDepth=5, \n",
        "    numTrees=100)"
      ],
      "metadata": {
        "id": "aDXgWKFTNcTa"
      },
      "execution_count": null,
      "outputs": []
    },
    {
      "cell_type": "code",
      "source": [
        "# Treinando a floresta\n",
        "modelo_rf = rf.fit(df_treino)"
      ],
      "metadata": {
        "id": "0mwP8KS3NcTa"
      },
      "execution_count": null,
      "outputs": []
    },
    {
      "cell_type": "code",
      "source": [
        "# Ajustando a floresta aos dados de teste\n",
        "modelo_rf_pred = modelo_rf.transform(df_teste)"
      ],
      "metadata": {
        "id": "QW7jtQIYNcTa"
      },
      "execution_count": null,
      "outputs": []
    },
    {
      "cell_type": "code",
      "source": [
        "# Selecionando as colunas valor_total preditas e observadas\n",
        "predita_observada_rf = modelo_rf_pred.select('DEATH_EVENT_PRED','DEATH_EVENT')\n",
        "predita_observada_rf.show()"
      ],
      "metadata": {
        "colab": {
          "base_uri": "https://localhost:8080/"
        },
        "outputId": "d5626b54-afb2-4645-935d-b7169f226439",
        "id": "6n4LgpV8NcTa"
      },
      "execution_count": null,
      "outputs": [
        {
          "output_type": "stream",
          "name": "stdout",
          "text": [
            "+----------------+-----------+\n",
            "|DEATH_EVENT_PRED|DEATH_EVENT|\n",
            "+----------------+-----------+\n",
            "|             0.0|          0|\n",
            "|             0.0|          0|\n",
            "|             0.0|          0|\n",
            "|             0.0|          0|\n",
            "|             0.0|          0|\n",
            "|             0.0|          0|\n",
            "|             1.0|          0|\n",
            "|             0.0|          0|\n",
            "|             0.0|          0|\n",
            "|             0.0|          0|\n",
            "|             0.0|          0|\n",
            "|             0.0|          0|\n",
            "|             0.0|          0|\n",
            "|             0.0|          0|\n",
            "|             0.0|          0|\n",
            "|             0.0|          0|\n",
            "|             0.0|          0|\n",
            "|             0.0|          0|\n",
            "|             0.0|          0|\n",
            "|             0.0|          0|\n",
            "+----------------+-----------+\n",
            "only showing top 20 rows\n",
            "\n"
          ]
        }
      ]
    },
    {
      "cell_type": "code",
      "source": [
        "# Matriz de confusão\n",
        "predita_observada_rf\\\n",
        "  .crosstab('DEATH_EVENT', 'DEATH_EVENT_PRED')\\\n",
        "  .orderBy('DEATH_EVENT_DEATH_EVENT_PRED')\\\n",
        "  .show()"
      ],
      "metadata": {
        "colab": {
          "base_uri": "https://localhost:8080/"
        },
        "outputId": "56298bf5-bc03-4e77-a17b-267aab013ed0",
        "id": "oi0QlmXqNcTa"
      },
      "execution_count": null,
      "outputs": [
        {
          "output_type": "stream",
          "name": "stdout",
          "text": [
            "+----------------------------+---+---+\n",
            "|DEATH_EVENT_DEATH_EVENT_PRED|0.0|1.0|\n",
            "+----------------------------+---+---+\n",
            "|                           0| 50|  4|\n",
            "|                           1| 17| 13|\n",
            "+----------------------------+---+---+\n",
            "\n"
          ]
        }
      ]
    },
    {
      "cell_type": "code",
      "source": [
        "# Alterando o tipo da variável\n",
        "predita_observada_rf = predita_observada_rf.withColumn(\"DEATH_EVENT\", \n",
        "                 predita_observada_rf[\"DEATH_EVENT\"].cast('double'))\n",
        "predita_observada_rf.printSchema()"
      ],
      "metadata": {
        "colab": {
          "base_uri": "https://localhost:8080/"
        },
        "outputId": "91604add-3b16-4a29-8eca-27e76819619f",
        "id": "Sqj3c9KwNcTb"
      },
      "execution_count": null,
      "outputs": [
        {
          "output_type": "stream",
          "name": "stdout",
          "text": [
            "root\n",
            " |-- DEATH_EVENT_PRED: double (nullable = false)\n",
            " |-- DEATH_EVENT: double (nullable = true)\n",
            "\n"
          ]
        }
      ]
    },
    {
      "cell_type": "code",
      "source": [
        "# Verificando as métricas da qualidade do ajuste do modelo\n",
        "\n",
        "from pyspark.mllib.evaluation import BinaryClassificationMetrics\n",
        "from pyspark.mllib.evaluation import MulticlassMetrics\n",
        "\n",
        "# Calculando as métricas\n",
        "metricas_binaria_modelo_rf = BinaryClassificationMetrics(predita_observada_rf.rdd)\n",
        "metricas_modelo_rf = MulticlassMetrics(predita_observada_rf.rdd)\n",
        "\n",
        "# Calculando as métricas\n",
        "print(\"Acurácia: {0:.4f}\".format(metricas_modelo_rf.accuracy))\n",
        "print(\"F1 Score: {0:.4f}\".format(metricas_modelo_rf.weightedFMeasure()))\n",
        "print(\"AUC: {0:.4f} {1}\".format(metricas_binaria_modelo_rf.areaUnderROC,'\\n'))\n",
        "\n",
        "# Matriz de confução\n",
        "print('matriz de confusão')\n",
        "print(metricas_modelo_rf.confusionMatrix())"
      ],
      "metadata": {
        "colab": {
          "base_uri": "https://localhost:8080/"
        },
        "outputId": "c3ad9b01-84a5-4f3e-a4ad-745072e575f6",
        "id": "XaJ6DuURNcTb"
      },
      "execution_count": null,
      "outputs": [
        {
          "output_type": "stream",
          "name": "stdout",
          "text": [
            "Acurácia: 0.7500\n",
            "F1 Score: 0.7289\n",
            "AUC: 0.6796 \n",
            "\n",
            "matriz de confusão\n",
            "DenseMatrix([[50.,  4.],\n",
            "             [17., 13.]])\n"
          ]
        }
      ]
    },
    {
      "cell_type": "markdown",
      "source": [
        "## **Tunando o melhor modelo**"
      ],
      "metadata": {
        "id": "SIHh6-81NcTb"
      }
    },
    {
      "cell_type": "code",
      "source": [
        "from pyspark.ml import Pipeline\n",
        "from pyspark.ml.tuning import ParamGridBuilder\n",
        "from pyspark.ml.tuning import TrainValidationSplit\n",
        "from pyspark.ml.tuning import CrossValidator\n",
        "from pyspark.ml.evaluation import MulticlassClassificationEvaluator "
      ],
      "metadata": {
        "id": "Bp4B0NyqNcTb"
      },
      "execution_count": null,
      "outputs": []
    },
    {
      "cell_type": "markdown",
      "source": [
        "### **Configurações gerais**"
      ],
      "metadata": {
        "id": "wEOeFjx6NcTc"
      }
    },
    {
      "cell_type": "code",
      "source": [
        "# definindo a floresta\n",
        "floresta = RandomForestClassifier(\n",
        "    featuresCol='preditoras', \n",
        "    labelCol='DEATH_EVENT', \n",
        "    predictionCol='DEATH_EVENT_PRED'\n",
        "    )"
      ],
      "metadata": {
        "id": "1uMddqB-NcTc"
      },
      "execution_count": null,
      "outputs": []
    },
    {
      "cell_type": "code",
      "source": [
        "pipeline = Pipeline(stages=[floresta])"
      ],
      "metadata": {
        "id": "L2nOJQpPNcTc"
      },
      "execution_count": null,
      "outputs": []
    },
    {
      "cell_type": "code",
      "source": [
        "paramGrid = ParamGridBuilder() \\\n",
        "    .addGrid(floresta.maxDepth, [3, 4, 5, 6, 7,8]) \\\n",
        "    .addGrid(floresta.numTrees, [10, 50, 100, 1000]) \\\n",
        "    .build()"
      ],
      "metadata": {
        "id": "rF4iojuCNcTc"
      },
      "execution_count": null,
      "outputs": []
    },
    {
      "cell_type": "code",
      "source": [
        "paramGrid"
      ],
      "metadata": {
        "id": "VPTZq0HHNcTc",
        "colab": {
          "base_uri": "https://localhost:8080/"
        },
        "outputId": "2ebeabdb-6099-4665-c0d0-b9ef7189c82d"
      },
      "execution_count": null,
      "outputs": [
        {
          "output_type": "execute_result",
          "data": {
            "text/plain": [
              "[{Param(parent='RandomForestClassifier_c67edd695dea', name='maxDepth', doc='Maximum depth of the tree. (>= 0) E.g., depth 0 means 1 leaf node; depth 1 means 1 internal node + 2 leaf nodes.'): 3,\n",
              "  Param(parent='RandomForestClassifier_c67edd695dea', name='numTrees', doc='Number of trees to train (>= 1).'): 10},\n",
              " {Param(parent='RandomForestClassifier_c67edd695dea', name='maxDepth', doc='Maximum depth of the tree. (>= 0) E.g., depth 0 means 1 leaf node; depth 1 means 1 internal node + 2 leaf nodes.'): 3,\n",
              "  Param(parent='RandomForestClassifier_c67edd695dea', name='numTrees', doc='Number of trees to train (>= 1).'): 50},\n",
              " {Param(parent='RandomForestClassifier_c67edd695dea', name='maxDepth', doc='Maximum depth of the tree. (>= 0) E.g., depth 0 means 1 leaf node; depth 1 means 1 internal node + 2 leaf nodes.'): 3,\n",
              "  Param(parent='RandomForestClassifier_c67edd695dea', name='numTrees', doc='Number of trees to train (>= 1).'): 100},\n",
              " {Param(parent='RandomForestClassifier_c67edd695dea', name='maxDepth', doc='Maximum depth of the tree. (>= 0) E.g., depth 0 means 1 leaf node; depth 1 means 1 internal node + 2 leaf nodes.'): 3,\n",
              "  Param(parent='RandomForestClassifier_c67edd695dea', name='numTrees', doc='Number of trees to train (>= 1).'): 1000},\n",
              " {Param(parent='RandomForestClassifier_c67edd695dea', name='maxDepth', doc='Maximum depth of the tree. (>= 0) E.g., depth 0 means 1 leaf node; depth 1 means 1 internal node + 2 leaf nodes.'): 4,\n",
              "  Param(parent='RandomForestClassifier_c67edd695dea', name='numTrees', doc='Number of trees to train (>= 1).'): 10},\n",
              " {Param(parent='RandomForestClassifier_c67edd695dea', name='maxDepth', doc='Maximum depth of the tree. (>= 0) E.g., depth 0 means 1 leaf node; depth 1 means 1 internal node + 2 leaf nodes.'): 4,\n",
              "  Param(parent='RandomForestClassifier_c67edd695dea', name='numTrees', doc='Number of trees to train (>= 1).'): 50},\n",
              " {Param(parent='RandomForestClassifier_c67edd695dea', name='maxDepth', doc='Maximum depth of the tree. (>= 0) E.g., depth 0 means 1 leaf node; depth 1 means 1 internal node + 2 leaf nodes.'): 4,\n",
              "  Param(parent='RandomForestClassifier_c67edd695dea', name='numTrees', doc='Number of trees to train (>= 1).'): 100},\n",
              " {Param(parent='RandomForestClassifier_c67edd695dea', name='maxDepth', doc='Maximum depth of the tree. (>= 0) E.g., depth 0 means 1 leaf node; depth 1 means 1 internal node + 2 leaf nodes.'): 4,\n",
              "  Param(parent='RandomForestClassifier_c67edd695dea', name='numTrees', doc='Number of trees to train (>= 1).'): 1000},\n",
              " {Param(parent='RandomForestClassifier_c67edd695dea', name='maxDepth', doc='Maximum depth of the tree. (>= 0) E.g., depth 0 means 1 leaf node; depth 1 means 1 internal node + 2 leaf nodes.'): 5,\n",
              "  Param(parent='RandomForestClassifier_c67edd695dea', name='numTrees', doc='Number of trees to train (>= 1).'): 10},\n",
              " {Param(parent='RandomForestClassifier_c67edd695dea', name='maxDepth', doc='Maximum depth of the tree. (>= 0) E.g., depth 0 means 1 leaf node; depth 1 means 1 internal node + 2 leaf nodes.'): 5,\n",
              "  Param(parent='RandomForestClassifier_c67edd695dea', name='numTrees', doc='Number of trees to train (>= 1).'): 50},\n",
              " {Param(parent='RandomForestClassifier_c67edd695dea', name='maxDepth', doc='Maximum depth of the tree. (>= 0) E.g., depth 0 means 1 leaf node; depth 1 means 1 internal node + 2 leaf nodes.'): 5,\n",
              "  Param(parent='RandomForestClassifier_c67edd695dea', name='numTrees', doc='Number of trees to train (>= 1).'): 100},\n",
              " {Param(parent='RandomForestClassifier_c67edd695dea', name='maxDepth', doc='Maximum depth of the tree. (>= 0) E.g., depth 0 means 1 leaf node; depth 1 means 1 internal node + 2 leaf nodes.'): 5,\n",
              "  Param(parent='RandomForestClassifier_c67edd695dea', name='numTrees', doc='Number of trees to train (>= 1).'): 1000},\n",
              " {Param(parent='RandomForestClassifier_c67edd695dea', name='maxDepth', doc='Maximum depth of the tree. (>= 0) E.g., depth 0 means 1 leaf node; depth 1 means 1 internal node + 2 leaf nodes.'): 6,\n",
              "  Param(parent='RandomForestClassifier_c67edd695dea', name='numTrees', doc='Number of trees to train (>= 1).'): 10},\n",
              " {Param(parent='RandomForestClassifier_c67edd695dea', name='maxDepth', doc='Maximum depth of the tree. (>= 0) E.g., depth 0 means 1 leaf node; depth 1 means 1 internal node + 2 leaf nodes.'): 6,\n",
              "  Param(parent='RandomForestClassifier_c67edd695dea', name='numTrees', doc='Number of trees to train (>= 1).'): 50},\n",
              " {Param(parent='RandomForestClassifier_c67edd695dea', name='maxDepth', doc='Maximum depth of the tree. (>= 0) E.g., depth 0 means 1 leaf node; depth 1 means 1 internal node + 2 leaf nodes.'): 6,\n",
              "  Param(parent='RandomForestClassifier_c67edd695dea', name='numTrees', doc='Number of trees to train (>= 1).'): 100},\n",
              " {Param(parent='RandomForestClassifier_c67edd695dea', name='maxDepth', doc='Maximum depth of the tree. (>= 0) E.g., depth 0 means 1 leaf node; depth 1 means 1 internal node + 2 leaf nodes.'): 6,\n",
              "  Param(parent='RandomForestClassifier_c67edd695dea', name='numTrees', doc='Number of trees to train (>= 1).'): 1000},\n",
              " {Param(parent='RandomForestClassifier_c67edd695dea', name='maxDepth', doc='Maximum depth of the tree. (>= 0) E.g., depth 0 means 1 leaf node; depth 1 means 1 internal node + 2 leaf nodes.'): 7,\n",
              "  Param(parent='RandomForestClassifier_c67edd695dea', name='numTrees', doc='Number of trees to train (>= 1).'): 10},\n",
              " {Param(parent='RandomForestClassifier_c67edd695dea', name='maxDepth', doc='Maximum depth of the tree. (>= 0) E.g., depth 0 means 1 leaf node; depth 1 means 1 internal node + 2 leaf nodes.'): 7,\n",
              "  Param(parent='RandomForestClassifier_c67edd695dea', name='numTrees', doc='Number of trees to train (>= 1).'): 50},\n",
              " {Param(parent='RandomForestClassifier_c67edd695dea', name='maxDepth', doc='Maximum depth of the tree. (>= 0) E.g., depth 0 means 1 leaf node; depth 1 means 1 internal node + 2 leaf nodes.'): 7,\n",
              "  Param(parent='RandomForestClassifier_c67edd695dea', name='numTrees', doc='Number of trees to train (>= 1).'): 100},\n",
              " {Param(parent='RandomForestClassifier_c67edd695dea', name='maxDepth', doc='Maximum depth of the tree. (>= 0) E.g., depth 0 means 1 leaf node; depth 1 means 1 internal node + 2 leaf nodes.'): 7,\n",
              "  Param(parent='RandomForestClassifier_c67edd695dea', name='numTrees', doc='Number of trees to train (>= 1).'): 1000},\n",
              " {Param(parent='RandomForestClassifier_c67edd695dea', name='maxDepth', doc='Maximum depth of the tree. (>= 0) E.g., depth 0 means 1 leaf node; depth 1 means 1 internal node + 2 leaf nodes.'): 8,\n",
              "  Param(parent='RandomForestClassifier_c67edd695dea', name='numTrees', doc='Number of trees to train (>= 1).'): 10},\n",
              " {Param(parent='RandomForestClassifier_c67edd695dea', name='maxDepth', doc='Maximum depth of the tree. (>= 0) E.g., depth 0 means 1 leaf node; depth 1 means 1 internal node + 2 leaf nodes.'): 8,\n",
              "  Param(parent='RandomForestClassifier_c67edd695dea', name='numTrees', doc='Number of trees to train (>= 1).'): 50},\n",
              " {Param(parent='RandomForestClassifier_c67edd695dea', name='maxDepth', doc='Maximum depth of the tree. (>= 0) E.g., depth 0 means 1 leaf node; depth 1 means 1 internal node + 2 leaf nodes.'): 8,\n",
              "  Param(parent='RandomForestClassifier_c67edd695dea', name='numTrees', doc='Number of trees to train (>= 1).'): 100},\n",
              " {Param(parent='RandomForestClassifier_c67edd695dea', name='maxDepth', doc='Maximum depth of the tree. (>= 0) E.g., depth 0 means 1 leaf node; depth 1 means 1 internal node + 2 leaf nodes.'): 8,\n",
              "  Param(parent='RandomForestClassifier_c67edd695dea', name='numTrees', doc='Number of trees to train (>= 1).'): 1000}]"
            ]
          },
          "metadata": {},
          "execution_count": 114
        }
      ]
    },
    {
      "cell_type": "code",
      "source": [
        "avaliador = MulticlassClassificationEvaluator(\n",
        "    predictionCol=\"DEATH_EVENT_PRED\", \n",
        "    labelCol='DEATH_EVENT', \n",
        "    metricName='f1'\n",
        ")"
      ],
      "metadata": {
        "id": "g4aN1wpuNcTc"
      },
      "execution_count": null,
      "outputs": []
    },
    {
      "cell_type": "markdown",
      "source": [
        "### **Utilizando TrainValidationSplit**"
      ],
      "metadata": {
        "id": "vnVALEDNNcTc"
      }
    },
    {
      "cell_type": "code",
      "source": [
        "# Definindo a tunagem através um hold-out com 1-fold\n",
        "tvs = TrainValidationSplit(estimator=pipeline,\n",
        "                           estimatorParamMaps=paramGrid,\n",
        "                           evaluator=avaliador,\n",
        "                           trainRatio=0.8)"
      ],
      "metadata": {
        "id": "QaCSI5wBNcTd"
      },
      "execution_count": null,
      "outputs": []
    },
    {
      "cell_type": "code",
      "source": [
        "# Rodando hold-out e escolhendo o melhor conjunto de parâmetros\n",
        "modelo_rf_tvs = tvs.fit(df_treino)"
      ],
      "metadata": {
        "id": "g5guXbHJNcTd"
      },
      "execution_count": null,
      "outputs": []
    },
    {
      "cell_type": "code",
      "source": [
        "import pandas as pd"
      ],
      "metadata": {
        "id": "7e571H-xYCJ6"
      },
      "execution_count": null,
      "outputs": []
    },
    {
      "cell_type": "code",
      "source": [
        "# Criando um dataframe com os modelos e o valor de f1 de cada modelo\n",
        "modelos = pd.DataFrame(data=modelo_rf_tvs.getEstimatorParamMaps())\n",
        "metricas = pd.DataFrame(data=modelo_rf_tvs.validationMetrics, columns=['f1'])\n",
        "df_f1 = pd.merge(left = modelos,right = metricas, left_index=True, right_index=True)\n",
        "df_f1.sort_values(by=['f1'], inplace=True, ascending=False)\n",
        "df_f1.head(24)"
      ],
      "metadata": {
        "colab": {
          "base_uri": "https://localhost:8080/",
          "height": 802
        },
        "outputId": "d046aeb2-8d4b-4dff-d2cd-f6fdf2aff52a",
        "id": "_OvIPXqANcTd"
      },
      "execution_count": null,
      "outputs": [
        {
          "output_type": "execute_result",
          "data": {
            "text/plain": [
              "    RandomForestClassifier_c67edd695dea__maxDepth  \\\n",
              "4                                               4   \n",
              "0                                               3   \n",
              "20                                              8   \n",
              "16                                              7   \n",
              "8                                               5   \n",
              "1                                               3   \n",
              "12                                              6   \n",
              "7                                               4   \n",
              "14                                              6   \n",
              "22                                              8   \n",
              "21                                              8   \n",
              "19                                              7   \n",
              "18                                              7   \n",
              "15                                              6   \n",
              "11                                              5   \n",
              "23                                              8   \n",
              "6                                               4   \n",
              "3                                               3   \n",
              "2                                               3   \n",
              "13                                              6   \n",
              "17                                              7   \n",
              "9                                               5   \n",
              "5                                               4   \n",
              "10                                              5   \n",
              "\n",
              "    RandomForestClassifier_c67edd695dea__numTrees        f1  \n",
              "4                                              10  0.710271  \n",
              "0                                              10  0.689032  \n",
              "20                                             10  0.682780  \n",
              "16                                             10  0.682780  \n",
              "8                                              10  0.661983  \n",
              "1                                              50  0.661983  \n",
              "12                                             10  0.661983  \n",
              "7                                            1000  0.646473  \n",
              "14                                            100  0.641190  \n",
              "22                                            100  0.641190  \n",
              "21                                             50  0.641190  \n",
              "19                                           1000  0.641190  \n",
              "18                                            100  0.641190  \n",
              "15                                           1000  0.641190  \n",
              "11                                           1000  0.641190  \n",
              "23                                           1000  0.641190  \n",
              "6                                             100  0.620330  \n",
              "3                                            1000  0.620330  \n",
              "2                                             100  0.620330  \n",
              "13                                             50  0.613695  \n",
              "17                                             50  0.613695  \n",
              "9                                              50  0.613695  \n",
              "5                                              50  0.593349  \n",
              "10                                            100  0.593349  "
            ],
            "text/html": [
              "\n",
              "  <div id=\"df-2447118c-ebe4-47b7-a023-45e66cb3ebc5\">\n",
              "    <div class=\"colab-df-container\">\n",
              "      <div>\n",
              "<style scoped>\n",
              "    .dataframe tbody tr th:only-of-type {\n",
              "        vertical-align: middle;\n",
              "    }\n",
              "\n",
              "    .dataframe tbody tr th {\n",
              "        vertical-align: top;\n",
              "    }\n",
              "\n",
              "    .dataframe thead th {\n",
              "        text-align: right;\n",
              "    }\n",
              "</style>\n",
              "<table border=\"1\" class=\"dataframe\">\n",
              "  <thead>\n",
              "    <tr style=\"text-align: right;\">\n",
              "      <th></th>\n",
              "      <th>RandomForestClassifier_c67edd695dea__maxDepth</th>\n",
              "      <th>RandomForestClassifier_c67edd695dea__numTrees</th>\n",
              "      <th>f1</th>\n",
              "    </tr>\n",
              "  </thead>\n",
              "  <tbody>\n",
              "    <tr>\n",
              "      <th>4</th>\n",
              "      <td>4</td>\n",
              "      <td>10</td>\n",
              "      <td>0.710271</td>\n",
              "    </tr>\n",
              "    <tr>\n",
              "      <th>0</th>\n",
              "      <td>3</td>\n",
              "      <td>10</td>\n",
              "      <td>0.689032</td>\n",
              "    </tr>\n",
              "    <tr>\n",
              "      <th>20</th>\n",
              "      <td>8</td>\n",
              "      <td>10</td>\n",
              "      <td>0.682780</td>\n",
              "    </tr>\n",
              "    <tr>\n",
              "      <th>16</th>\n",
              "      <td>7</td>\n",
              "      <td>10</td>\n",
              "      <td>0.682780</td>\n",
              "    </tr>\n",
              "    <tr>\n",
              "      <th>8</th>\n",
              "      <td>5</td>\n",
              "      <td>10</td>\n",
              "      <td>0.661983</td>\n",
              "    </tr>\n",
              "    <tr>\n",
              "      <th>1</th>\n",
              "      <td>3</td>\n",
              "      <td>50</td>\n",
              "      <td>0.661983</td>\n",
              "    </tr>\n",
              "    <tr>\n",
              "      <th>12</th>\n",
              "      <td>6</td>\n",
              "      <td>10</td>\n",
              "      <td>0.661983</td>\n",
              "    </tr>\n",
              "    <tr>\n",
              "      <th>7</th>\n",
              "      <td>4</td>\n",
              "      <td>1000</td>\n",
              "      <td>0.646473</td>\n",
              "    </tr>\n",
              "    <tr>\n",
              "      <th>14</th>\n",
              "      <td>6</td>\n",
              "      <td>100</td>\n",
              "      <td>0.641190</td>\n",
              "    </tr>\n",
              "    <tr>\n",
              "      <th>22</th>\n",
              "      <td>8</td>\n",
              "      <td>100</td>\n",
              "      <td>0.641190</td>\n",
              "    </tr>\n",
              "    <tr>\n",
              "      <th>21</th>\n",
              "      <td>8</td>\n",
              "      <td>50</td>\n",
              "      <td>0.641190</td>\n",
              "    </tr>\n",
              "    <tr>\n",
              "      <th>19</th>\n",
              "      <td>7</td>\n",
              "      <td>1000</td>\n",
              "      <td>0.641190</td>\n",
              "    </tr>\n",
              "    <tr>\n",
              "      <th>18</th>\n",
              "      <td>7</td>\n",
              "      <td>100</td>\n",
              "      <td>0.641190</td>\n",
              "    </tr>\n",
              "    <tr>\n",
              "      <th>15</th>\n",
              "      <td>6</td>\n",
              "      <td>1000</td>\n",
              "      <td>0.641190</td>\n",
              "    </tr>\n",
              "    <tr>\n",
              "      <th>11</th>\n",
              "      <td>5</td>\n",
              "      <td>1000</td>\n",
              "      <td>0.641190</td>\n",
              "    </tr>\n",
              "    <tr>\n",
              "      <th>23</th>\n",
              "      <td>8</td>\n",
              "      <td>1000</td>\n",
              "      <td>0.641190</td>\n",
              "    </tr>\n",
              "    <tr>\n",
              "      <th>6</th>\n",
              "      <td>4</td>\n",
              "      <td>100</td>\n",
              "      <td>0.620330</td>\n",
              "    </tr>\n",
              "    <tr>\n",
              "      <th>3</th>\n",
              "      <td>3</td>\n",
              "      <td>1000</td>\n",
              "      <td>0.620330</td>\n",
              "    </tr>\n",
              "    <tr>\n",
              "      <th>2</th>\n",
              "      <td>3</td>\n",
              "      <td>100</td>\n",
              "      <td>0.620330</td>\n",
              "    </tr>\n",
              "    <tr>\n",
              "      <th>13</th>\n",
              "      <td>6</td>\n",
              "      <td>50</td>\n",
              "      <td>0.613695</td>\n",
              "    </tr>\n",
              "    <tr>\n",
              "      <th>17</th>\n",
              "      <td>7</td>\n",
              "      <td>50</td>\n",
              "      <td>0.613695</td>\n",
              "    </tr>\n",
              "    <tr>\n",
              "      <th>9</th>\n",
              "      <td>5</td>\n",
              "      <td>50</td>\n",
              "      <td>0.613695</td>\n",
              "    </tr>\n",
              "    <tr>\n",
              "      <th>5</th>\n",
              "      <td>4</td>\n",
              "      <td>50</td>\n",
              "      <td>0.593349</td>\n",
              "    </tr>\n",
              "    <tr>\n",
              "      <th>10</th>\n",
              "      <td>5</td>\n",
              "      <td>100</td>\n",
              "      <td>0.593349</td>\n",
              "    </tr>\n",
              "  </tbody>\n",
              "</table>\n",
              "</div>\n",
              "      <button class=\"colab-df-convert\" onclick=\"convertToInteractive('df-2447118c-ebe4-47b7-a023-45e66cb3ebc5')\"\n",
              "              title=\"Convert this dataframe to an interactive table.\"\n",
              "              style=\"display:none;\">\n",
              "        \n",
              "  <svg xmlns=\"http://www.w3.org/2000/svg\" height=\"24px\"viewBox=\"0 0 24 24\"\n",
              "       width=\"24px\">\n",
              "    <path d=\"M0 0h24v24H0V0z\" fill=\"none\"/>\n",
              "    <path d=\"M18.56 5.44l.94 2.06.94-2.06 2.06-.94-2.06-.94-.94-2.06-.94 2.06-2.06.94zm-11 1L8.5 8.5l.94-2.06 2.06-.94-2.06-.94L8.5 2.5l-.94 2.06-2.06.94zm10 10l.94 2.06.94-2.06 2.06-.94-2.06-.94-.94-2.06-.94 2.06-2.06.94z\"/><path d=\"M17.41 7.96l-1.37-1.37c-.4-.4-.92-.59-1.43-.59-.52 0-1.04.2-1.43.59L10.3 9.45l-7.72 7.72c-.78.78-.78 2.05 0 2.83L4 21.41c.39.39.9.59 1.41.59.51 0 1.02-.2 1.41-.59l7.78-7.78 2.81-2.81c.8-.78.8-2.07 0-2.86zM5.41 20L4 18.59l7.72-7.72 1.47 1.35L5.41 20z\"/>\n",
              "  </svg>\n",
              "      </button>\n",
              "      \n",
              "  <style>\n",
              "    .colab-df-container {\n",
              "      display:flex;\n",
              "      flex-wrap:wrap;\n",
              "      gap: 12px;\n",
              "    }\n",
              "\n",
              "    .colab-df-convert {\n",
              "      background-color: #E8F0FE;\n",
              "      border: none;\n",
              "      border-radius: 50%;\n",
              "      cursor: pointer;\n",
              "      display: none;\n",
              "      fill: #1967D2;\n",
              "      height: 32px;\n",
              "      padding: 0 0 0 0;\n",
              "      width: 32px;\n",
              "    }\n",
              "\n",
              "    .colab-df-convert:hover {\n",
              "      background-color: #E2EBFA;\n",
              "      box-shadow: 0px 1px 2px rgba(60, 64, 67, 0.3), 0px 1px 3px 1px rgba(60, 64, 67, 0.15);\n",
              "      fill: #174EA6;\n",
              "    }\n",
              "\n",
              "    [theme=dark] .colab-df-convert {\n",
              "      background-color: #3B4455;\n",
              "      fill: #D2E3FC;\n",
              "    }\n",
              "\n",
              "    [theme=dark] .colab-df-convert:hover {\n",
              "      background-color: #434B5C;\n",
              "      box-shadow: 0px 1px 3px 1px rgba(0, 0, 0, 0.15);\n",
              "      filter: drop-shadow(0px 1px 2px rgba(0, 0, 0, 0.3));\n",
              "      fill: #FFFFFF;\n",
              "    }\n",
              "  </style>\n",
              "\n",
              "      <script>\n",
              "        const buttonEl =\n",
              "          document.querySelector('#df-2447118c-ebe4-47b7-a023-45e66cb3ebc5 button.colab-df-convert');\n",
              "        buttonEl.style.display =\n",
              "          google.colab.kernel.accessAllowed ? 'block' : 'none';\n",
              "\n",
              "        async function convertToInteractive(key) {\n",
              "          const element = document.querySelector('#df-2447118c-ebe4-47b7-a023-45e66cb3ebc5');\n",
              "          const dataTable =\n",
              "            await google.colab.kernel.invokeFunction('convertToInteractive',\n",
              "                                                     [key], {});\n",
              "          if (!dataTable) return;\n",
              "\n",
              "          const docLinkHtml = 'Like what you see? Visit the ' +\n",
              "            '<a target=\"_blank\" href=https://colab.research.google.com/notebooks/data_table.ipynb>data table notebook</a>'\n",
              "            + ' to learn more about interactive tables.';\n",
              "          element.innerHTML = '';\n",
              "          dataTable['output_type'] = 'display_data';\n",
              "          await google.colab.output.renderOutput(dataTable, element);\n",
              "          const docLink = document.createElement('div');\n",
              "          docLink.innerHTML = docLinkHtml;\n",
              "          element.appendChild(docLink);\n",
              "        }\n",
              "      </script>\n",
              "    </div>\n",
              "  </div>\n",
              "  "
            ]
          },
          "metadata": {},
          "execution_count": 117
        }
      ]
    },
    {
      "cell_type": "code",
      "source": [
        "# Aplicando o melhor modelo ao conjunto de teste\n",
        "# Pegando os valores observados e preditos da variável target\n",
        "predita_observada_tvs = modelo_rf_tvs.\\\n",
        "                        transform(df_teste).\\\n",
        "                        select('DEATH_EVENT_PRED','DEATH_EVENT')"
      ],
      "metadata": {
        "id": "fH3yVcmMNcTd"
      },
      "execution_count": null,
      "outputs": []
    },
    {
      "cell_type": "code",
      "source": [
        "# Matriz de confusão\n",
        "predita_observada_tvs\\\n",
        "  .crosstab('DEATH_EVENT', 'DEATH_EVENT_PRED')\\\n",
        "  .orderBy('DEATH_EVENT_DEATH_EVENT_PRED')\\\n",
        "  .show()"
      ],
      "metadata": {
        "colab": {
          "base_uri": "https://localhost:8080/"
        },
        "outputId": "6356ffea-ecf0-4162-d9ef-af848cb3aa1e",
        "id": "Ic5n9epfNcTd"
      },
      "execution_count": null,
      "outputs": [
        {
          "output_type": "stream",
          "name": "stdout",
          "text": [
            "+----------------------------+---+---+\n",
            "|DEATH_EVENT_DEATH_EVENT_PRED|0.0|1.0|\n",
            "+----------------------------+---+---+\n",
            "|                           0| 49|  5|\n",
            "|                           1| 16| 14|\n",
            "+----------------------------+---+---+\n",
            "\n"
          ]
        }
      ]
    },
    {
      "cell_type": "code",
      "source": [
        "# Alterando o tipo da variável\n",
        "predita_observada_tvs = predita_observada_tvs.withColumn(\"DEATH_EVENT\", \n",
        "                 predita_observada_tvs[\"DEATH_EVENT\"].cast('double'))\n",
        "predita_observada_tvs.printSchema()"
      ],
      "metadata": {
        "colab": {
          "base_uri": "https://localhost:8080/"
        },
        "outputId": "46a8dee9-3d24-4ce3-d32c-1cf16b319ccd",
        "id": "DRGRP4P1NcTe"
      },
      "execution_count": null,
      "outputs": [
        {
          "output_type": "stream",
          "name": "stdout",
          "text": [
            "root\n",
            " |-- DEATH_EVENT_PRED: double (nullable = false)\n",
            " |-- DEATH_EVENT: double (nullable = true)\n",
            "\n"
          ]
        }
      ]
    },
    {
      "cell_type": "code",
      "source": [
        "# Verificando as métricas da qualidade do ajuste do modelo\n",
        "\n",
        "from pyspark.mllib.evaluation import BinaryClassificationMetrics\n",
        "from pyspark.mllib.evaluation import MulticlassMetrics\n",
        "\n",
        "# Calculando as métricas\n",
        "metricas_binaria_modelo_rf_tvs = BinaryClassificationMetrics(predita_observada_tvs.rdd)\n",
        "metricas_modelo_rf_tvs = MulticlassMetrics(predita_observada_tvs.rdd)\n",
        "\n",
        "# Calculando as métricas\n",
        "print(\"Acurácia: {0:.4f}\".format(metricas_modelo_rf_tvs.accuracy))\n",
        "print(\"F1 Score: {0:.4f}\".format(metricas_modelo_rf_tvs.weightedFMeasure()))\n",
        "print(\"AUC: {0:.4f} {1}\".format(metricas_binaria_modelo_rf_tvs.areaUnderROC,'\\n'))\n",
        "\n",
        "# Matriz de confução\n",
        "print('matriz de confusão')\n",
        "print(metricas_modelo_rf_tvs.confusionMatrix())"
      ],
      "metadata": {
        "colab": {
          "base_uri": "https://localhost:8080/"
        },
        "outputId": "4d3b6d0f-050f-4534-ad38-ab9d9a5ab8ba",
        "id": "YlPr-pXHNcTe"
      },
      "execution_count": null,
      "outputs": [
        {
          "output_type": "stream",
          "name": "stdout",
          "text": [
            "Acurácia: 0.7500\n",
            "F1 Score: 0.7335\n",
            "AUC: 0.6870 \n",
            "\n",
            "matriz de confusão\n",
            "DenseMatrix([[49.,  5.],\n",
            "             [16., 14.]])\n"
          ]
        }
      ]
    },
    {
      "cell_type": "markdown",
      "source": [
        "### **Utilizando o CrossValidator**"
      ],
      "metadata": {
        "id": "Sr_KQSyINcTe"
      }
    },
    {
      "cell_type": "code",
      "source": [
        "# Definindo a validação cruzada com 3-fold\n",
        "crossval = CrossValidator(estimator=pipeline,\n",
        "                          estimatorParamMaps=paramGrid,\n",
        "                          evaluator=avaliador,\n",
        "                          numFolds=3)"
      ],
      "metadata": {
        "id": "tx-8pJZdNcTe"
      },
      "execution_count": null,
      "outputs": []
    },
    {
      "cell_type": "code",
      "source": [
        "# Rodando a validação cruzada e escolhendo o melhor conjunto de parâmetros\n",
        "modelo_rf_cv = crossval.fit(df_treino)"
      ],
      "metadata": {
        "id": "inKnAVSrNcTe"
      },
      "execution_count": null,
      "outputs": []
    },
    {
      "cell_type": "code",
      "source": [
        "# Criando um dataframe com os modelos e o valor de f1 de cada modelo\n",
        "modelos = pd.DataFrame(data=modelo_rf_cv.getEstimatorParamMaps())\n",
        "metricas = pd.DataFrame(data=modelo_rf_cv.avgMetrics, columns=['f1'])\n",
        "df_f1 = pd.merge(left = modelos,right = metricas, left_index=True, right_index=True)\n",
        "df_f1.sort_values(by=['f1'], inplace=True, ascending=False)\n",
        "df_f1.head(24)"
      ],
      "metadata": {
        "colab": {
          "base_uri": "https://localhost:8080/",
          "height": 802
        },
        "outputId": "9d00cebc-dce0-4f92-eb9c-5644ad74eda5",
        "id": "RljcCWu-NcTf"
      },
      "execution_count": null,
      "outputs": [
        {
          "output_type": "execute_result",
          "data": {
            "text/plain": [
              "    RandomForestClassifier_c67edd695dea__maxDepth  \\\n",
              "8                                               5   \n",
              "16                                              7   \n",
              "12                                              6   \n",
              "17                                              7   \n",
              "20                                              8   \n",
              "21                                              8   \n",
              "9                                               5   \n",
              "15                                              6   \n",
              "13                                              6   \n",
              "6                                               4   \n",
              "11                                              5   \n",
              "5                                               4   \n",
              "4                                               4   \n",
              "14                                              6   \n",
              "10                                              5   \n",
              "2                                               3   \n",
              "7                                               4   \n",
              "18                                              7   \n",
              "22                                              8   \n",
              "3                                               3   \n",
              "1                                               3   \n",
              "0                                               3   \n",
              "23                                              8   \n",
              "19                                              7   \n",
              "\n",
              "    RandomForestClassifier_c67edd695dea__numTrees        f1  \n",
              "8                                              10  0.766567  \n",
              "16                                             10  0.765204  \n",
              "12                                             10  0.763428  \n",
              "17                                             50  0.752596  \n",
              "20                                             10  0.752577  \n",
              "21                                             50  0.748636  \n",
              "9                                              50  0.743702  \n",
              "15                                           1000  0.740484  \n",
              "13                                             50  0.740177  \n",
              "6                                             100  0.738797  \n",
              "11                                           1000  0.738534  \n",
              "5                                              50  0.737519  \n",
              "4                                              10  0.737148  \n",
              "14                                            100  0.736437  \n",
              "10                                            100  0.736437  \n",
              "2                                             100  0.735934  \n",
              "7                                            1000  0.732328  \n",
              "18                                            100  0.730594  \n",
              "22                                            100  0.729039  \n",
              "3                                            1000  0.725237  \n",
              "1                                              50  0.718780  \n",
              "0                                              10  0.718639  \n",
              "23                                           1000  0.717818  \n",
              "19                                           1000  0.709236  "
            ],
            "text/html": [
              "\n",
              "  <div id=\"df-aec10ca0-259b-40fc-80d2-461aeff5c650\">\n",
              "    <div class=\"colab-df-container\">\n",
              "      <div>\n",
              "<style scoped>\n",
              "    .dataframe tbody tr th:only-of-type {\n",
              "        vertical-align: middle;\n",
              "    }\n",
              "\n",
              "    .dataframe tbody tr th {\n",
              "        vertical-align: top;\n",
              "    }\n",
              "\n",
              "    .dataframe thead th {\n",
              "        text-align: right;\n",
              "    }\n",
              "</style>\n",
              "<table border=\"1\" class=\"dataframe\">\n",
              "  <thead>\n",
              "    <tr style=\"text-align: right;\">\n",
              "      <th></th>\n",
              "      <th>RandomForestClassifier_c67edd695dea__maxDepth</th>\n",
              "      <th>RandomForestClassifier_c67edd695dea__numTrees</th>\n",
              "      <th>f1</th>\n",
              "    </tr>\n",
              "  </thead>\n",
              "  <tbody>\n",
              "    <tr>\n",
              "      <th>8</th>\n",
              "      <td>5</td>\n",
              "      <td>10</td>\n",
              "      <td>0.766567</td>\n",
              "    </tr>\n",
              "    <tr>\n",
              "      <th>16</th>\n",
              "      <td>7</td>\n",
              "      <td>10</td>\n",
              "      <td>0.765204</td>\n",
              "    </tr>\n",
              "    <tr>\n",
              "      <th>12</th>\n",
              "      <td>6</td>\n",
              "      <td>10</td>\n",
              "      <td>0.763428</td>\n",
              "    </tr>\n",
              "    <tr>\n",
              "      <th>17</th>\n",
              "      <td>7</td>\n",
              "      <td>50</td>\n",
              "      <td>0.752596</td>\n",
              "    </tr>\n",
              "    <tr>\n",
              "      <th>20</th>\n",
              "      <td>8</td>\n",
              "      <td>10</td>\n",
              "      <td>0.752577</td>\n",
              "    </tr>\n",
              "    <tr>\n",
              "      <th>21</th>\n",
              "      <td>8</td>\n",
              "      <td>50</td>\n",
              "      <td>0.748636</td>\n",
              "    </tr>\n",
              "    <tr>\n",
              "      <th>9</th>\n",
              "      <td>5</td>\n",
              "      <td>50</td>\n",
              "      <td>0.743702</td>\n",
              "    </tr>\n",
              "    <tr>\n",
              "      <th>15</th>\n",
              "      <td>6</td>\n",
              "      <td>1000</td>\n",
              "      <td>0.740484</td>\n",
              "    </tr>\n",
              "    <tr>\n",
              "      <th>13</th>\n",
              "      <td>6</td>\n",
              "      <td>50</td>\n",
              "      <td>0.740177</td>\n",
              "    </tr>\n",
              "    <tr>\n",
              "      <th>6</th>\n",
              "      <td>4</td>\n",
              "      <td>100</td>\n",
              "      <td>0.738797</td>\n",
              "    </tr>\n",
              "    <tr>\n",
              "      <th>11</th>\n",
              "      <td>5</td>\n",
              "      <td>1000</td>\n",
              "      <td>0.738534</td>\n",
              "    </tr>\n",
              "    <tr>\n",
              "      <th>5</th>\n",
              "      <td>4</td>\n",
              "      <td>50</td>\n",
              "      <td>0.737519</td>\n",
              "    </tr>\n",
              "    <tr>\n",
              "      <th>4</th>\n",
              "      <td>4</td>\n",
              "      <td>10</td>\n",
              "      <td>0.737148</td>\n",
              "    </tr>\n",
              "    <tr>\n",
              "      <th>14</th>\n",
              "      <td>6</td>\n",
              "      <td>100</td>\n",
              "      <td>0.736437</td>\n",
              "    </tr>\n",
              "    <tr>\n",
              "      <th>10</th>\n",
              "      <td>5</td>\n",
              "      <td>100</td>\n",
              "      <td>0.736437</td>\n",
              "    </tr>\n",
              "    <tr>\n",
              "      <th>2</th>\n",
              "      <td>3</td>\n",
              "      <td>100</td>\n",
              "      <td>0.735934</td>\n",
              "    </tr>\n",
              "    <tr>\n",
              "      <th>7</th>\n",
              "      <td>4</td>\n",
              "      <td>1000</td>\n",
              "      <td>0.732328</td>\n",
              "    </tr>\n",
              "    <tr>\n",
              "      <th>18</th>\n",
              "      <td>7</td>\n",
              "      <td>100</td>\n",
              "      <td>0.730594</td>\n",
              "    </tr>\n",
              "    <tr>\n",
              "      <th>22</th>\n",
              "      <td>8</td>\n",
              "      <td>100</td>\n",
              "      <td>0.729039</td>\n",
              "    </tr>\n",
              "    <tr>\n",
              "      <th>3</th>\n",
              "      <td>3</td>\n",
              "      <td>1000</td>\n",
              "      <td>0.725237</td>\n",
              "    </tr>\n",
              "    <tr>\n",
              "      <th>1</th>\n",
              "      <td>3</td>\n",
              "      <td>50</td>\n",
              "      <td>0.718780</td>\n",
              "    </tr>\n",
              "    <tr>\n",
              "      <th>0</th>\n",
              "      <td>3</td>\n",
              "      <td>10</td>\n",
              "      <td>0.718639</td>\n",
              "    </tr>\n",
              "    <tr>\n",
              "      <th>23</th>\n",
              "      <td>8</td>\n",
              "      <td>1000</td>\n",
              "      <td>0.717818</td>\n",
              "    </tr>\n",
              "    <tr>\n",
              "      <th>19</th>\n",
              "      <td>7</td>\n",
              "      <td>1000</td>\n",
              "      <td>0.709236</td>\n",
              "    </tr>\n",
              "  </tbody>\n",
              "</table>\n",
              "</div>\n",
              "      <button class=\"colab-df-convert\" onclick=\"convertToInteractive('df-aec10ca0-259b-40fc-80d2-461aeff5c650')\"\n",
              "              title=\"Convert this dataframe to an interactive table.\"\n",
              "              style=\"display:none;\">\n",
              "        \n",
              "  <svg xmlns=\"http://www.w3.org/2000/svg\" height=\"24px\"viewBox=\"0 0 24 24\"\n",
              "       width=\"24px\">\n",
              "    <path d=\"M0 0h24v24H0V0z\" fill=\"none\"/>\n",
              "    <path d=\"M18.56 5.44l.94 2.06.94-2.06 2.06-.94-2.06-.94-.94-2.06-.94 2.06-2.06.94zm-11 1L8.5 8.5l.94-2.06 2.06-.94-2.06-.94L8.5 2.5l-.94 2.06-2.06.94zm10 10l.94 2.06.94-2.06 2.06-.94-2.06-.94-.94-2.06-.94 2.06-2.06.94z\"/><path d=\"M17.41 7.96l-1.37-1.37c-.4-.4-.92-.59-1.43-.59-.52 0-1.04.2-1.43.59L10.3 9.45l-7.72 7.72c-.78.78-.78 2.05 0 2.83L4 21.41c.39.39.9.59 1.41.59.51 0 1.02-.2 1.41-.59l7.78-7.78 2.81-2.81c.8-.78.8-2.07 0-2.86zM5.41 20L4 18.59l7.72-7.72 1.47 1.35L5.41 20z\"/>\n",
              "  </svg>\n",
              "      </button>\n",
              "      \n",
              "  <style>\n",
              "    .colab-df-container {\n",
              "      display:flex;\n",
              "      flex-wrap:wrap;\n",
              "      gap: 12px;\n",
              "    }\n",
              "\n",
              "    .colab-df-convert {\n",
              "      background-color: #E8F0FE;\n",
              "      border: none;\n",
              "      border-radius: 50%;\n",
              "      cursor: pointer;\n",
              "      display: none;\n",
              "      fill: #1967D2;\n",
              "      height: 32px;\n",
              "      padding: 0 0 0 0;\n",
              "      width: 32px;\n",
              "    }\n",
              "\n",
              "    .colab-df-convert:hover {\n",
              "      background-color: #E2EBFA;\n",
              "      box-shadow: 0px 1px 2px rgba(60, 64, 67, 0.3), 0px 1px 3px 1px rgba(60, 64, 67, 0.15);\n",
              "      fill: #174EA6;\n",
              "    }\n",
              "\n",
              "    [theme=dark] .colab-df-convert {\n",
              "      background-color: #3B4455;\n",
              "      fill: #D2E3FC;\n",
              "    }\n",
              "\n",
              "    [theme=dark] .colab-df-convert:hover {\n",
              "      background-color: #434B5C;\n",
              "      box-shadow: 0px 1px 3px 1px rgba(0, 0, 0, 0.15);\n",
              "      filter: drop-shadow(0px 1px 2px rgba(0, 0, 0, 0.3));\n",
              "      fill: #FFFFFF;\n",
              "    }\n",
              "  </style>\n",
              "\n",
              "      <script>\n",
              "        const buttonEl =\n",
              "          document.querySelector('#df-aec10ca0-259b-40fc-80d2-461aeff5c650 button.colab-df-convert');\n",
              "        buttonEl.style.display =\n",
              "          google.colab.kernel.accessAllowed ? 'block' : 'none';\n",
              "\n",
              "        async function convertToInteractive(key) {\n",
              "          const element = document.querySelector('#df-aec10ca0-259b-40fc-80d2-461aeff5c650');\n",
              "          const dataTable =\n",
              "            await google.colab.kernel.invokeFunction('convertToInteractive',\n",
              "                                                     [key], {});\n",
              "          if (!dataTable) return;\n",
              "\n",
              "          const docLinkHtml = 'Like what you see? Visit the ' +\n",
              "            '<a target=\"_blank\" href=https://colab.research.google.com/notebooks/data_table.ipynb>data table notebook</a>'\n",
              "            + ' to learn more about interactive tables.';\n",
              "          element.innerHTML = '';\n",
              "          dataTable['output_type'] = 'display_data';\n",
              "          await google.colab.output.renderOutput(dataTable, element);\n",
              "          const docLink = document.createElement('div');\n",
              "          docLink.innerHTML = docLinkHtml;\n",
              "          element.appendChild(docLink);\n",
              "        }\n",
              "      </script>\n",
              "    </div>\n",
              "  </div>\n",
              "  "
            ]
          },
          "metadata": {},
          "execution_count": 124
        }
      ]
    },
    {
      "cell_type": "code",
      "source": [
        "# Aplicando o melhor modelo ao conjunto de teste\n",
        "# Pegando os valores observados e preditos da variável target\n",
        "predita_observada_cv = modelo_rf_cv\\\n",
        "                        .transform(df_teste)\\\n",
        "                        .select('DEATH_EVENT_PRED','DEATH_EVENT')"
      ],
      "metadata": {
        "id": "_sKII2sXNcTf"
      },
      "execution_count": null,
      "outputs": []
    },
    {
      "cell_type": "code",
      "source": [
        "# Alterando o tipo da variável\n",
        "predita_observada_cv = predita_observada_cv.withColumn(\"DEATH_EVENT\", \n",
        "                                  predita_observada_cv[\"DEATH_EVENT\"]\n",
        "                                  .cast('double'))\n",
        "predita_observada_cv.printSchema()"
      ],
      "metadata": {
        "colab": {
          "base_uri": "https://localhost:8080/"
        },
        "outputId": "820bc016-c7bb-4141-c164-6b205e2de3d8",
        "id": "XRr5Tb9lNcTf"
      },
      "execution_count": null,
      "outputs": [
        {
          "output_type": "stream",
          "name": "stdout",
          "text": [
            "root\n",
            " |-- DEATH_EVENT_PRED: double (nullable = false)\n",
            " |-- DEATH_EVENT: double (nullable = true)\n",
            "\n"
          ]
        }
      ]
    },
    {
      "cell_type": "code",
      "source": [
        "# Verificando as métricas da qualidade do ajuste do modelo\n",
        "\n",
        "from pyspark.mllib.evaluation import BinaryClassificationMetrics\n",
        "from pyspark.mllib.evaluation import MulticlassMetrics\n",
        "\n",
        "# Calculando as métricas\n",
        "metricas_binaria_modelo_rf_cv = BinaryClassificationMetrics(predita_observada_cv.rdd)\n",
        "metricas_modelo_rf_cv = MulticlassMetrics(predita_observada_cv.rdd)\n",
        "\n",
        "# Calculando as métricas\n",
        "print(\"Acurácia: {0:.4f}\".format(metricas_modelo_rf_cv.accuracy))\n",
        "print(\"F1 Score: {0:.4f}\".format(metricas_modelo_rf_cv.weightedFMeasure()))\n",
        "print(\"AUC: {0:.4f} {1}\".format(metricas_binaria_modelo_rf_cv.areaUnderROC,'\\n'))\n",
        "\n",
        "print(\"Precision (1): {0:.4f}\".format(metricas_modelo_rf_cv.precision(1.0)))\n",
        "print(\"Recall (1): {0:.4f}\".format(metricas_modelo_rf_cv.recall(1.0)))\n",
        "print(\"F1 Score (1): {0:.4f} {1}\".format(metricas_modelo_rf_cv.fMeasure(1.0),'\\n'))\n",
        "\n",
        "print(\"Precision (0): {0:.4f}\".format(metricas_modelo_rf_cv.precision(0.0)))\n",
        "print(\"Recall (0): {0:.4f}\".format(metricas_modelo_rf_cv.recall(0.0)))\n",
        "print(\"F1 Score (0): {0:.4f} {1}\".format(metricas_modelo_rf_cv.fMeasure(0.0),'\\n'))\n",
        "\n",
        "# Matriz de confução\n",
        "print('matriz de confusão')\n",
        "print(metricas_modelo_rf_cv.confusionMatrix())"
      ],
      "metadata": {
        "colab": {
          "base_uri": "https://localhost:8080/"
        },
        "outputId": "2700fb04-81ea-4ebf-dfbe-7b437228c1b7",
        "id": "uvGEDm--NcTf"
      },
      "execution_count": null,
      "outputs": [
        {
          "output_type": "stream",
          "name": "stdout",
          "text": [
            "Acurácia: 0.7500\n",
            "F1 Score: 0.7335\n",
            "AUC: 0.6870 \n",
            "\n",
            "Precision (1): 0.7368\n",
            "Recall (1): 0.4667\n",
            "F1 Score (1): 0.5714 \n",
            "\n",
            "Precision (0): 0.7538\n",
            "Recall (0): 0.9074\n",
            "F1 Score (0): 0.8235 \n",
            "\n",
            "matriz de confusão\n",
            "DenseMatrix([[49.,  5.],\n",
            "             [16., 14.]])\n"
          ]
        }
      ]
    }
  ]
}